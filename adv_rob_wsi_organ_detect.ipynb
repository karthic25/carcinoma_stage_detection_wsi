{
 "cells": [
  {
   "cell_type": "code",
   "execution_count": 1,
   "id": "3c181693-3a50-428a-a306-503ccf34ccf3",
   "metadata": {},
   "outputs": [],
   "source": [
    "import os\n",
    "import cv2\n",
    "import numpy as np\n",
    "import matplotlib.pyplot as plt\n",
    "\n",
    "from sklearn.manifold import TSNE"
   ]
  },
  {
   "cell_type": "code",
   "execution_count": 2,
   "id": "a836c275-7dc7-4ac1-8721-af598fb7ce6b",
   "metadata": {},
   "outputs": [
    {
     "data": {
      "text/plain": [
       "(665, (512, 512, 3), (512, 512, 3))"
      ]
     },
     "execution_count": 2,
     "metadata": {},
     "output_type": "execute_result"
    }
   ],
   "source": [
    "images = []\n",
    "organs = []\n",
    "for organ in os.listdir('../organ_detection_wsi_data/Data'):\n",
    "    for im_path in os.listdir(f'../organ_detection_wsi_data/Data/{organ}/tissue images'):\n",
    "        if not im_path.endswith('.png'):\n",
    "            continue\n",
    "\n",
    "        im = cv2.imread(f'../organ_detection_wsi_data/Data/{organ}/tissue images/{im_path}')\n",
    "        im = cv2.cvtColor(im, cv2.COLOR_BGR2RGB)\n",
    "        im = im.astype(int)\n",
    "        \n",
    "        images.append(im)\n",
    "        organs.append(organ)\n",
    "        \n",
    "len(images), images[0].shape, images[1].shape"
   ]
  },
  {
   "cell_type": "code",
   "execution_count": 3,
   "id": "f5370c5a-fb97-4d59-85cf-179c27309cd1",
   "metadata": {},
   "outputs": [
    {
     "data": {
      "image/png": "[encoded data removed]",
      "text/plain": [
       "<Figure size 640x480 with 1 Axes>"
      ]
     },
     "metadata": {},
     "output_type": "display_data"
    }
   ],
   "source": [
    "plt.hist(images[0].reshape(-1, 3)[:, 0], bins=50, alpha=0.5, color='white', edgecolor='orange')\n",
    "plt.hist(images[1].reshape(-1, 3)[:, 0], bins=50, alpha=0.5, color='white', edgecolor='red')\n",
    "plt.show()"
   ]
  },
  {
   "cell_type": "code",
   "execution_count": 4,
   "id": "9f4e03ed-d14b-4a6d-b059-ffbe9da4ea3e",
   "metadata": {},
   "outputs": [
    {
     "data": {
      "text/plain": [
       "12"
      ]
     },
     "execution_count": 4,
     "metadata": {},
     "output_type": "execute_result"
    }
   ],
   "source": [
    "import multiprocessing as mp\n",
    "mp.cpu_count()"
   ]
  },
  {
   "cell_type": "code",
   "execution_count": 5,
   "id": "bb704c78-4a35-4c53-9c39-1abaeec90aa8",
   "metadata": {},
   "outputs": [
    {
     "data": {
      "text/plain": [
       "(262144, 3)"
      ]
     },
     "execution_count": 5,
     "metadata": {},
     "output_type": "execute_result"
    }
   ],
   "source": [
    "images[0].reshape(-1, 3).shape"
   ]
  },
  {
   "cell_type": "code",
   "execution_count": 6,
   "id": "1653c195-6d7b-4351-8470-65ff700ef23c",
   "metadata": {},
   "outputs": [
    {
     "name": "stdout",
     "output_type": "stream",
     "text": [
      "(174325760, 3)\n"
     ]
    },
    {
     "data": {
      "text/plain": [
       "array([[  83.4112  ,   21.302246],\n",
       "       [ -83.686325,  -60.079353],\n",
       "       [-101.32067 ,  -44.089687],\n",
       "       ...,\n",
       "       [ -61.731934, -116.17125 ],\n",
       "       [-123.62354 ,   12.424276],\n",
       "       [  71.487366,  -89.25204 ]], dtype=float32)"
      ]
     },
     "execution_count": 6,
     "metadata": {},
     "output_type": "execute_result"
    }
   ],
   "source": [
    "tsne = TSNE(n_jobs=10)\n",
    "\n",
    "im_pix = np.vstack(tuple([img.reshape(-1, 3) for img in images]))\n",
    "print(im_pix.shape)\n",
    "\n",
    "im_pix_rand = im_pix[np.random.choice(range(im_pix.shape[0]), 1000000), :]\n",
    "im_emb = tsne.fit_transform(im_pix_rand)\n",
    "im_emb"
   ]
  },
  {
   "cell_type": "code",
   "execution_count": 7,
   "id": "9c3fdc2c-12ef-40d4-b655-a7482d64e81e",
   "metadata": {},
   "outputs": [],
   "source": [
    "import pandas as pd\n",
    "\n",
    "pd.DataFrame(im_emb).to_csv('image_embeddings.csv')"
   ]
  },
  {
   "cell_type": "code",
   "execution_count": 202,
   "id": "494f4689-5995-4097-8c7b-31b634363700",
   "metadata": {},
   "outputs": [
    {
     "name": "stderr",
     "output_type": "stream",
     "text": [
      "C:\\Users\\karth\\AppData\\Local\\Temp\\ipykernel_6404\\4221810258.py:13: DeprecationWarning: DataFrameGroupBy.apply operated on the grouping columns. This behavior is deprecated, and in a future version of pandas the grouping columns will be excluded from the operation. Either pass `include_groups=False` to exclude the groupings or explicitly select the grouping columns after groupby to silence this warning.\n",
      "  test_df = train_df.groupby('label', group_keys=False).apply(lambda x: x.sample(frac=0.1)).reset_index(drop=True)\n"
     ]
    },
    {
     "name": "stdout",
     "output_type": "stream",
     "text": [
      "                                                     X  label  index\n",
      "595  [[[69, 29, 61], [75, 29, 61], [72, 30, 57], [7...     30    659\n",
      "596  [[[114, 55, 82], [113, 55, 80], [109, 56, 81],...     30    661\n",
      "597  [[[110, 64, 97], [99, 60, 97], [111, 65, 101],...     30    662\n",
      "598  [[[113, 59, 91], [123, 59, 92], [112, 64, 84],...     30    663\n",
      "599  [[[86, 41, 72], [95, 41, 70], [92, 45, 68], [9...     30    664\n"
     ]
    },
    {
     "data": {
      "text/plain": [
       "((600, 3), (65, 3))"
      ]
     },
     "execution_count": 202,
     "metadata": {},
     "output_type": "execute_result"
    }
   ],
   "source": [
    "import pandas as pd\n",
    "train_df = pd.Series(images)\n",
    "label = pd.Series(organs)\n",
    "index = pd.Series(range(train_df.shape[0]))\n",
    "train_df = pd.concat([train_df, label, index], axis=1, keys=['X', 'label', 'index'])\n",
    "\n",
    "organ_mapper = {}\n",
    "for o in organs:\n",
    "    class_id = len(organ_mapper)\n",
    "    organ_mapper[o] = class_id - 1\n",
    "train_df['label'] = train_df['label'].apply(lambda x: organ_mapper[x])\n",
    "\n",
    "test_df = train_df.groupby('label', group_keys=False).apply(lambda x: x.sample(frac=0.1)).reset_index(drop=True)\n",
    "train_df = train_df[~train_df['index'].isin(test_df['index'])].reset_index(drop=True)\n",
    "print(train_df.tail())\n",
    "# train_df = train_df.groupby('label', group_keys=False).sample(frac=1)\n",
    "# train_df = train_df.groupby('label', group_keys=False).apply(lambda x: x.reset_index(drop=True))\n",
    "# test_df = test_df.groupby('label', group_keys=False).sample(frac=1)\n",
    "# test_df = test_df.groupby('label', group_keys=False).apply(lambda x: x.reset_index(drop=True))\n",
    "train_df.shape, test_df.shape"
   ]
  },
  {
   "cell_type": "code",
   "execution_count": 204,
   "id": "0252c970-e950-402c-bbc9-9519f460fa42",
   "metadata": {},
   "outputs": [
    {
     "data": {
      "text/plain": [
       "1    [[[107, 79, 112], [94, 77, 116], [90, 77, 108]...\n",
       "Name: X, dtype: object"
      ]
     },
     "execution_count": 204,
     "metadata": {},
     "output_type": "execute_result"
    }
   ],
   "source": [
    "test_df[test_df['label'] == 1]['X']"
   ]
  },
  {
   "cell_type": "code",
   "execution_count": 205,
   "id": "ef01b124-fc4a-4a5b-8b94-2e332d4523c1",
   "metadata": {},
   "outputs": [
    {
     "data": {
      "text/plain": [
       "{dtype('int32')}"
      ]
     },
     "execution_count": 205,
     "metadata": {},
     "output_type": "execute_result"
    }
   ],
   "source": [
    "set(train_df['X'].apply(lambda x: x.dtype))"
   ]
  },
  {
   "cell_type": "code",
   "execution_count": 206,
   "id": "635125a8-2b81-441d-bd97-8e7e56e44c66",
   "metadata": {},
   "outputs": [
    {
     "name": "stdout",
     "output_type": "stream",
     "text": [
      "(600, 2) (600, 2)\n"
     ]
    }
   ],
   "source": [
    "train_df = train_df.drop('index', axis=1)\n",
    "test_df = test_df.drop('index', axis=1)\n",
    "print(train_df.shape, train_df.shape)"
   ]
  },
  {
   "cell_type": "code",
   "execution_count": 207,
   "id": "9bde01a2-f8c2-4b23-8627-fa8d6a180b48",
   "metadata": {},
   "outputs": [
    {
     "name": "stderr",
     "output_type": "stream",
     "text": [
      "C:\\Users\\karth\\anaconda3\\envs\\dev\\Lib\\site-packages\\torchvision\\models\\_utils.py:208: UserWarning: The parameter 'pretrained' is deprecated since 0.13 and may be removed in the future, please use 'weights' instead.\n",
      "  warnings.warn(\n",
      "C:\\Users\\karth\\anaconda3\\envs\\dev\\Lib\\site-packages\\torchvision\\models\\_utils.py:223: UserWarning: Arguments other than a weight enum or `None` for 'weights' are deprecated since 0.13 and may be removed in the future. The current behavior is equivalent to passing `weights=ResNet18_Weights.IMAGENET1K_V1`. You can also use `weights=ResNet18_Weights.DEFAULT` to get the most up-to-date weights.\n",
      "  warnings.warn(msg)\n"
     ]
    }
   ],
   "source": [
    "import torch\n",
    "device = torch.device(\"cuda\" if torch.cuda.is_available() else \"cpu\")\n",
    "\n",
    "num_classes = len(np.unique(organs))\n",
    "\n",
    "from torchvision import models\n",
    "import torch.nn as nn\n",
    "model_ft = models.resnet18(pretrained = True)\n",
    "num_ftrs = model_ft.fc.in_features\n",
    "model_ft.fc = nn.Linear(num_ftrs, num_classes)\n",
    "input_size = 224\n"
   ]
  },
  {
   "cell_type": "code",
   "execution_count": 208,
   "id": "d14229ce-0279-4dd1-8ad1-1d2ad649341b",
   "metadata": {
    "scrolled": true
   },
   "outputs": [
    {
     "data": {
      "text/plain": [
       "(ResNet(\n",
       "   (conv1): Conv2d(3, 64, kernel_size=(7, 7), stride=(2, 2), padding=(3, 3), bias=False)\n",
       "   (bn1): BatchNorm2d(64, eps=1e-05, momentum=0.1, affine=True, track_running_stats=True)\n",
       "   (relu): ReLU(inplace=True)\n",
       "   (maxpool): MaxPool2d(kernel_size=3, stride=2, padding=1, dilation=1, ceil_mode=False)\n",
       "   (layer1): Sequential(\n",
       "     (0): BasicBlock(\n",
       "       (conv1): Conv2d(64, 64, kernel_size=(3, 3), stride=(1, 1), padding=(1, 1), bias=False)\n",
       "       (bn1): BatchNorm2d(64, eps=1e-05, momentum=0.1, affine=True, track_running_stats=True)\n",
       "       (relu): ReLU(inplace=True)\n",
       "       (conv2): Conv2d(64, 64, kernel_size=(3, 3), stride=(1, 1), padding=(1, 1), bias=False)\n",
       "       (bn2): BatchNorm2d(64, eps=1e-05, momentum=0.1, affine=True, track_running_stats=True)\n",
       "     )\n",
       "     (1): BasicBlock(\n",
       "       (conv1): Conv2d(64, 64, kernel_size=(3, 3), stride=(1, 1), padding=(1, 1), bias=False)\n",
       "       (bn1): BatchNorm2d(64, eps=1e-05, momentum=0.1, affine=True, track_running_stats=True)\n",
       "       (relu): ReLU(inplace=True)\n",
       "       (conv2): Conv2d(64, 64, kernel_size=(3, 3), stride=(1, 1), padding=(1, 1), bias=False)\n",
       "       (bn2): BatchNorm2d(64, eps=1e-05, momentum=0.1, affine=True, track_running_stats=True)\n",
       "     )\n",
       "   )\n",
       "   (layer2): Sequential(\n",
       "     (0): BasicBlock(\n",
       "       (conv1): Conv2d(64, 128, kernel_size=(3, 3), stride=(2, 2), padding=(1, 1), bias=False)\n",
       "       (bn1): BatchNorm2d(128, eps=1e-05, momentum=0.1, affine=True, track_running_stats=True)\n",
       "       (relu): ReLU(inplace=True)\n",
       "       (conv2): Conv2d(128, 128, kernel_size=(3, 3), stride=(1, 1), padding=(1, 1), bias=False)\n",
       "       (bn2): BatchNorm2d(128, eps=1e-05, momentum=0.1, affine=True, track_running_stats=True)\n",
       "       (downsample): Sequential(\n",
       "         (0): Conv2d(64, 128, kernel_size=(1, 1), stride=(2, 2), bias=False)\n",
       "         (1): BatchNorm2d(128, eps=1e-05, momentum=0.1, affine=True, track_running_stats=True)\n",
       "       )\n",
       "     )\n",
       "     (1): BasicBlock(\n",
       "       (conv1): Conv2d(128, 128, kernel_size=(3, 3), stride=(1, 1), padding=(1, 1), bias=False)\n",
       "       (bn1): BatchNorm2d(128, eps=1e-05, momentum=0.1, affine=True, track_running_stats=True)\n",
       "       (relu): ReLU(inplace=True)\n",
       "       (conv2): Conv2d(128, 128, kernel_size=(3, 3), stride=(1, 1), padding=(1, 1), bias=False)\n",
       "       (bn2): BatchNorm2d(128, eps=1e-05, momentum=0.1, affine=True, track_running_stats=True)\n",
       "     )\n",
       "   )\n",
       "   (layer3): Sequential(\n",
       "     (0): BasicBlock(\n",
       "       (conv1): Conv2d(128, 256, kernel_size=(3, 3), stride=(2, 2), padding=(1, 1), bias=False)\n",
       "       (bn1): BatchNorm2d(256, eps=1e-05, momentum=0.1, affine=True, track_running_stats=True)\n",
       "       (relu): ReLU(inplace=True)\n",
       "       (conv2): Conv2d(256, 256, kernel_size=(3, 3), stride=(1, 1), padding=(1, 1), bias=False)\n",
       "       (bn2): BatchNorm2d(256, eps=1e-05, momentum=0.1, affine=True, track_running_stats=True)\n",
       "       (downsample): Sequential(\n",
       "         (0): Conv2d(128, 256, kernel_size=(1, 1), stride=(2, 2), bias=False)\n",
       "         (1): BatchNorm2d(256, eps=1e-05, momentum=0.1, affine=True, track_running_stats=True)\n",
       "       )\n",
       "     )\n",
       "     (1): BasicBlock(\n",
       "       (conv1): Conv2d(256, 256, kernel_size=(3, 3), stride=(1, 1), padding=(1, 1), bias=False)\n",
       "       (bn1): BatchNorm2d(256, eps=1e-05, momentum=0.1, affine=True, track_running_stats=True)\n",
       "       (relu): ReLU(inplace=True)\n",
       "       (conv2): Conv2d(256, 256, kernel_size=(3, 3), stride=(1, 1), padding=(1, 1), bias=False)\n",
       "       (bn2): BatchNorm2d(256, eps=1e-05, momentum=0.1, affine=True, track_running_stats=True)\n",
       "     )\n",
       "   )\n",
       "   (layer4): Sequential(\n",
       "     (0): BasicBlock(\n",
       "       (conv1): Conv2d(256, 512, kernel_size=(3, 3), stride=(2, 2), padding=(1, 1), bias=False)\n",
       "       (bn1): BatchNorm2d(512, eps=1e-05, momentum=0.1, affine=True, track_running_stats=True)\n",
       "       (relu): ReLU(inplace=True)\n",
       "       (conv2): Conv2d(512, 512, kernel_size=(3, 3), stride=(1, 1), padding=(1, 1), bias=False)\n",
       "       (bn2): BatchNorm2d(512, eps=1e-05, momentum=0.1, affine=True, track_running_stats=True)\n",
       "       (downsample): Sequential(\n",
       "         (0): Conv2d(256, 512, kernel_size=(1, 1), stride=(2, 2), bias=False)\n",
       "         (1): BatchNorm2d(512, eps=1e-05, momentum=0.1, affine=True, track_running_stats=True)\n",
       "       )\n",
       "     )\n",
       "     (1): BasicBlock(\n",
       "       (conv1): Conv2d(512, 512, kernel_size=(3, 3), stride=(1, 1), padding=(1, 1), bias=False)\n",
       "       (bn1): BatchNorm2d(512, eps=1e-05, momentum=0.1, affine=True, track_running_stats=True)\n",
       "       (relu): ReLU(inplace=True)\n",
       "       (conv2): Conv2d(512, 512, kernel_size=(3, 3), stride=(1, 1), padding=(1, 1), bias=False)\n",
       "       (bn2): BatchNorm2d(512, eps=1e-05, momentum=0.1, affine=True, track_running_stats=True)\n",
       "     )\n",
       "   )\n",
       "   (avgpool): AdaptiveAvgPool2d(output_size=(1, 1))\n",
       "   (fc): Linear(in_features=512, out_features=31, bias=True)\n",
       " ),\n",
       " 224)"
      ]
     },
     "execution_count": 208,
     "metadata": {},
     "output_type": "execute_result"
    }
   ],
   "source": [
    "model_ft, input_size"
   ]
  },
  {
   "cell_type": "code",
   "execution_count": 209,
   "id": "54ef239e-f79b-4787-81b3-211b6367a716",
   "metadata": {
    "scrolled": true
   },
   "outputs": [
    {
     "data": {
      "text/plain": [
       "ResNet(\n",
       "  (conv1): Conv2d(3, 64, kernel_size=(7, 7), stride=(2, 2), padding=(3, 3), bias=False)\n",
       "  (bn1): BatchNorm2d(64, eps=1e-05, momentum=0.1, affine=True, track_running_stats=True)\n",
       "  (relu): ReLU(inplace=True)\n",
       "  (maxpool): MaxPool2d(kernel_size=3, stride=2, padding=1, dilation=1, ceil_mode=False)\n",
       "  (layer1): Sequential(\n",
       "    (0): BasicBlock(\n",
       "      (conv1): Conv2d(64, 64, kernel_size=(3, 3), stride=(1, 1), padding=(1, 1), bias=False)\n",
       "      (bn1): BatchNorm2d(64, eps=1e-05, momentum=0.1, affine=True, track_running_stats=True)\n",
       "      (relu): ReLU(inplace=True)\n",
       "      (conv2): Conv2d(64, 64, kernel_size=(3, 3), stride=(1, 1), padding=(1, 1), bias=False)\n",
       "      (bn2): BatchNorm2d(64, eps=1e-05, momentum=0.1, affine=True, track_running_stats=True)\n",
       "    )\n",
       "    (1): BasicBlock(\n",
       "      (conv1): Conv2d(64, 64, kernel_size=(3, 3), stride=(1, 1), padding=(1, 1), bias=False)\n",
       "      (bn1): BatchNorm2d(64, eps=1e-05, momentum=0.1, affine=True, track_running_stats=True)\n",
       "      (relu): ReLU(inplace=True)\n",
       "      (conv2): Conv2d(64, 64, kernel_size=(3, 3), stride=(1, 1), padding=(1, 1), bias=False)\n",
       "      (bn2): BatchNorm2d(64, eps=1e-05, momentum=0.1, affine=True, track_running_stats=True)\n",
       "    )\n",
       "  )\n",
       "  (layer2): Sequential(\n",
       "    (0): BasicBlock(\n",
       "      (conv1): Conv2d(64, 128, kernel_size=(3, 3), stride=(2, 2), padding=(1, 1), bias=False)\n",
       "      (bn1): BatchNorm2d(128, eps=1e-05, momentum=0.1, affine=True, track_running_stats=True)\n",
       "      (relu): ReLU(inplace=True)\n",
       "      (conv2): Conv2d(128, 128, kernel_size=(3, 3), stride=(1, 1), padding=(1, 1), bias=False)\n",
       "      (bn2): BatchNorm2d(128, eps=1e-05, momentum=0.1, affine=True, track_running_stats=True)\n",
       "      (downsample): Sequential(\n",
       "        (0): Conv2d(64, 128, kernel_size=(1, 1), stride=(2, 2), bias=False)\n",
       "        (1): BatchNorm2d(128, eps=1e-05, momentum=0.1, affine=True, track_running_stats=True)\n",
       "      )\n",
       "    )\n",
       "    (1): BasicBlock(\n",
       "      (conv1): Conv2d(128, 128, kernel_size=(3, 3), stride=(1, 1), padding=(1, 1), bias=False)\n",
       "      (bn1): BatchNorm2d(128, eps=1e-05, momentum=0.1, affine=True, track_running_stats=True)\n",
       "      (relu): ReLU(inplace=True)\n",
       "      (conv2): Conv2d(128, 128, kernel_size=(3, 3), stride=(1, 1), padding=(1, 1), bias=False)\n",
       "      (bn2): BatchNorm2d(128, eps=1e-05, momentum=0.1, affine=True, track_running_stats=True)\n",
       "    )\n",
       "  )\n",
       "  (layer3): Sequential(\n",
       "    (0): BasicBlock(\n",
       "      (conv1): Conv2d(128, 256, kernel_size=(3, 3), stride=(2, 2), padding=(1, 1), bias=False)\n",
       "      (bn1): BatchNorm2d(256, eps=1e-05, momentum=0.1, affine=True, track_running_stats=True)\n",
       "      (relu): ReLU(inplace=True)\n",
       "      (conv2): Conv2d(256, 256, kernel_size=(3, 3), stride=(1, 1), padding=(1, 1), bias=False)\n",
       "      (bn2): BatchNorm2d(256, eps=1e-05, momentum=0.1, affine=True, track_running_stats=True)\n",
       "      (downsample): Sequential(\n",
       "        (0): Conv2d(128, 256, kernel_size=(1, 1), stride=(2, 2), bias=False)\n",
       "        (1): BatchNorm2d(256, eps=1e-05, momentum=0.1, affine=True, track_running_stats=True)\n",
       "      )\n",
       "    )\n",
       "    (1): BasicBlock(\n",
       "      (conv1): Conv2d(256, 256, kernel_size=(3, 3), stride=(1, 1), padding=(1, 1), bias=False)\n",
       "      (bn1): BatchNorm2d(256, eps=1e-05, momentum=0.1, affine=True, track_running_stats=True)\n",
       "      (relu): ReLU(inplace=True)\n",
       "      (conv2): Conv2d(256, 256, kernel_size=(3, 3), stride=(1, 1), padding=(1, 1), bias=False)\n",
       "      (bn2): BatchNorm2d(256, eps=1e-05, momentum=0.1, affine=True, track_running_stats=True)\n",
       "    )\n",
       "  )\n",
       "  (layer4): Sequential(\n",
       "    (0): BasicBlock(\n",
       "      (conv1): Conv2d(256, 512, kernel_size=(3, 3), stride=(2, 2), padding=(1, 1), bias=False)\n",
       "      (bn1): BatchNorm2d(512, eps=1e-05, momentum=0.1, affine=True, track_running_stats=True)\n",
       "      (relu): ReLU(inplace=True)\n",
       "      (conv2): Conv2d(512, 512, kernel_size=(3, 3), stride=(1, 1), padding=(1, 1), bias=False)\n",
       "      (bn2): BatchNorm2d(512, eps=1e-05, momentum=0.1, affine=True, track_running_stats=True)\n",
       "      (downsample): Sequential(\n",
       "        (0): Conv2d(256, 512, kernel_size=(1, 1), stride=(2, 2), bias=False)\n",
       "        (1): BatchNorm2d(512, eps=1e-05, momentum=0.1, affine=True, track_running_stats=True)\n",
       "      )\n",
       "    )\n",
       "    (1): BasicBlock(\n",
       "      (conv1): Conv2d(512, 512, kernel_size=(3, 3), stride=(1, 1), padding=(1, 1), bias=False)\n",
       "      (bn1): BatchNorm2d(512, eps=1e-05, momentum=0.1, affine=True, track_running_stats=True)\n",
       "      (relu): ReLU(inplace=True)\n",
       "      (conv2): Conv2d(512, 512, kernel_size=(3, 3), stride=(1, 1), padding=(1, 1), bias=False)\n",
       "      (bn2): BatchNorm2d(512, eps=1e-05, momentum=0.1, affine=True, track_running_stats=True)\n",
       "    )\n",
       "  )\n",
       "  (avgpool): AdaptiveAvgPool2d(output_size=(1, 1))\n",
       "  (fc): Linear(in_features=512, out_features=31, bias=True)\n",
       ")"
      ]
     },
     "execution_count": 209,
     "metadata": {},
     "output_type": "execute_result"
    }
   ],
   "source": [
    "model_ft.to(device) "
   ]
  },
  {
   "cell_type": "code",
   "execution_count": 210,
   "id": "95e933f8-755b-458e-97bf-2d748c1c470a",
   "metadata": {},
   "outputs": [],
   "source": [
    "import torchvision\n",
    "\n",
    "params = {'batch_size': 40,\n",
    "          'shuffle': True,\n",
    "          'num_workers': 0,\n",
    "          'pin_memory' : False}\n",
    "\n",
    "class DL(torch.utils.data.Dataset):\n",
    "    def __init__(self, imgs, labels, transform = None, target_patch_size = -1, num_classes = 10):\n",
    "        self.labels = labels\n",
    "        self.imgs = imgs\n",
    "        self.target_patch_size = target_patch_size\n",
    "        self.transform = torchvision.transforms.Compose([torchvision.transforms.ToTensor()])\n",
    "        self.ohe = {}\n",
    "        self.num_classes = num_classes\n",
    "        \n",
    "    def __len__(self):\n",
    "        return len(self.imgs)\n",
    "\n",
    "    def __getitem__(self, index):\n",
    "        X = self.imgs.loc[index]\n",
    "        y = self.labels.loc[index]\n",
    "\n",
    "        if self.target_patch_size is  not None:\n",
    "            X = np.resize(X, (self.target_patch_size, self.target_patch_size, 3))\n",
    "            X = np.array(X)\n",
    "        if self.transform is not None:\n",
    "            X = self.transform(X)\n",
    "        return X, y\n",
    "\n",
    "train_x, train_y = train_df['X'], train_df['label']\n",
    "dl = DL(train_x, train_y, transform = torchvision.transforms.ToTensor, target_patch_size = input_size, num_classes = num_classes)\n",
    "dl_gen = torch.utils.data.DataLoader(dl, **params)\n",
    "\n",
    "val_x, val_y = test_df['X'], test_df['label']\n",
    "dl_val = DL(val_x, val_y, transform = torchvision.transforms.ToTensor, target_patch_size = input_size, num_classes = num_classes)\n",
    "dl_gen_val = torch.utils.data.DataLoader(dl_val, **params)"
   ]
  },
  {
   "cell_type": "code",
   "execution_count": null,
   "id": "e2ccf40c-4be1-4069-aedb-2731371882a7",
   "metadata": {},
   "outputs": [
    {
     "name": "stdout",
     "output_type": "stream",
     "text": [
      "\n",
      "START TRAINING ... Epoch 0/999\n",
      "\n",
      "\n",
      "TRAINING...\n",
      "\n"
     ]
    },
    {
     "name": "stderr",
     "output_type": "stream",
     "text": [
      "100%|██████████| 15/15 [01:52<00:00,  7.53s/it]\n"
     ]
    },
    {
     "name": "stdout",
     "output_type": "stream",
     "text": [
      "\n",
      "train Loss: 2.0935 Acc: 0.4000\n",
      "\n",
      "VALIDATION...\n",
      "\n"
     ]
    },
    {
     "name": "stderr",
     "output_type": "stream",
     "text": [
      "100%|██████████| 2/2 [00:05<00:00,  2.63s/it]\n"
     ]
    },
    {
     "name": "stdout",
     "output_type": "stream",
     "text": [
      "\n",
      "val Loss: 5.0284 Acc: 0.2000\n",
      "------------------------------\n",
      "Epoch 1/999\n",
      "\n",
      "\n",
      "TRAINING...\n",
      "\n"
     ]
    },
    {
     "name": "stderr",
     "output_type": "stream",
     "text": [
      "100%|██████████| 15/15 [01:54<00:00,  7.67s/it]\n"
     ]
    },
    {
     "name": "stdout",
     "output_type": "stream",
     "text": [
      "\n",
      "train Loss: 1.5131 Acc: 0.5333\n",
      "\n",
      "VALIDATION...\n",
      "\n"
     ]
    },
    {
     "name": "stderr",
     "output_type": "stream",
     "text": [
      "100%|██████████| 2/2 [00:06<00:00,  3.05s/it]\n"
     ]
    },
    {
     "name": "stdout",
     "output_type": "stream",
     "text": [
      "\n",
      "val Loss: 5.8595 Acc: 0.2308\n",
      "------------------------------\n",
      "Epoch 2/999\n",
      "\n",
      "\n",
      "TRAINING...\n",
      "\n"
     ]
    },
    {
     "name": "stderr",
     "output_type": "stream",
     "text": [
      "100%|██████████| 15/15 [01:53<00:00,  7.60s/it]\n"
     ]
    },
    {
     "name": "stdout",
     "output_type": "stream",
     "text": [
      "\n",
      "train Loss: 1.3177 Acc: 0.5650\n",
      "\n",
      "VALIDATION...\n",
      "\n"
     ]
    },
    {
     "name": "stderr",
     "output_type": "stream",
     "text": [
      "100%|██████████| 2/2 [00:05<00:00,  2.76s/it]\n"
     ]
    },
    {
     "name": "stdout",
     "output_type": "stream",
     "text": [
      "\n",
      "val Loss: 1.8459 Acc: 0.4308\n",
      "------------------------------\n",
      "Epoch 3/999\n",
      "\n",
      "\n",
      "TRAINING...\n",
      "\n"
     ]
    },
    {
     "name": "stderr",
     "output_type": "stream",
     "text": [
      "100%|██████████| 15/15 [01:51<00:00,  7.45s/it]\n"
     ]
    },
    {
     "name": "stdout",
     "output_type": "stream",
     "text": [
      "\n",
      "train Loss: 1.0437 Acc: 0.6383\n",
      "\n",
      "VALIDATION...\n",
      "\n"
     ]
    },
    {
     "name": "stderr",
     "output_type": "stream",
     "text": [
      "100%|██████████| 2/2 [00:05<00:00,  2.60s/it]\n"
     ]
    },
    {
     "name": "stdout",
     "output_type": "stream",
     "text": [
      "\n",
      "val Loss: 1.2167 Acc: 0.6308\n",
      "------------------------------\n",
      "Epoch 4/999\n",
      "\n",
      "\n",
      "TRAINING...\n",
      "\n"
     ]
    },
    {
     "name": "stderr",
     "output_type": "stream",
     "text": [
      "100%|██████████| 15/15 [02:01<00:00,  8.07s/it]\n"
     ]
    },
    {
     "name": "stdout",
     "output_type": "stream",
     "text": [
      "\n",
      "train Loss: 1.0865 Acc: 0.6550\n",
      "\n",
      "VALIDATION...\n",
      "\n"
     ]
    },
    {
     "name": "stderr",
     "output_type": "stream",
     "text": [
      "100%|██████████| 2/2 [00:05<00:00,  2.91s/it]\n"
     ]
    },
    {
     "name": "stdout",
     "output_type": "stream",
     "text": [
      "\n",
      "val Loss: 1.1582 Acc: 0.6462\n",
      "------------------------------\n",
      "Epoch 5/999\n",
      "\n",
      "\n",
      "TRAINING...\n",
      "\n"
     ]
    },
    {
     "name": "stderr",
     "output_type": "stream",
     "text": [
      "100%|██████████| 15/15 [02:03<00:00,  8.23s/it]\n"
     ]
    },
    {
     "name": "stdout",
     "output_type": "stream",
     "text": [
      "\n",
      "train Loss: 1.0063 Acc: 0.6517\n",
      "\n",
      "VALIDATION...\n",
      "\n"
     ]
    },
    {
     "name": "stderr",
     "output_type": "stream",
     "text": [
      "100%|██████████| 2/2 [00:04<00:00,  2.49s/it]\n"
     ]
    },
    {
     "name": "stdout",
     "output_type": "stream",
     "text": [
      "\n",
      "val Loss: 1.6029 Acc: 0.5385\n",
      "------------------------------\n",
      "Epoch 6/999\n",
      "\n",
      "\n",
      "TRAINING...\n",
      "\n"
     ]
    },
    {
     "name": "stderr",
     "output_type": "stream",
     "text": [
      "100%|██████████| 15/15 [01:42<00:00,  6.81s/it]\n"
     ]
    },
    {
     "name": "stdout",
     "output_type": "stream",
     "text": [
      "\n",
      "train Loss: 0.8425 Acc: 0.7500\n",
      "\n",
      "VALIDATION...\n",
      "\n"
     ]
    },
    {
     "name": "stderr",
     "output_type": "stream",
     "text": [
      "100%|██████████| 2/2 [00:04<00:00,  2.33s/it]\n"
     ]
    },
    {
     "name": "stdout",
     "output_type": "stream",
     "text": [
      "\n",
      "val Loss: 2.2190 Acc: 0.4462\n",
      "------------------------------\n",
      "Epoch 7/999\n",
      "\n",
      "\n",
      "TRAINING...\n",
      "\n"
     ]
    },
    {
     "name": "stderr",
     "output_type": "stream",
     "text": [
      "100%|██████████| 15/15 [01:37<00:00,  6.52s/it]\n"
     ]
    },
    {
     "name": "stdout",
     "output_type": "stream",
     "text": [
      "\n",
      "train Loss: 0.6862 Acc: 0.7767\n",
      "\n",
      "VALIDATION...\n",
      "\n"
     ]
    },
    {
     "name": "stderr",
     "output_type": "stream",
     "text": [
      "100%|██████████| 2/2 [00:04<00:00,  2.22s/it]\n"
     ]
    },
    {
     "name": "stdout",
     "output_type": "stream",
     "text": [
      "\n",
      "val Loss: 1.8808 Acc: 0.6000\n",
      "------------------------------\n",
      "Epoch 8/999\n",
      "\n",
      "\n",
      "TRAINING...\n",
      "\n"
     ]
    },
    {
     "name": "stderr",
     "output_type": "stream",
     "text": [
      "100%|██████████| 15/15 [01:34<00:00,  6.31s/it]\n"
     ]
    },
    {
     "name": "stdout",
     "output_type": "stream",
     "text": [
      "\n",
      "train Loss: 0.6320 Acc: 0.8067\n",
      "\n",
      "VALIDATION...\n",
      "\n"
     ]
    },
    {
     "name": "stderr",
     "output_type": "stream",
     "text": [
      "100%|██████████| 2/2 [00:03<00:00,  1.99s/it]\n"
     ]
    },
    {
     "name": "stdout",
     "output_type": "stream",
     "text": [
      "\n",
      "val Loss: 4.1338 Acc: 0.3538\n",
      "------------------------------\n",
      "Epoch 9/999\n",
      "\n",
      "\n",
      "TRAINING...\n",
      "\n"
     ]
    },
    {
     "name": "stderr",
     "output_type": "stream",
     "text": [
      "100%|██████████| 15/15 [01:33<00:00,  6.24s/it]\n"
     ]
    },
    {
     "name": "stdout",
     "output_type": "stream",
     "text": [
      "\n",
      "train Loss: 0.6285 Acc: 0.7917\n",
      "\n",
      "VALIDATION...\n",
      "\n"
     ]
    },
    {
     "name": "stderr",
     "output_type": "stream",
     "text": [
      "100%|██████████| 2/2 [00:04<00:00,  2.07s/it]\n"
     ]
    },
    {
     "name": "stdout",
     "output_type": "stream",
     "text": [
      "\n",
      "val Loss: 1.2090 Acc: 0.5846\n",
      "------------------------------\n",
      "Epoch 10/999\n",
      "\n",
      "\n",
      "TRAINING...\n",
      "\n"
     ]
    },
    {
     "name": "stderr",
     "output_type": "stream",
     "text": [
      "100%|██████████| 15/15 [02:01<00:00,  8.09s/it]\n"
     ]
    },
    {
     "name": "stdout",
     "output_type": "stream",
     "text": [
      "\n",
      "train Loss: 0.6172 Acc: 0.7883\n",
      "\n",
      "VALIDATION...\n",
      "\n"
     ]
    },
    {
     "name": "stderr",
     "output_type": "stream",
     "text": [
      "100%|██████████| 2/2 [00:05<00:00,  2.70s/it]\n"
     ]
    },
    {
     "name": "stdout",
     "output_type": "stream",
     "text": [
      "\n",
      "val Loss: 1.4555 Acc: 0.6462\n",
      "------------------------------\n",
      "Epoch 11/999\n",
      "\n",
      "\n",
      "TRAINING...\n",
      "\n"
     ]
    },
    {
     "name": "stderr",
     "output_type": "stream",
     "text": [
      "100%|██████████| 15/15 [01:54<00:00,  7.63s/it]\n"
     ]
    },
    {
     "name": "stdout",
     "output_type": "stream",
     "text": [
      "\n",
      "train Loss: 0.6163 Acc: 0.8033\n",
      "\n",
      "VALIDATION...\n",
      "\n"
     ]
    },
    {
     "name": "stderr",
     "output_type": "stream",
     "text": [
      "100%|██████████| 2/2 [00:05<00:00,  2.82s/it]\n"
     ]
    },
    {
     "name": "stdout",
     "output_type": "stream",
     "text": [
      "\n",
      "val Loss: 2.0637 Acc: 0.5077\n",
      "------------------------------\n",
      "Epoch 12/999\n",
      "\n",
      "\n",
      "TRAINING...\n",
      "\n"
     ]
    },
    {
     "name": "stderr",
     "output_type": "stream",
     "text": [
      "100%|██████████| 15/15 [01:55<00:00,  7.70s/it]\n"
     ]
    },
    {
     "name": "stdout",
     "output_type": "stream",
     "text": [
      "\n",
      "train Loss: 0.5053 Acc: 0.8333\n",
      "\n",
      "VALIDATION...\n",
      "\n"
     ]
    },
    {
     "name": "stderr",
     "output_type": "stream",
     "text": [
      "100%|██████████| 2/2 [00:05<00:00,  2.79s/it]\n"
     ]
    },
    {
     "name": "stdout",
     "output_type": "stream",
     "text": [
      "\n",
      "val Loss: 2.4095 Acc: 0.4923\n",
      "------------------------------\n",
      "Epoch 13/999\n",
      "\n",
      "\n",
      "TRAINING...\n",
      "\n"
     ]
    },
    {
     "name": "stderr",
     "output_type": "stream",
     "text": [
      "100%|██████████| 15/15 [02:05<00:00,  8.37s/it]\n"
     ]
    },
    {
     "name": "stdout",
     "output_type": "stream",
     "text": [
      "\n",
      "train Loss: 0.4826 Acc: 0.8450\n",
      "\n",
      "VALIDATION...\n",
      "\n"
     ]
    },
    {
     "name": "stderr",
     "output_type": "stream",
     "text": [
      "100%|██████████| 2/2 [00:05<00:00,  2.92s/it]\n"
     ]
    },
    {
     "name": "stdout",
     "output_type": "stream",
     "text": [
      "\n",
      "val Loss: 2.4865 Acc: 0.3231\n",
      "------------------------------\n",
      "Epoch 14/999\n",
      "\n",
      "\n",
      "TRAINING...\n",
      "\n"
     ]
    },
    {
     "name": "stderr",
     "output_type": "stream",
     "text": [
      "100%|██████████| 15/15 [02:14<00:00,  8.95s/it]\n"
     ]
    },
    {
     "name": "stdout",
     "output_type": "stream",
     "text": [
      "\n",
      "train Loss: 0.3967 Acc: 0.8817\n",
      "\n",
      "VALIDATION...\n",
      "\n"
     ]
    },
    {
     "name": "stderr",
     "output_type": "stream",
     "text": [
      "100%|██████████| 2/2 [00:06<00:00,  3.02s/it]\n"
     ]
    },
    {
     "name": "stdout",
     "output_type": "stream",
     "text": [
      "\n",
      "val Loss: 1.7041 Acc: 0.5692\n",
      "------------------------------\n",
      "Epoch 15/999\n",
      "\n",
      "\n",
      "TRAINING...\n",
      "\n"
     ]
    },
    {
     "name": "stderr",
     "output_type": "stream",
     "text": [
      "100%|██████████| 15/15 [02:00<00:00,  8.05s/it]\n"
     ]
    },
    {
     "name": "stdout",
     "output_type": "stream",
     "text": [
      "\n",
      "train Loss: 0.5146 Acc: 0.8383\n",
      "\n",
      "VALIDATION...\n",
      "\n"
     ]
    },
    {
     "name": "stderr",
     "output_type": "stream",
     "text": [
      "100%|██████████| 2/2 [00:05<00:00,  2.58s/it]\n"
     ]
    },
    {
     "name": "stdout",
     "output_type": "stream",
     "text": [
      "\n",
      "val Loss: 2.8002 Acc: 0.3692\n",
      "------------------------------\n",
      "Epoch 16/999\n",
      "\n",
      "\n",
      "TRAINING...\n",
      "\n"
     ]
    },
    {
     "name": "stderr",
     "output_type": "stream",
     "text": [
      "100%|██████████| 15/15 [01:57<00:00,  7.81s/it]\n"
     ]
    },
    {
     "name": "stdout",
     "output_type": "stream",
     "text": [
      "\n",
      "train Loss: 0.4276 Acc: 0.8767\n",
      "\n",
      "VALIDATION...\n",
      "\n"
     ]
    },
    {
     "name": "stderr",
     "output_type": "stream",
     "text": [
      "100%|██████████| 2/2 [00:05<00:00,  2.81s/it]\n"
     ]
    },
    {
     "name": "stdout",
     "output_type": "stream",
     "text": [
      "\n",
      "val Loss: 1.3881 Acc: 0.6000\n",
      "------------------------------\n",
      "Epoch 17/999\n",
      "\n",
      "\n",
      "TRAINING...\n",
      "\n"
     ]
    },
    {
     "name": "stderr",
     "output_type": "stream",
     "text": [
      "100%|██████████| 15/15 [02:02<00:00,  8.20s/it]\n"
     ]
    },
    {
     "name": "stdout",
     "output_type": "stream",
     "text": [
      "\n",
      "train Loss: 0.3579 Acc: 0.8783\n",
      "\n",
      "VALIDATION...\n",
      "\n"
     ]
    },
    {
     "name": "stderr",
     "output_type": "stream",
     "text": [
      "100%|██████████| 2/2 [00:05<00:00,  2.77s/it]\n"
     ]
    },
    {
     "name": "stdout",
     "output_type": "stream",
     "text": [
      "\n",
      "val Loss: 1.5697 Acc: 0.6154\n",
      "------------------------------\n",
      "Epoch 18/999\n",
      "\n",
      "\n",
      "TRAINING...\n",
      "\n"
     ]
    },
    {
     "name": "stderr",
     "output_type": "stream",
     "text": [
      "100%|██████████| 15/15 [02:02<00:00,  8.17s/it]\n"
     ]
    },
    {
     "name": "stdout",
     "output_type": "stream",
     "text": [
      "\n",
      "train Loss: 0.2824 Acc: 0.8950\n",
      "\n",
      "VALIDATION...\n",
      "\n"
     ]
    },
    {
     "name": "stderr",
     "output_type": "stream",
     "text": [
      "100%|██████████| 2/2 [00:05<00:00,  2.75s/it]\n"
     ]
    },
    {
     "name": "stdout",
     "output_type": "stream",
     "text": [
      "\n",
      "val Loss: 1.2976 Acc: 0.6769\n",
      "------------------------------\n",
      "Epoch 19/999\n",
      "\n",
      "\n",
      "TRAINING...\n",
      "\n"
     ]
    },
    {
     "name": "stderr",
     "output_type": "stream",
     "text": [
      "100%|██████████| 15/15 [02:00<00:00,  8.04s/it]\n"
     ]
    },
    {
     "name": "stdout",
     "output_type": "stream",
     "text": [
      "\n",
      "train Loss: 0.3138 Acc: 0.8983\n",
      "\n",
      "VALIDATION...\n",
      "\n"
     ]
    },
    {
     "name": "stderr",
     "output_type": "stream",
     "text": [
      "100%|██████████| 2/2 [00:05<00:00,  2.92s/it]\n"
     ]
    },
    {
     "name": "stdout",
     "output_type": "stream",
     "text": [
      "\n",
      "val Loss: 1.6703 Acc: 0.6462\n",
      "------------------------------\n",
      "Epoch 20/999\n",
      "\n",
      "\n",
      "TRAINING...\n",
      "\n"
     ]
    },
    {
     "name": "stderr",
     "output_type": "stream",
     "text": [
      "100%|██████████| 15/15 [01:59<00:00,  7.95s/it]\n"
     ]
    },
    {
     "name": "stdout",
     "output_type": "stream",
     "text": [
      "\n",
      "train Loss: 0.2542 Acc: 0.9117\n",
      "\n",
      "VALIDATION...\n",
      "\n"
     ]
    },
    {
     "name": "stderr",
     "output_type": "stream",
     "text": [
      "100%|██████████| 2/2 [00:05<00:00,  2.82s/it]\n"
     ]
    },
    {
     "name": "stdout",
     "output_type": "stream",
     "text": [
      "\n",
      "val Loss: 2.0982 Acc: 0.4769\n",
      "------------------------------\n",
      "Epoch 21/999\n",
      "\n",
      "\n",
      "TRAINING...\n",
      "\n"
     ]
    },
    {
     "name": "stderr",
     "output_type": "stream",
     "text": [
      "100%|██████████| 15/15 [01:58<00:00,  7.88s/it]\n"
     ]
    },
    {
     "name": "stdout",
     "output_type": "stream",
     "text": [
      "\n",
      "train Loss: 0.2892 Acc: 0.9083\n",
      "\n",
      "VALIDATION...\n",
      "\n"
     ]
    },
    {
     "name": "stderr",
     "output_type": "stream",
     "text": [
      "100%|██████████| 2/2 [00:05<00:00,  2.58s/it]\n"
     ]
    },
    {
     "name": "stdout",
     "output_type": "stream",
     "text": [
      "\n",
      "val Loss: 1.7324 Acc: 0.6000\n",
      "------------------------------\n",
      "Epoch 22/999\n",
      "\n",
      "\n",
      "TRAINING...\n",
      "\n"
     ]
    },
    {
     "name": "stderr",
     "output_type": "stream",
     "text": [
      "100%|██████████| 15/15 [01:55<00:00,  7.72s/it]\n"
     ]
    },
    {
     "name": "stdout",
     "output_type": "stream",
     "text": [
      "\n",
      "train Loss: 0.2537 Acc: 0.9133\n",
      "\n",
      "VALIDATION...\n",
      "\n"
     ]
    },
    {
     "name": "stderr",
     "output_type": "stream",
     "text": [
      "100%|██████████| 2/2 [00:06<00:00,  3.05s/it]\n"
     ]
    },
    {
     "name": "stdout",
     "output_type": "stream",
     "text": [
      "\n",
      "val Loss: 2.0857 Acc: 0.5385\n",
      "------------------------------\n",
      "Epoch 23/999\n",
      "\n",
      "\n",
      "TRAINING...\n",
      "\n"
     ]
    },
    {
     "name": "stderr",
     "output_type": "stream",
     "text": [
      "100%|██████████| 15/15 [02:00<00:00,  8.05s/it]\n"
     ]
    },
    {
     "name": "stdout",
     "output_type": "stream",
     "text": [
      "\n",
      "train Loss: 0.3210 Acc: 0.8950\n",
      "\n",
      "VALIDATION...\n",
      "\n"
     ]
    },
    {
     "name": "stderr",
     "output_type": "stream",
     "text": [
      "100%|██████████| 2/2 [00:05<00:00,  2.69s/it]\n"
     ]
    },
    {
     "name": "stdout",
     "output_type": "stream",
     "text": [
      "\n",
      "val Loss: 2.8621 Acc: 0.4615\n",
      "------------------------------\n",
      "Epoch 24/999\n",
      "\n",
      "\n",
      "TRAINING...\n",
      "\n"
     ]
    },
    {
     "name": "stderr",
     "output_type": "stream",
     "text": [
      "100%|██████████| 15/15 [02:00<00:00,  8.06s/it]\n"
     ]
    },
    {
     "name": "stdout",
     "output_type": "stream",
     "text": [
      "\n",
      "train Loss: 0.2468 Acc: 0.9133\n",
      "\n",
      "VALIDATION...\n",
      "\n"
     ]
    },
    {
     "name": "stderr",
     "output_type": "stream",
     "text": [
      "100%|██████████| 2/2 [00:05<00:00,  2.89s/it]\n"
     ]
    },
    {
     "name": "stdout",
     "output_type": "stream",
     "text": [
      "\n",
      "val Loss: 3.0205 Acc: 0.4000\n",
      "------------------------------\n",
      "Epoch 25/999\n",
      "\n",
      "\n",
      "TRAINING...\n",
      "\n"
     ]
    },
    {
     "name": "stderr",
     "output_type": "stream",
     "text": [
      "100%|██████████| 15/15 [01:59<00:00,  7.98s/it]\n"
     ]
    },
    {
     "name": "stdout",
     "output_type": "stream",
     "text": [
      "\n",
      "train Loss: 0.2002 Acc: 0.9233\n",
      "\n",
      "VALIDATION...\n",
      "\n"
     ]
    },
    {
     "name": "stderr",
     "output_type": "stream",
     "text": [
      "100%|██████████| 2/2 [00:05<00:00,  2.79s/it]\n"
     ]
    },
    {
     "name": "stdout",
     "output_type": "stream",
     "text": [
      "\n",
      "val Loss: 2.9602 Acc: 0.4308\n",
      "------------------------------\n",
      "Epoch 26/999\n",
      "\n",
      "\n",
      "TRAINING...\n",
      "\n"
     ]
    },
    {
     "name": "stderr",
     "output_type": "stream",
     "text": [
      "100%|██████████| 15/15 [01:54<00:00,  7.65s/it]\n"
     ]
    },
    {
     "name": "stdout",
     "output_type": "stream",
     "text": [
      "\n",
      "train Loss: 0.1655 Acc: 0.9517\n",
      "\n",
      "VALIDATION...\n",
      "\n"
     ]
    },
    {
     "name": "stderr",
     "output_type": "stream",
     "text": [
      "100%|██████████| 2/2 [00:05<00:00,  2.61s/it]\n"
     ]
    },
    {
     "name": "stdout",
     "output_type": "stream",
     "text": [
      "\n",
      "val Loss: 1.4309 Acc: 0.6462\n",
      "------------------------------\n",
      "Epoch 27/999\n",
      "\n",
      "\n",
      "TRAINING...\n",
      "\n"
     ]
    },
    {
     "name": "stderr",
     "output_type": "stream",
     "text": [
      "100%|██████████| 15/15 [01:54<00:00,  7.65s/it]\n"
     ]
    },
    {
     "name": "stdout",
     "output_type": "stream",
     "text": [
      "\n",
      "train Loss: 0.1464 Acc: 0.9567\n",
      "\n",
      "VALIDATION...\n",
      "\n"
     ]
    },
    {
     "name": "stderr",
     "output_type": "stream",
     "text": [
      "100%|██████████| 2/2 [00:05<00:00,  2.71s/it]\n"
     ]
    },
    {
     "name": "stdout",
     "output_type": "stream",
     "text": [
      "\n",
      "val Loss: 2.2055 Acc: 0.4923\n",
      "------------------------------\n",
      "Epoch 28/999\n",
      "\n",
      "\n",
      "TRAINING...\n",
      "\n"
     ]
    },
    {
     "name": "stderr",
     "output_type": "stream",
     "text": [
      "100%|██████████| 15/15 [01:53<00:00,  7.60s/it]\n"
     ]
    },
    {
     "name": "stdout",
     "output_type": "stream",
     "text": [
      "\n",
      "train Loss: 0.1768 Acc: 0.9417\n",
      "\n",
      "VALIDATION...\n",
      "\n"
     ]
    },
    {
     "name": "stderr",
     "output_type": "stream",
     "text": [
      "100%|██████████| 2/2 [00:05<00:00,  2.63s/it]\n"
     ]
    },
    {
     "name": "stdout",
     "output_type": "stream",
     "text": [
      "\n",
      "val Loss: 1.2965 Acc: 0.6923\n",
      "------------------------------\n",
      "Epoch 29/999\n",
      "\n",
      "\n",
      "TRAINING...\n",
      "\n"
     ]
    },
    {
     "name": "stderr",
     "output_type": "stream",
     "text": [
      "100%|██████████| 15/15 [01:51<00:00,  7.45s/it]\n"
     ]
    },
    {
     "name": "stdout",
     "output_type": "stream",
     "text": [
      "\n",
      "train Loss: 0.1708 Acc: 0.9367\n",
      "\n",
      "VALIDATION...\n",
      "\n"
     ]
    },
    {
     "name": "stderr",
     "output_type": "stream",
     "text": [
      "100%|██████████| 2/2 [00:05<00:00,  2.60s/it]\n"
     ]
    },
    {
     "name": "stdout",
     "output_type": "stream",
     "text": [
      "\n",
      "val Loss: 2.4268 Acc: 0.5538\n",
      "------------------------------\n",
      "Epoch 30/999\n",
      "\n",
      "\n",
      "TRAINING...\n",
      "\n"
     ]
    },
    {
     "name": "stderr",
     "output_type": "stream",
     "text": [
      "100%|██████████| 15/15 [01:54<00:00,  7.62s/it]\n"
     ]
    },
    {
     "name": "stdout",
     "output_type": "stream",
     "text": [
      "\n",
      "train Loss: 0.2029 Acc: 0.9400\n",
      "\n",
      "VALIDATION...\n",
      "\n"
     ]
    },
    {
     "name": "stderr",
     "output_type": "stream",
     "text": [
      "100%|██████████| 2/2 [00:05<00:00,  2.82s/it]\n"
     ]
    },
    {
     "name": "stdout",
     "output_type": "stream",
     "text": [
      "\n",
      "val Loss: 2.4876 Acc: 0.5538\n",
      "------------------------------\n",
      "Epoch 31/999\n",
      "\n",
      "\n",
      "TRAINING...\n",
      "\n"
     ]
    },
    {
     "name": "stderr",
     "output_type": "stream",
     "text": [
      "100%|██████████| 15/15 [02:00<00:00,  8.03s/it]\n"
     ]
    },
    {
     "name": "stdout",
     "output_type": "stream",
     "text": [
      "\n",
      "train Loss: 0.1705 Acc: 0.9383\n",
      "\n",
      "VALIDATION...\n",
      "\n"
     ]
    },
    {
     "name": "stderr",
     "output_type": "stream",
     "text": [
      "100%|██████████| 2/2 [00:05<00:00,  2.91s/it]\n"
     ]
    },
    {
     "name": "stdout",
     "output_type": "stream",
     "text": [
      "\n",
      "val Loss: 3.3884 Acc: 0.4462\n",
      "------------------------------\n",
      "Epoch 32/999\n",
      "\n",
      "\n",
      "TRAINING...\n",
      "\n"
     ]
    },
    {
     "name": "stderr",
     "output_type": "stream",
     "text": [
      "100%|██████████| 15/15 [02:01<00:00,  8.10s/it]\n"
     ]
    },
    {
     "name": "stdout",
     "output_type": "stream",
     "text": [
      "\n",
      "train Loss: 0.1545 Acc: 0.9517\n",
      "\n",
      "VALIDATION...\n",
      "\n"
     ]
    },
    {
     "name": "stderr",
     "output_type": "stream",
     "text": [
      "100%|██████████| 2/2 [00:05<00:00,  2.89s/it]\n"
     ]
    },
    {
     "name": "stdout",
     "output_type": "stream",
     "text": [
      "\n",
      "val Loss: 2.9731 Acc: 0.5385\n",
      "------------------------------\n",
      "Epoch 33/999\n",
      "\n",
      "\n",
      "TRAINING...\n",
      "\n"
     ]
    },
    {
     "name": "stderr",
     "output_type": "stream",
     "text": [
      "100%|██████████| 15/15 [02:21<00:00,  9.41s/it]\n"
     ]
    },
    {
     "name": "stdout",
     "output_type": "stream",
     "text": [
      "\n",
      "train Loss: 0.1399 Acc: 0.9567\n",
      "\n",
      "VALIDATION...\n",
      "\n"
     ]
    },
    {
     "name": "stderr",
     "output_type": "stream",
     "text": [
      "100%|██████████| 2/2 [00:05<00:00,  2.89s/it]\n"
     ]
    },
    {
     "name": "stdout",
     "output_type": "stream",
     "text": [
      "\n",
      "val Loss: 2.4370 Acc: 0.5538\n",
      "------------------------------\n",
      "Epoch 34/999\n",
      "\n",
      "\n",
      "TRAINING...\n",
      "\n"
     ]
    },
    {
     "name": "stderr",
     "output_type": "stream",
     "text": [
      "100%|██████████| 15/15 [02:18<00:00,  9.22s/it]\n"
     ]
    },
    {
     "name": "stdout",
     "output_type": "stream",
     "text": [
      "\n",
      "train Loss: 0.1281 Acc: 0.9567\n",
      "\n",
      "VALIDATION...\n",
      "\n"
     ]
    },
    {
     "name": "stderr",
     "output_type": "stream",
     "text": [
      "100%|██████████| 2/2 [00:05<00:00,  2.80s/it]\n"
     ]
    },
    {
     "name": "stdout",
     "output_type": "stream",
     "text": [
      "\n",
      "val Loss: 2.4181 Acc: 0.4923\n",
      "------------------------------\n",
      "Epoch 35/999\n",
      "\n",
      "\n",
      "TRAINING...\n",
      "\n"
     ]
    },
    {
     "name": "stderr",
     "output_type": "stream",
     "text": [
      "100%|██████████| 15/15 [02:09<00:00,  8.63s/it]\n"
     ]
    },
    {
     "name": "stdout",
     "output_type": "stream",
     "text": [
      "\n",
      "train Loss: 0.0732 Acc: 0.9817\n",
      "\n",
      "VALIDATION...\n",
      "\n"
     ]
    },
    {
     "name": "stderr",
     "output_type": "stream",
     "text": [
      "100%|██████████| 2/2 [00:05<00:00,  2.80s/it]\n"
     ]
    },
    {
     "name": "stdout",
     "output_type": "stream",
     "text": [
      "\n",
      "val Loss: 1.3576 Acc: 0.6000\n",
      "------------------------------\n",
      "Epoch 36/999\n",
      "\n",
      "\n",
      "TRAINING...\n",
      "\n"
     ]
    },
    {
     "name": "stderr",
     "output_type": "stream",
     "text": [
      "100%|██████████| 15/15 [02:00<00:00,  8.04s/it]\n"
     ]
    },
    {
     "name": "stdout",
     "output_type": "stream",
     "text": [
      "\n",
      "train Loss: 0.0480 Acc: 0.9867\n",
      "\n",
      "VALIDATION...\n",
      "\n"
     ]
    },
    {
     "name": "stderr",
     "output_type": "stream",
     "text": [
      "100%|██████████| 2/2 [00:05<00:00,  2.75s/it]\n"
     ]
    },
    {
     "name": "stdout",
     "output_type": "stream",
     "text": [
      "\n",
      "val Loss: 1.1463 Acc: 0.7231\n",
      "------------------------------\n",
      "Epoch 37/999\n",
      "\n",
      "\n",
      "TRAINING...\n",
      "\n"
     ]
    },
    {
     "name": "stderr",
     "output_type": "stream",
     "text": [
      "100%|██████████| 15/15 [01:59<00:00,  7.98s/it]\n"
     ]
    },
    {
     "name": "stdout",
     "output_type": "stream",
     "text": [
      "\n",
      "train Loss: 0.0554 Acc: 0.9767\n",
      "\n",
      "VALIDATION...\n",
      "\n"
     ]
    },
    {
     "name": "stderr",
     "output_type": "stream",
     "text": [
      "100%|██████████| 2/2 [00:05<00:00,  2.91s/it]\n"
     ]
    },
    {
     "name": "stdout",
     "output_type": "stream",
     "text": [
      "\n",
      "val Loss: 1.2234 Acc: 0.7077\n",
      "------------------------------\n",
      "Epoch 38/999\n",
      "\n",
      "\n",
      "TRAINING...\n",
      "\n"
     ]
    },
    {
     "name": "stderr",
     "output_type": "stream",
     "text": [
      "100%|██████████| 15/15 [01:59<00:00,  8.00s/it]\n"
     ]
    },
    {
     "name": "stdout",
     "output_type": "stream",
     "text": [
      "\n",
      "train Loss: 0.0600 Acc: 0.9850\n",
      "\n",
      "VALIDATION...\n",
      "\n"
     ]
    },
    {
     "name": "stderr",
     "output_type": "stream",
     "text": [
      "100%|██████████| 2/2 [00:05<00:00,  2.76s/it]\n"
     ]
    },
    {
     "name": "stdout",
     "output_type": "stream",
     "text": [
      "\n",
      "val Loss: 1.3975 Acc: 0.7077\n",
      "------------------------------\n",
      "Epoch 39/999\n",
      "\n",
      "\n",
      "TRAINING...\n",
      "\n"
     ]
    },
    {
     "name": "stderr",
     "output_type": "stream",
     "text": [
      "100%|██████████| 15/15 [01:57<00:00,  7.85s/it]\n"
     ]
    },
    {
     "name": "stdout",
     "output_type": "stream",
     "text": [
      "\n",
      "train Loss: 0.0614 Acc: 0.9800\n",
      "\n",
      "VALIDATION...\n",
      "\n"
     ]
    },
    {
     "name": "stderr",
     "output_type": "stream",
     "text": [
      "100%|██████████| 2/2 [00:05<00:00,  2.77s/it]\n"
     ]
    },
    {
     "name": "stdout",
     "output_type": "stream",
     "text": [
      "\n",
      "val Loss: 1.6010 Acc: 0.6769\n",
      "------------------------------\n",
      "Epoch 40/999\n",
      "\n",
      "\n",
      "TRAINING...\n",
      "\n"
     ]
    },
    {
     "name": "stderr",
     "output_type": "stream",
     "text": [
      "100%|██████████| 15/15 [01:55<00:00,  7.70s/it]\n"
     ]
    },
    {
     "name": "stdout",
     "output_type": "stream",
     "text": [
      "\n",
      "train Loss: 0.0548 Acc: 0.9800\n",
      "\n",
      "VALIDATION...\n",
      "\n"
     ]
    },
    {
     "name": "stderr",
     "output_type": "stream",
     "text": [
      "100%|██████████| 2/2 [00:05<00:00,  2.58s/it]\n"
     ]
    },
    {
     "name": "stdout",
     "output_type": "stream",
     "text": [
      "\n",
      "val Loss: 2.0242 Acc: 0.6000\n",
      "------------------------------\n",
      "Epoch 41/999\n",
      "\n",
      "\n",
      "TRAINING...\n",
      "\n"
     ]
    },
    {
     "name": "stderr",
     "output_type": "stream",
     "text": [
      "100%|██████████| 15/15 [01:59<00:00,  7.99s/it]\n"
     ]
    },
    {
     "name": "stdout",
     "output_type": "stream",
     "text": [
      "\n",
      "train Loss: 0.0507 Acc: 0.9867\n",
      "\n",
      "VALIDATION...\n",
      "\n"
     ]
    },
    {
     "name": "stderr",
     "output_type": "stream",
     "text": [
      "100%|██████████| 2/2 [00:05<00:00,  2.79s/it]\n"
     ]
    },
    {
     "name": "stdout",
     "output_type": "stream",
     "text": [
      "\n",
      "val Loss: 1.5601 Acc: 0.6923\n",
      "------------------------------\n",
      "Epoch 42/999\n",
      "\n",
      "\n",
      "TRAINING...\n",
      "\n"
     ]
    },
    {
     "name": "stderr",
     "output_type": "stream",
     "text": [
      "100%|██████████| 15/15 [02:00<00:00,  8.01s/it]\n"
     ]
    },
    {
     "name": "stdout",
     "output_type": "stream",
     "text": [
      "\n",
      "train Loss: 0.0374 Acc: 0.9933\n",
      "\n",
      "VALIDATION...\n",
      "\n"
     ]
    },
    {
     "name": "stderr",
     "output_type": "stream",
     "text": [
      "100%|██████████| 2/2 [00:05<00:00,  2.70s/it]\n"
     ]
    },
    {
     "name": "stdout",
     "output_type": "stream",
     "text": [
      "\n",
      "val Loss: 1.3583 Acc: 0.6923\n",
      "------------------------------\n",
      "Epoch 43/999\n",
      "\n",
      "\n",
      "TRAINING...\n",
      "\n"
     ]
    },
    {
     "name": "stderr",
     "output_type": "stream",
     "text": [
      "100%|██████████| 15/15 [01:56<00:00,  7.79s/it]\n"
     ]
    },
    {
     "name": "stdout",
     "output_type": "stream",
     "text": [
      "\n",
      "train Loss: 0.0776 Acc: 0.9767\n",
      "\n",
      "VALIDATION...\n",
      "\n"
     ]
    },
    {
     "name": "stderr",
     "output_type": "stream",
     "text": [
      "100%|██████████| 2/2 [00:05<00:00,  2.67s/it]\n"
     ]
    },
    {
     "name": "stdout",
     "output_type": "stream",
     "text": [
      "\n",
      "val Loss: 1.5514 Acc: 0.6615\n",
      "------------------------------\n",
      "Epoch 44/999\n",
      "\n",
      "\n",
      "TRAINING...\n",
      "\n"
     ]
    },
    {
     "name": "stderr",
     "output_type": "stream",
     "text": [
      "100%|██████████| 15/15 [01:56<00:00,  7.74s/it]\n"
     ]
    },
    {
     "name": "stdout",
     "output_type": "stream",
     "text": [
      "\n",
      "train Loss: 0.0583 Acc: 0.9833\n",
      "\n",
      "VALIDATION...\n",
      "\n"
     ]
    },
    {
     "name": "stderr",
     "output_type": "stream",
     "text": [
      "100%|██████████| 2/2 [00:05<00:00,  2.75s/it]\n"
     ]
    },
    {
     "name": "stdout",
     "output_type": "stream",
     "text": [
      "\n",
      "val Loss: 1.5199 Acc: 0.6923\n",
      "------------------------------\n",
      "Epoch 45/999\n",
      "\n",
      "\n",
      "TRAINING...\n",
      "\n"
     ]
    },
    {
     "name": "stderr",
     "output_type": "stream",
     "text": [
      "100%|██████████| 15/15 [01:57<00:00,  7.82s/it]\n"
     ]
    },
    {
     "name": "stdout",
     "output_type": "stream",
     "text": [
      "\n",
      "train Loss: 0.0312 Acc: 0.9917\n",
      "\n",
      "VALIDATION...\n",
      "\n"
     ]
    },
    {
     "name": "stderr",
     "output_type": "stream",
     "text": [
      "100%|██████████| 2/2 [00:05<00:00,  2.78s/it]\n"
     ]
    },
    {
     "name": "stdout",
     "output_type": "stream",
     "text": [
      "\n",
      "val Loss: 1.4925 Acc: 0.6769\n",
      "------------------------------\n",
      "Epoch 46/999\n",
      "\n",
      "\n",
      "TRAINING...\n",
      "\n"
     ]
    },
    {
     "name": "stderr",
     "output_type": "stream",
     "text": [
      "100%|██████████| 15/15 [02:00<00:00,  8.02s/it]\n"
     ]
    },
    {
     "name": "stdout",
     "output_type": "stream",
     "text": [
      "\n",
      "train Loss: 0.0402 Acc: 0.9867\n",
      "\n",
      "VALIDATION...\n",
      "\n"
     ]
    },
    {
     "name": "stderr",
     "output_type": "stream",
     "text": [
      "100%|██████████| 2/2 [00:05<00:00,  2.83s/it]\n"
     ]
    },
    {
     "name": "stdout",
     "output_type": "stream",
     "text": [
      "\n",
      "val Loss: 2.0355 Acc: 0.6308\n",
      "------------------------------\n",
      "Epoch 47/999\n",
      "\n",
      "\n",
      "TRAINING...\n",
      "\n"
     ]
    },
    {
     "name": "stderr",
     "output_type": "stream",
     "text": [
      "100%|██████████| 15/15 [01:58<00:00,  7.91s/it]\n"
     ]
    },
    {
     "name": "stdout",
     "output_type": "stream",
     "text": [
      "\n",
      "train Loss: 0.0625 Acc: 0.9750\n",
      "\n",
      "VALIDATION...\n",
      "\n"
     ]
    },
    {
     "name": "stderr",
     "output_type": "stream",
     "text": [
      "100%|██████████| 2/2 [00:05<00:00,  2.71s/it]\n"
     ]
    },
    {
     "name": "stdout",
     "output_type": "stream",
     "text": [
      "\n",
      "val Loss: 1.9186 Acc: 0.5538\n",
      "------------------------------\n",
      "Epoch 48/999\n",
      "\n",
      "\n",
      "TRAINING...\n",
      "\n"
     ]
    },
    {
     "name": "stderr",
     "output_type": "stream",
     "text": [
      "100%|██████████| 15/15 [01:51<00:00,  7.41s/it]\n"
     ]
    },
    {
     "name": "stdout",
     "output_type": "stream",
     "text": [
      "\n",
      "train Loss: 0.0609 Acc: 0.9817\n",
      "\n",
      "VALIDATION...\n",
      "\n"
     ]
    },
    {
     "name": "stderr",
     "output_type": "stream",
     "text": [
      "100%|██████████| 2/2 [00:05<00:00,  2.82s/it]\n"
     ]
    },
    {
     "name": "stdout",
     "output_type": "stream",
     "text": [
      "\n",
      "val Loss: 1.7707 Acc: 0.6615\n",
      "------------------------------\n",
      "Epoch 49/999\n",
      "\n",
      "\n",
      "TRAINING...\n",
      "\n"
     ]
    },
    {
     "name": "stderr",
     "output_type": "stream",
     "text": [
      "100%|██████████| 15/15 [01:51<00:00,  7.41s/it]\n"
     ]
    },
    {
     "name": "stdout",
     "output_type": "stream",
     "text": [
      "\n",
      "train Loss: 0.1413 Acc: 0.9517\n",
      "\n",
      "VALIDATION...\n",
      "\n"
     ]
    },
    {
     "name": "stderr",
     "output_type": "stream",
     "text": [
      "100%|██████████| 2/2 [00:05<00:00,  2.63s/it]\n"
     ]
    },
    {
     "name": "stdout",
     "output_type": "stream",
     "text": [
      "\n",
      "val Loss: 1.8830 Acc: 0.7077\n",
      "------------------------------\n",
      "Epoch 50/999\n",
      "\n",
      "\n",
      "TRAINING...\n",
      "\n"
     ]
    },
    {
     "name": "stderr",
     "output_type": "stream",
     "text": [
      "100%|██████████| 15/15 [01:51<00:00,  7.46s/it]\n"
     ]
    },
    {
     "name": "stdout",
     "output_type": "stream",
     "text": [
      "\n",
      "train Loss: 0.2585 Acc: 0.9267\n",
      "\n",
      "VALIDATION...\n",
      "\n"
     ]
    },
    {
     "name": "stderr",
     "output_type": "stream",
     "text": [
      "100%|██████████| 2/2 [00:05<00:00,  2.61s/it]\n"
     ]
    },
    {
     "name": "stdout",
     "output_type": "stream",
     "text": [
      "\n",
      "val Loss: 3.4137 Acc: 0.4769\n",
      "------------------------------\n",
      "Epoch 51/999\n",
      "\n",
      "\n",
      "TRAINING...\n",
      "\n"
     ]
    },
    {
     "name": "stderr",
     "output_type": "stream",
     "text": [
      "100%|██████████| 15/15 [01:53<00:00,  7.54s/it]\n"
     ]
    },
    {
     "name": "stdout",
     "output_type": "stream",
     "text": [
      "\n",
      "train Loss: 0.0846 Acc: 0.9750\n",
      "\n",
      "VALIDATION...\n",
      "\n"
     ]
    },
    {
     "name": "stderr",
     "output_type": "stream",
     "text": [
      "100%|██████████| 2/2 [00:05<00:00,  2.72s/it]\n"
     ]
    },
    {
     "name": "stdout",
     "output_type": "stream",
     "text": [
      "\n",
      "val Loss: 1.7109 Acc: 0.6308\n",
      "------------------------------\n",
      "Epoch 52/999\n",
      "\n",
      "\n",
      "TRAINING...\n",
      "\n"
     ]
    },
    {
     "name": "stderr",
     "output_type": "stream",
     "text": [
      "100%|██████████| 15/15 [01:53<00:00,  7.57s/it]\n"
     ]
    },
    {
     "name": "stdout",
     "output_type": "stream",
     "text": [
      "\n",
      "train Loss: 0.1412 Acc: 0.9600\n",
      "\n",
      "VALIDATION...\n",
      "\n"
     ]
    },
    {
     "name": "stderr",
     "output_type": "stream",
     "text": [
      "100%|██████████| 2/2 [00:05<00:00,  2.68s/it]\n"
     ]
    },
    {
     "name": "stdout",
     "output_type": "stream",
     "text": [
      "\n",
      "val Loss: 1.5959 Acc: 0.6923\n",
      "------------------------------\n",
      "Epoch 53/999\n",
      "\n",
      "\n",
      "TRAINING...\n",
      "\n"
     ]
    },
    {
     "name": "stderr",
     "output_type": "stream",
     "text": [
      "100%|██████████| 15/15 [01:53<00:00,  7.54s/it]\n"
     ]
    },
    {
     "name": "stdout",
     "output_type": "stream",
     "text": [
      "\n",
      "train Loss: 0.0672 Acc: 0.9817\n",
      "\n",
      "VALIDATION...\n",
      "\n"
     ]
    },
    {
     "name": "stderr",
     "output_type": "stream",
     "text": [
      "100%|██████████| 2/2 [00:05<00:00,  2.81s/it]\n"
     ]
    },
    {
     "name": "stdout",
     "output_type": "stream",
     "text": [
      "\n",
      "val Loss: 2.3100 Acc: 0.6000\n",
      "------------------------------\n",
      "Epoch 54/999\n",
      "\n",
      "\n",
      "TRAINING...\n",
      "\n"
     ]
    },
    {
     "name": "stderr",
     "output_type": "stream",
     "text": [
      "100%|██████████| 15/15 [02:05<00:00,  8.37s/it]\n"
     ]
    },
    {
     "name": "stdout",
     "output_type": "stream",
     "text": [
      "\n",
      "train Loss: 0.0824 Acc: 0.9750\n",
      "\n",
      "VALIDATION...\n",
      "\n"
     ]
    },
    {
     "name": "stderr",
     "output_type": "stream",
     "text": [
      "100%|██████████| 2/2 [00:06<00:00,  3.03s/it]\n"
     ]
    },
    {
     "name": "stdout",
     "output_type": "stream",
     "text": [
      "\n",
      "val Loss: 1.9346 Acc: 0.5692\n",
      "------------------------------\n",
      "Epoch 55/999\n",
      "\n",
      "\n",
      "TRAINING...\n",
      "\n"
     ]
    },
    {
     "name": "stderr",
     "output_type": "stream",
     "text": [
      "100%|██████████| 15/15 [01:58<00:00,  7.93s/it]\n"
     ]
    },
    {
     "name": "stdout",
     "output_type": "stream",
     "text": [
      "\n",
      "train Loss: 0.0995 Acc: 0.9683\n",
      "\n",
      "VALIDATION...\n",
      "\n"
     ]
    },
    {
     "name": "stderr",
     "output_type": "stream",
     "text": [
      "100%|██████████| 2/2 [00:05<00:00,  2.88s/it]\n"
     ]
    },
    {
     "name": "stdout",
     "output_type": "stream",
     "text": [
      "\n",
      "val Loss: 1.8172 Acc: 0.6154\n",
      "------------------------------\n",
      "Epoch 56/999\n",
      "\n",
      "\n",
      "TRAINING...\n",
      "\n"
     ]
    },
    {
     "name": "stderr",
     "output_type": "stream",
     "text": [
      "100%|██████████| 15/15 [01:54<00:00,  7.61s/it]\n"
     ]
    },
    {
     "name": "stdout",
     "output_type": "stream",
     "text": [
      "\n",
      "train Loss: 0.0675 Acc: 0.9833\n",
      "\n",
      "VALIDATION...\n",
      "\n"
     ]
    },
    {
     "name": "stderr",
     "output_type": "stream",
     "text": [
      "100%|██████████| 2/2 [00:05<00:00,  2.61s/it]\n"
     ]
    },
    {
     "name": "stdout",
     "output_type": "stream",
     "text": [
      "\n",
      "val Loss: 1.3941 Acc: 0.6769\n",
      "------------------------------\n",
      "Epoch 57/999\n",
      "\n",
      "\n",
      "TRAINING...\n",
      "\n"
     ]
    },
    {
     "name": "stderr",
     "output_type": "stream",
     "text": [
      "100%|██████████| 15/15 [01:52<00:00,  7.52s/it]\n"
     ]
    },
    {
     "name": "stdout",
     "output_type": "stream",
     "text": [
      "\n",
      "train Loss: 0.0643 Acc: 0.9767\n",
      "\n",
      "VALIDATION...\n",
      "\n"
     ]
    },
    {
     "name": "stderr",
     "output_type": "stream",
     "text": [
      "100%|██████████| 2/2 [00:05<00:00,  2.61s/it]\n"
     ]
    },
    {
     "name": "stdout",
     "output_type": "stream",
     "text": [
      "\n",
      "val Loss: 1.0239 Acc: 0.7231\n",
      "------------------------------\n",
      "Epoch 58/999\n",
      "\n",
      "\n",
      "TRAINING...\n",
      "\n"
     ]
    },
    {
     "name": "stderr",
     "output_type": "stream",
     "text": [
      "100%|██████████| 15/15 [01:47<00:00,  7.18s/it]\n"
     ]
    },
    {
     "name": "stdout",
     "output_type": "stream",
     "text": [
      "\n",
      "train Loss: 0.0391 Acc: 0.9900\n",
      "\n",
      "VALIDATION...\n",
      "\n"
     ]
    },
    {
     "name": "stderr",
     "output_type": "stream",
     "text": [
      "100%|██████████| 2/2 [00:05<00:00,  2.68s/it]\n"
     ]
    },
    {
     "name": "stdout",
     "output_type": "stream",
     "text": [
      "\n",
      "val Loss: 1.7300 Acc: 0.6923\n",
      "------------------------------\n",
      "Epoch 59/999\n",
      "\n",
      "\n",
      "TRAINING...\n",
      "\n"
     ]
    },
    {
     "name": "stderr",
     "output_type": "stream",
     "text": [
      "100%|██████████| 15/15 [02:00<00:00,  8.03s/it]\n"
     ]
    },
    {
     "name": "stdout",
     "output_type": "stream",
     "text": [
      "\n",
      "train Loss: 0.0671 Acc: 0.9767\n",
      "\n",
      "VALIDATION...\n",
      "\n"
     ]
    },
    {
     "name": "stderr",
     "output_type": "stream",
     "text": [
      "100%|██████████| 2/2 [00:05<00:00,  2.74s/it]\n"
     ]
    },
    {
     "name": "stdout",
     "output_type": "stream",
     "text": [
      "\n",
      "val Loss: 1.8462 Acc: 0.7077\n",
      "------------------------------\n",
      "Epoch 60/999\n",
      "\n",
      "\n",
      "TRAINING...\n",
      "\n"
     ]
    },
    {
     "name": "stderr",
     "output_type": "stream",
     "text": [
      "100%|██████████| 15/15 [02:25<00:00,  9.69s/it]\n"
     ]
    },
    {
     "name": "stdout",
     "output_type": "stream",
     "text": [
      "\n",
      "train Loss: 0.1021 Acc: 0.9683\n",
      "\n",
      "VALIDATION...\n",
      "\n"
     ]
    },
    {
     "name": "stderr",
     "output_type": "stream",
     "text": [
      "100%|██████████| 2/2 [00:07<00:00,  3.68s/it]\n"
     ]
    },
    {
     "name": "stdout",
     "output_type": "stream",
     "text": [
      "\n",
      "val Loss: 3.1289 Acc: 0.4615\n",
      "------------------------------\n",
      "Epoch 61/999\n",
      "\n",
      "\n",
      "TRAINING...\n",
      "\n"
     ]
    },
    {
     "name": "stderr",
     "output_type": "stream",
     "text": [
      "100%|██████████| 15/15 [03:07<00:00, 12.47s/it]\n"
     ]
    },
    {
     "name": "stdout",
     "output_type": "stream",
     "text": [
      "\n",
      "train Loss: 0.0985 Acc: 0.9633\n",
      "\n",
      "VALIDATION...\n",
      "\n"
     ]
    },
    {
     "name": "stderr",
     "output_type": "stream",
     "text": [
      "100%|██████████| 2/2 [00:08<00:00,  4.12s/it]\n"
     ]
    },
    {
     "name": "stdout",
     "output_type": "stream",
     "text": [
      "\n",
      "val Loss: 3.2597 Acc: 0.4462\n",
      "------------------------------\n",
      "Epoch 62/999\n",
      "\n",
      "\n",
      "TRAINING...\n",
      "\n"
     ]
    },
    {
     "name": "stderr",
     "output_type": "stream",
     "text": [
      "100%|██████████| 15/15 [03:30<00:00, 14.03s/it]\n"
     ]
    },
    {
     "name": "stdout",
     "output_type": "stream",
     "text": [
      "\n",
      "train Loss: 0.1047 Acc: 0.9700\n",
      "\n",
      "VALIDATION...\n",
      "\n"
     ]
    },
    {
     "name": "stderr",
     "output_type": "stream",
     "text": [
      "100%|██████████| 2/2 [00:08<00:00,  4.09s/it]\n"
     ]
    },
    {
     "name": "stdout",
     "output_type": "stream",
     "text": [
      "\n",
      "val Loss: 2.1906 Acc: 0.5846\n",
      "------------------------------\n",
      "Epoch 63/999\n",
      "\n",
      "\n",
      "TRAINING...\n",
      "\n"
     ]
    },
    {
     "name": "stderr",
     "output_type": "stream",
     "text": [
      "100%|██████████| 15/15 [02:56<00:00, 11.75s/it]\n"
     ]
    },
    {
     "name": "stdout",
     "output_type": "stream",
     "text": [
      "\n",
      "train Loss: 0.1069 Acc: 0.9717\n",
      "\n",
      "VALIDATION...\n",
      "\n"
     ]
    },
    {
     "name": "stderr",
     "output_type": "stream",
     "text": [
      "100%|██████████| 2/2 [00:07<00:00,  3.94s/it]\n"
     ]
    },
    {
     "name": "stdout",
     "output_type": "stream",
     "text": [
      "\n",
      "val Loss: 2.3162 Acc: 0.6462\n",
      "------------------------------\n",
      "Epoch 64/999\n",
      "\n",
      "\n",
      "TRAINING...\n",
      "\n"
     ]
    },
    {
     "name": "stderr",
     "output_type": "stream",
     "text": [
      "100%|██████████| 15/15 [02:43<00:00, 10.88s/it]\n"
     ]
    },
    {
     "name": "stdout",
     "output_type": "stream",
     "text": [
      "\n",
      "train Loss: 0.1140 Acc: 0.9633\n",
      "\n",
      "VALIDATION...\n",
      "\n"
     ]
    },
    {
     "name": "stderr",
     "output_type": "stream",
     "text": [
      "100%|██████████| 2/2 [00:06<00:00,  3.35s/it]\n"
     ]
    },
    {
     "name": "stdout",
     "output_type": "stream",
     "text": [
      "\n",
      "val Loss: 2.0537 Acc: 0.6154\n",
      "------------------------------\n",
      "Epoch 65/999\n",
      "\n",
      "\n",
      "TRAINING...\n",
      "\n"
     ]
    },
    {
     "name": "stderr",
     "output_type": "stream",
     "text": [
      "100%|██████████| 15/15 [03:12<00:00, 12.84s/it]\n"
     ]
    },
    {
     "name": "stdout",
     "output_type": "stream",
     "text": [
      "\n",
      "train Loss: 0.0841 Acc: 0.9767\n",
      "\n",
      "VALIDATION...\n",
      "\n"
     ]
    },
    {
     "name": "stderr",
     "output_type": "stream",
     "text": [
      "100%|██████████| 2/2 [00:11<00:00,  5.59s/it]\n"
     ]
    },
    {
     "name": "stdout",
     "output_type": "stream",
     "text": [
      "\n",
      "val Loss: 1.5130 Acc: 0.6769\n",
      "------------------------------\n",
      "Epoch 66/999\n",
      "\n",
      "\n",
      "TRAINING...\n",
      "\n"
     ]
    },
    {
     "name": "stderr",
     "output_type": "stream",
     "text": [
      "100%|██████████| 15/15 [03:05<00:00, 12.35s/it]\n"
     ]
    },
    {
     "name": "stdout",
     "output_type": "stream",
     "text": [
      "\n",
      "train Loss: 0.0778 Acc: 0.9733\n",
      "\n",
      "VALIDATION...\n",
      "\n"
     ]
    },
    {
     "name": "stderr",
     "output_type": "stream",
     "text": [
      "100%|██████████| 2/2 [00:08<00:00,  4.19s/it]\n"
     ]
    },
    {
     "name": "stdout",
     "output_type": "stream",
     "text": [
      "\n",
      "val Loss: 2.4209 Acc: 0.5846\n",
      "------------------------------\n",
      "Epoch 67/999\n",
      "\n",
      "\n",
      "TRAINING...\n",
      "\n"
     ]
    },
    {
     "name": "stderr",
     "output_type": "stream",
     "text": [
      "100%|██████████| 15/15 [02:59<00:00, 11.99s/it]\n"
     ]
    },
    {
     "name": "stdout",
     "output_type": "stream",
     "text": [
      "\n",
      "train Loss: 0.0351 Acc: 0.9917\n",
      "\n",
      "VALIDATION...\n",
      "\n"
     ]
    },
    {
     "name": "stderr",
     "output_type": "stream",
     "text": [
      "100%|██████████| 2/2 [00:07<00:00,  4.00s/it]\n"
     ]
    },
    {
     "name": "stdout",
     "output_type": "stream",
     "text": [
      "\n",
      "val Loss: 1.3941 Acc: 0.6769\n",
      "------------------------------\n",
      "Epoch 68/999\n",
      "\n",
      "\n",
      "TRAINING...\n",
      "\n"
     ]
    },
    {
     "name": "stderr",
     "output_type": "stream",
     "text": [
      "100%|██████████| 15/15 [02:57<00:00, 11.85s/it]\n"
     ]
    },
    {
     "name": "stdout",
     "output_type": "stream",
     "text": [
      "\n",
      "train Loss: 0.0234 Acc: 0.9950\n",
      "\n",
      "VALIDATION...\n",
      "\n"
     ]
    },
    {
     "name": "stderr",
     "output_type": "stream",
     "text": [
      "100%|██████████| 2/2 [00:08<00:00,  4.49s/it]\n"
     ]
    },
    {
     "name": "stdout",
     "output_type": "stream",
     "text": [
      "\n",
      "val Loss: 1.6585 Acc: 0.6462\n",
      "------------------------------\n",
      "Epoch 69/999\n",
      "\n",
      "\n",
      "TRAINING...\n",
      "\n"
     ]
    },
    {
     "name": "stderr",
     "output_type": "stream",
     "text": [
      "100%|██████████| 15/15 [02:53<00:00, 11.55s/it]\n"
     ]
    },
    {
     "name": "stdout",
     "output_type": "stream",
     "text": [
      "\n",
      "train Loss: 0.0404 Acc: 0.9867\n",
      "\n",
      "VALIDATION...\n",
      "\n"
     ]
    },
    {
     "name": "stderr",
     "output_type": "stream",
     "text": [
      "100%|██████████| 2/2 [00:07<00:00,  3.83s/it]\n"
     ]
    },
    {
     "name": "stdout",
     "output_type": "stream",
     "text": [
      "\n",
      "val Loss: 1.5874 Acc: 0.6154\n",
      "------------------------------\n",
      "Epoch 70/999\n",
      "\n",
      "\n",
      "TRAINING...\n",
      "\n"
     ]
    },
    {
     "name": "stderr",
     "output_type": "stream",
     "text": [
      "100%|██████████| 15/15 [02:53<00:00, 11.60s/it]\n"
     ]
    },
    {
     "name": "stdout",
     "output_type": "stream",
     "text": [
      "\n",
      "train Loss: 0.0421 Acc: 0.9883\n",
      "\n",
      "VALIDATION...\n",
      "\n"
     ]
    },
    {
     "name": "stderr",
     "output_type": "stream",
     "text": [
      "100%|██████████| 2/2 [00:07<00:00,  3.76s/it]\n"
     ]
    },
    {
     "name": "stdout",
     "output_type": "stream",
     "text": [
      "\n",
      "val Loss: 1.8529 Acc: 0.6308\n",
      "------------------------------\n",
      "Epoch 71/999\n",
      "\n",
      "\n",
      "TRAINING...\n",
      "\n"
     ]
    },
    {
     "name": "stderr",
     "output_type": "stream",
     "text": [
      "100%|██████████| 15/15 [02:50<00:00, 11.38s/it]\n"
     ]
    },
    {
     "name": "stdout",
     "output_type": "stream",
     "text": [
      "\n",
      "train Loss: 0.0342 Acc: 0.9900\n",
      "\n",
      "VALIDATION...\n",
      "\n"
     ]
    },
    {
     "name": "stderr",
     "output_type": "stream",
     "text": [
      "100%|██████████| 2/2 [00:08<00:00,  4.20s/it]\n"
     ]
    },
    {
     "name": "stdout",
     "output_type": "stream",
     "text": [
      "\n",
      "val Loss: 1.5136 Acc: 0.7077\n",
      "------------------------------\n",
      "Epoch 72/999\n",
      "\n",
      "\n",
      "TRAINING...\n",
      "\n"
     ]
    },
    {
     "name": "stderr",
     "output_type": "stream",
     "text": [
      "100%|██████████| 15/15 [02:45<00:00, 11.01s/it]\n"
     ]
    },
    {
     "name": "stdout",
     "output_type": "stream",
     "text": [
      "\n",
      "train Loss: 0.0232 Acc: 0.9950\n",
      "\n",
      "VALIDATION...\n",
      "\n"
     ]
    },
    {
     "name": "stderr",
     "output_type": "stream",
     "text": [
      "100%|██████████| 2/2 [00:08<00:00,  4.11s/it]\n"
     ]
    },
    {
     "name": "stdout",
     "output_type": "stream",
     "text": [
      "\n",
      "val Loss: 1.2696 Acc: 0.6769\n",
      "------------------------------\n",
      "Epoch 73/999\n",
      "\n",
      "\n",
      "TRAINING...\n",
      "\n"
     ]
    },
    {
     "name": "stderr",
     "output_type": "stream",
     "text": [
      "100%|██████████| 15/15 [02:41<00:00, 10.76s/it]\n"
     ]
    },
    {
     "name": "stdout",
     "output_type": "stream",
     "text": [
      "\n",
      "train Loss: 0.0271 Acc: 0.9950\n",
      "\n",
      "VALIDATION...\n",
      "\n"
     ]
    },
    {
     "name": "stderr",
     "output_type": "stream",
     "text": [
      "100%|██████████| 2/2 [00:07<00:00,  3.64s/it]\n"
     ]
    },
    {
     "name": "stdout",
     "output_type": "stream",
     "text": [
      "\n",
      "val Loss: 1.2482 Acc: 0.7692\n",
      "------------------------------\n",
      "Epoch 74/999\n",
      "\n",
      "\n",
      "TRAINING...\n",
      "\n"
     ]
    },
    {
     "name": "stderr",
     "output_type": "stream",
     "text": [
      "100%|██████████| 15/15 [02:37<00:00, 10.49s/it]\n"
     ]
    },
    {
     "name": "stdout",
     "output_type": "stream",
     "text": [
      "\n",
      "train Loss: 0.0163 Acc: 0.9950\n",
      "\n",
      "VALIDATION...\n",
      "\n"
     ]
    },
    {
     "name": "stderr",
     "output_type": "stream",
     "text": [
      "100%|██████████| 2/2 [00:06<00:00,  3.36s/it]\n"
     ]
    },
    {
     "name": "stdout",
     "output_type": "stream",
     "text": [
      "\n",
      "val Loss: 1.7458 Acc: 0.6462\n",
      "------------------------------\n",
      "Epoch 75/999\n",
      "\n",
      "\n",
      "TRAINING...\n",
      "\n"
     ]
    },
    {
     "name": "stderr",
     "output_type": "stream",
     "text": [
      "100%|██████████| 15/15 [02:43<00:00, 10.89s/it]\n"
     ]
    },
    {
     "name": "stdout",
     "output_type": "stream",
     "text": [
      "\n",
      "train Loss: 0.0229 Acc: 0.9950\n",
      "\n",
      "VALIDATION...\n",
      "\n"
     ]
    },
    {
     "name": "stderr",
     "output_type": "stream",
     "text": [
      "100%|██████████| 2/2 [00:06<00:00,  3.33s/it]\n"
     ]
    },
    {
     "name": "stdout",
     "output_type": "stream",
     "text": [
      "\n",
      "val Loss: 1.5909 Acc: 0.6615\n",
      "------------------------------\n",
      "Epoch 76/999\n",
      "\n",
      "\n",
      "TRAINING...\n",
      "\n"
     ]
    },
    {
     "name": "stderr",
     "output_type": "stream",
     "text": [
      "100%|██████████| 15/15 [02:51<00:00, 11.44s/it]\n"
     ]
    },
    {
     "name": "stdout",
     "output_type": "stream",
     "text": [
      "\n",
      "train Loss: 0.0076 Acc: 0.9983\n",
      "\n",
      "VALIDATION...\n",
      "\n"
     ]
    },
    {
     "name": "stderr",
     "output_type": "stream",
     "text": [
      "100%|██████████| 2/2 [00:07<00:00,  3.59s/it]\n"
     ]
    },
    {
     "name": "stdout",
     "output_type": "stream",
     "text": [
      "\n",
      "val Loss: 1.5875 Acc: 0.6615\n",
      "------------------------------\n",
      "Epoch 77/999\n",
      "\n",
      "\n",
      "TRAINING...\n",
      "\n"
     ]
    },
    {
     "name": "stderr",
     "output_type": "stream",
     "text": [
      "100%|██████████| 15/15 [02:27<00:00,  9.86s/it]\n"
     ]
    },
    {
     "name": "stdout",
     "output_type": "stream",
     "text": [
      "\n",
      "train Loss: 0.0066 Acc: 0.9983\n",
      "\n",
      "VALIDATION...\n",
      "\n"
     ]
    },
    {
     "name": "stderr",
     "output_type": "stream",
     "text": [
      "100%|██████████| 2/2 [00:05<00:00,  2.74s/it]\n"
     ]
    },
    {
     "name": "stdout",
     "output_type": "stream",
     "text": [
      "\n",
      "val Loss: 1.5155 Acc: 0.6769\n",
      "------------------------------\n",
      "Epoch 78/999\n",
      "\n",
      "\n",
      "TRAINING...\n",
      "\n"
     ]
    },
    {
     "name": "stderr",
     "output_type": "stream",
     "text": [
      "100%|██████████| 15/15 [01:47<00:00,  7.14s/it]\n"
     ]
    },
    {
     "name": "stdout",
     "output_type": "stream",
     "text": [
      "\n",
      "train Loss: 0.0059 Acc: 0.9983\n",
      "\n",
      "VALIDATION...\n",
      "\n"
     ]
    },
    {
     "name": "stderr",
     "output_type": "stream",
     "text": [
      "100%|██████████| 2/2 [00:05<00:00,  2.63s/it]\n"
     ]
    },
    {
     "name": "stdout",
     "output_type": "stream",
     "text": [
      "\n",
      "val Loss: 1.6018 Acc: 0.6615\n",
      "------------------------------\n",
      "Epoch 79/999\n",
      "\n",
      "\n",
      "TRAINING...\n",
      "\n"
     ]
    },
    {
     "name": "stderr",
     "output_type": "stream",
     "text": [
      "100%|██████████| 15/15 [01:45<00:00,  7.04s/it]\n"
     ]
    },
    {
     "name": "stdout",
     "output_type": "stream",
     "text": [
      "\n",
      "train Loss: 0.0028 Acc: 1.0000\n",
      "\n",
      "VALIDATION...\n",
      "\n"
     ]
    },
    {
     "name": "stderr",
     "output_type": "stream",
     "text": [
      "100%|██████████| 2/2 [00:04<00:00,  2.45s/it]\n"
     ]
    },
    {
     "name": "stdout",
     "output_type": "stream",
     "text": [
      "\n",
      "val Loss: 1.5074 Acc: 0.7077\n",
      "------------------------------\n",
      "Epoch 80/999\n",
      "\n",
      "\n",
      "TRAINING...\n",
      "\n"
     ]
    },
    {
     "name": "stderr",
     "output_type": "stream",
     "text": [
      "100%|██████████| 15/15 [01:45<00:00,  7.01s/it]\n"
     ]
    },
    {
     "name": "stdout",
     "output_type": "stream",
     "text": [
      "\n",
      "train Loss: 0.0057 Acc: 0.9983\n",
      "\n",
      "VALIDATION...\n",
      "\n"
     ]
    },
    {
     "name": "stderr",
     "output_type": "stream",
     "text": [
      "100%|██████████| 2/2 [00:05<00:00,  2.66s/it]\n"
     ]
    },
    {
     "name": "stdout",
     "output_type": "stream",
     "text": [
      "\n",
      "val Loss: 1.5677 Acc: 0.6769\n",
      "------------------------------\n",
      "Epoch 81/999\n",
      "\n",
      "\n",
      "TRAINING...\n",
      "\n"
     ]
    },
    {
     "name": "stderr",
     "output_type": "stream",
     "text": [
      "100%|██████████| 15/15 [01:45<00:00,  7.02s/it]\n"
     ]
    },
    {
     "name": "stdout",
     "output_type": "stream",
     "text": [
      "\n",
      "train Loss: 0.0045 Acc: 1.0000\n",
      "\n",
      "VALIDATION...\n",
      "\n"
     ]
    },
    {
     "name": "stderr",
     "output_type": "stream",
     "text": [
      "100%|██████████| 2/2 [00:05<00:00,  2.55s/it]\n"
     ]
    },
    {
     "name": "stdout",
     "output_type": "stream",
     "text": [
      "\n",
      "val Loss: 1.5905 Acc: 0.6769\n",
      "------------------------------\n",
      "Epoch 82/999\n",
      "\n",
      "\n",
      "TRAINING...\n",
      "\n"
     ]
    },
    {
     "name": "stderr",
     "output_type": "stream",
     "text": [
      "100%|██████████| 15/15 [01:42<00:00,  6.86s/it]\n"
     ]
    },
    {
     "name": "stdout",
     "output_type": "stream",
     "text": [
      "\n",
      "train Loss: 0.0059 Acc: 0.9983\n",
      "\n",
      "VALIDATION...\n",
      "\n"
     ]
    },
    {
     "name": "stderr",
     "output_type": "stream",
     "text": [
      "100%|██████████| 2/2 [00:04<00:00,  2.49s/it]\n"
     ]
    },
    {
     "name": "stdout",
     "output_type": "stream",
     "text": [
      "\n",
      "val Loss: 1.4357 Acc: 0.6769\n",
      "------------------------------\n",
      "Epoch 83/999\n",
      "\n",
      "\n",
      "TRAINING...\n",
      "\n"
     ]
    },
    {
     "name": "stderr",
     "output_type": "stream",
     "text": [
      "100%|██████████| 15/15 [01:47<00:00,  7.14s/it]\n"
     ]
    },
    {
     "name": "stdout",
     "output_type": "stream",
     "text": [
      "\n",
      "train Loss: 0.0071 Acc: 0.9983\n",
      "\n",
      "VALIDATION...\n",
      "\n"
     ]
    },
    {
     "name": "stderr",
     "output_type": "stream",
     "text": [
      "100%|██████████| 2/2 [00:05<00:00,  2.66s/it]\n"
     ]
    },
    {
     "name": "stdout",
     "output_type": "stream",
     "text": [
      "\n",
      "val Loss: 1.5030 Acc: 0.6923\n",
      "------------------------------\n",
      "Epoch 84/999\n",
      "\n",
      "\n",
      "TRAINING...\n",
      "\n"
     ]
    },
    {
     "name": "stderr",
     "output_type": "stream",
     "text": [
      "100%|██████████| 15/15 [01:55<00:00,  7.68s/it]\n"
     ]
    },
    {
     "name": "stdout",
     "output_type": "stream",
     "text": [
      "\n",
      "train Loss: 0.0032 Acc: 1.0000\n",
      "\n",
      "VALIDATION...\n",
      "\n"
     ]
    },
    {
     "name": "stderr",
     "output_type": "stream",
     "text": [
      "100%|██████████| 2/2 [00:05<00:00,  2.68s/it]\n"
     ]
    },
    {
     "name": "stdout",
     "output_type": "stream",
     "text": [
      "\n",
      "val Loss: 1.4923 Acc: 0.6923\n",
      "------------------------------\n",
      "Epoch 85/999\n",
      "\n",
      "\n",
      "TRAINING...\n",
      "\n"
     ]
    },
    {
     "name": "stderr",
     "output_type": "stream",
     "text": [
      "100%|██████████| 15/15 [02:07<00:00,  8.48s/it]\n"
     ]
    },
    {
     "name": "stdout",
     "output_type": "stream",
     "text": [
      "\n",
      "train Loss: 0.0053 Acc: 1.0000\n",
      "\n",
      "VALIDATION...\n",
      "\n"
     ]
    },
    {
     "name": "stderr",
     "output_type": "stream",
     "text": [
      "100%|██████████| 2/2 [00:05<00:00,  2.92s/it]\n"
     ]
    },
    {
     "name": "stdout",
     "output_type": "stream",
     "text": [
      "\n",
      "val Loss: 1.4993 Acc: 0.6923\n",
      "------------------------------\n",
      "Epoch 86/999\n",
      "\n",
      "\n",
      "TRAINING...\n",
      "\n"
     ]
    },
    {
     "name": "stderr",
     "output_type": "stream",
     "text": [
      "100%|██████████| 15/15 [02:00<00:00,  8.04s/it]\n"
     ]
    },
    {
     "name": "stdout",
     "output_type": "stream",
     "text": [
      "\n",
      "train Loss: 0.0032 Acc: 1.0000\n",
      "\n",
      "VALIDATION...\n",
      "\n"
     ]
    },
    {
     "name": "stderr",
     "output_type": "stream",
     "text": [
      "100%|██████████| 2/2 [00:05<00:00,  2.72s/it]\n"
     ]
    },
    {
     "name": "stdout",
     "output_type": "stream",
     "text": [
      "\n",
      "val Loss: 1.5083 Acc: 0.6462\n",
      "------------------------------\n",
      "Epoch 87/999\n",
      "\n",
      "\n",
      "TRAINING...\n",
      "\n"
     ]
    },
    {
     "name": "stderr",
     "output_type": "stream",
     "text": [
      "100%|██████████| 15/15 [02:00<00:00,  8.03s/it]\n"
     ]
    },
    {
     "name": "stdout",
     "output_type": "stream",
     "text": [
      "\n",
      "train Loss: 0.0028 Acc: 1.0000\n",
      "\n",
      "VALIDATION...\n",
      "\n"
     ]
    },
    {
     "name": "stderr",
     "output_type": "stream",
     "text": [
      "100%|██████████| 2/2 [00:05<00:00,  2.59s/it]\n"
     ]
    },
    {
     "name": "stdout",
     "output_type": "stream",
     "text": [
      "\n",
      "val Loss: 1.4807 Acc: 0.6462\n",
      "------------------------------\n",
      "Epoch 88/999\n",
      "\n",
      "\n",
      "TRAINING...\n",
      "\n"
     ]
    },
    {
     "name": "stderr",
     "output_type": "stream",
     "text": [
      "100%|██████████| 15/15 [01:53<00:00,  7.58s/it]\n"
     ]
    },
    {
     "name": "stdout",
     "output_type": "stream",
     "text": [
      "\n",
      "train Loss: 0.0011 Acc: 1.0000\n",
      "\n",
      "VALIDATION...\n",
      "\n"
     ]
    },
    {
     "name": "stderr",
     "output_type": "stream",
     "text": [
      "100%|██████████| 2/2 [00:05<00:00,  2.75s/it]\n"
     ]
    },
    {
     "name": "stdout",
     "output_type": "stream",
     "text": [
      "\n",
      "val Loss: 1.3956 Acc: 0.6615\n",
      "------------------------------\n",
      "Epoch 89/999\n",
      "\n",
      "\n",
      "TRAINING...\n",
      "\n"
     ]
    },
    {
     "name": "stderr",
     "output_type": "stream",
     "text": [
      "100%|██████████| 15/15 [01:56<00:00,  7.79s/it]\n"
     ]
    },
    {
     "name": "stdout",
     "output_type": "stream",
     "text": [
      "\n",
      "train Loss: 0.0009 Acc: 1.0000\n",
      "\n",
      "VALIDATION...\n",
      "\n"
     ]
    },
    {
     "name": "stderr",
     "output_type": "stream",
     "text": [
      "100%|██████████| 2/2 [00:05<00:00,  2.70s/it]\n"
     ]
    },
    {
     "name": "stdout",
     "output_type": "stream",
     "text": [
      "\n",
      "val Loss: 1.3763 Acc: 0.6923\n",
      "------------------------------\n",
      "Epoch 90/999\n",
      "\n",
      "\n",
      "TRAINING...\n",
      "\n"
     ]
    },
    {
     "name": "stderr",
     "output_type": "stream",
     "text": [
      "100%|██████████| 15/15 [02:11<00:00,  8.74s/it]\n"
     ]
    },
    {
     "name": "stdout",
     "output_type": "stream",
     "text": [
      "\n",
      "train Loss: 0.0018 Acc: 1.0000\n",
      "\n",
      "VALIDATION...\n",
      "\n"
     ]
    },
    {
     "name": "stderr",
     "output_type": "stream",
     "text": [
      "100%|██████████| 2/2 [00:05<00:00,  2.67s/it]\n"
     ]
    },
    {
     "name": "stdout",
     "output_type": "stream",
     "text": [
      "\n",
      "val Loss: 1.3714 Acc: 0.7077\n",
      "------------------------------\n",
      "Epoch 91/999\n",
      "\n",
      "\n",
      "TRAINING...\n",
      "\n"
     ]
    },
    {
     "name": "stderr",
     "output_type": "stream",
     "text": [
      "100%|██████████| 15/15 [02:02<00:00,  8.17s/it]\n"
     ]
    },
    {
     "name": "stdout",
     "output_type": "stream",
     "text": [
      "\n",
      "train Loss: 0.0012 Acc: 1.0000\n",
      "\n",
      "VALIDATION...\n",
      "\n"
     ]
    },
    {
     "name": "stderr",
     "output_type": "stream",
     "text": [
      "100%|██████████| 2/2 [00:06<00:00,  3.15s/it]\n"
     ]
    },
    {
     "name": "stdout",
     "output_type": "stream",
     "text": [
      "\n",
      "val Loss: 1.3516 Acc: 0.6923\n",
      "------------------------------\n",
      "Epoch 92/999\n",
      "\n",
      "\n",
      "TRAINING...\n",
      "\n"
     ]
    },
    {
     "name": "stderr",
     "output_type": "stream",
     "text": [
      "100%|██████████| 15/15 [02:17<00:00,  9.17s/it]\n"
     ]
    },
    {
     "name": "stdout",
     "output_type": "stream",
     "text": [
      "\n",
      "train Loss: 0.0009 Acc: 1.0000\n",
      "\n",
      "VALIDATION...\n",
      "\n"
     ]
    },
    {
     "name": "stderr",
     "output_type": "stream",
     "text": [
      "100%|██████████| 2/2 [00:06<00:00,  3.18s/it]\n"
     ]
    },
    {
     "name": "stdout",
     "output_type": "stream",
     "text": [
      "\n",
      "val Loss: 1.3797 Acc: 0.7077\n",
      "------------------------------\n",
      "Epoch 93/999\n",
      "\n",
      "\n",
      "TRAINING...\n",
      "\n"
     ]
    },
    {
     "name": "stderr",
     "output_type": "stream",
     "text": [
      "100%|██████████| 15/15 [01:56<00:00,  7.77s/it]\n"
     ]
    },
    {
     "name": "stdout",
     "output_type": "stream",
     "text": [
      "\n",
      "train Loss: 0.0007 Acc: 1.0000\n",
      "\n",
      "VALIDATION...\n",
      "\n"
     ]
    },
    {
     "name": "stderr",
     "output_type": "stream",
     "text": [
      "100%|██████████| 2/2 [00:06<00:00,  3.14s/it]\n"
     ]
    },
    {
     "name": "stdout",
     "output_type": "stream",
     "text": [
      "\n",
      "val Loss: 1.3382 Acc: 0.6923\n",
      "------------------------------\n",
      "Epoch 94/999\n",
      "\n",
      "\n",
      "TRAINING...\n",
      "\n"
     ]
    },
    {
     "name": "stderr",
     "output_type": "stream",
     "text": [
      "100%|██████████| 15/15 [02:05<00:00,  8.35s/it]\n"
     ]
    },
    {
     "name": "stdout",
     "output_type": "stream",
     "text": [
      "\n",
      "train Loss: 0.0007 Acc: 1.0000\n",
      "\n",
      "VALIDATION...\n",
      "\n"
     ]
    },
    {
     "name": "stderr",
     "output_type": "stream",
     "text": [
      "100%|██████████| 2/2 [00:05<00:00,  2.57s/it]\n"
     ]
    },
    {
     "name": "stdout",
     "output_type": "stream",
     "text": [
      "\n",
      "val Loss: 1.3612 Acc: 0.7077\n",
      "------------------------------\n",
      "Epoch 95/999\n",
      "\n",
      "\n",
      "TRAINING...\n",
      "\n"
     ]
    },
    {
     "name": "stderr",
     "output_type": "stream",
     "text": [
      "100%|██████████| 15/15 [01:51<00:00,  7.46s/it]\n"
     ]
    },
    {
     "name": "stdout",
     "output_type": "stream",
     "text": [
      "\n",
      "train Loss: 0.0007 Acc: 1.0000\n",
      "\n",
      "VALIDATION...\n",
      "\n"
     ]
    },
    {
     "name": "stderr",
     "output_type": "stream",
     "text": [
      "100%|██████████| 2/2 [00:05<00:00,  2.57s/it]\n"
     ]
    },
    {
     "name": "stdout",
     "output_type": "stream",
     "text": [
      "\n",
      "val Loss: 1.3530 Acc: 0.7231\n",
      "------------------------------\n",
      "Epoch 96/999\n",
      "\n",
      "\n",
      "TRAINING...\n",
      "\n"
     ]
    },
    {
     "name": "stderr",
     "output_type": "stream",
     "text": [
      "100%|██████████| 15/15 [01:47<00:00,  7.15s/it]\n"
     ]
    },
    {
     "name": "stdout",
     "output_type": "stream",
     "text": [
      "\n",
      "train Loss: 0.0008 Acc: 1.0000\n",
      "\n",
      "VALIDATION...\n",
      "\n"
     ]
    },
    {
     "name": "stderr",
     "output_type": "stream",
     "text": [
      "100%|██████████| 2/2 [00:05<00:00,  2.68s/it]\n"
     ]
    },
    {
     "name": "stdout",
     "output_type": "stream",
     "text": [
      "\n",
      "val Loss: 1.3823 Acc: 0.7077\n",
      "------------------------------\n",
      "Epoch 97/999\n",
      "\n",
      "\n",
      "TRAINING...\n",
      "\n"
     ]
    },
    {
     "name": "stderr",
     "output_type": "stream",
     "text": [
      "100%|██████████| 15/15 [01:48<00:00,  7.24s/it]\n"
     ]
    },
    {
     "name": "stdout",
     "output_type": "stream",
     "text": [
      "\n",
      "train Loss: 0.0023 Acc: 1.0000\n",
      "\n",
      "VALIDATION...\n",
      "\n"
     ]
    },
    {
     "name": "stderr",
     "output_type": "stream",
     "text": [
      "100%|██████████| 2/2 [00:05<00:00,  2.50s/it]\n"
     ]
    },
    {
     "name": "stdout",
     "output_type": "stream",
     "text": [
      "\n",
      "val Loss: 1.3545 Acc: 0.6923\n",
      "------------------------------\n",
      "Epoch 98/999\n",
      "\n",
      "\n",
      "TRAINING...\n",
      "\n"
     ]
    },
    {
     "name": "stderr",
     "output_type": "stream",
     "text": [
      "100%|██████████| 15/15 [01:50<00:00,  7.35s/it]\n"
     ]
    },
    {
     "name": "stdout",
     "output_type": "stream",
     "text": [
      "\n",
      "train Loss: 0.0014 Acc: 1.0000\n",
      "\n",
      "VALIDATION...\n",
      "\n"
     ]
    },
    {
     "name": "stderr",
     "output_type": "stream",
     "text": [
      "100%|██████████| 2/2 [00:05<00:00,  2.59s/it]\n"
     ]
    },
    {
     "name": "stdout",
     "output_type": "stream",
     "text": [
      "\n",
      "val Loss: 1.3643 Acc: 0.6923\n",
      "------------------------------\n",
      "Epoch 99/999\n",
      "\n",
      "\n",
      "TRAINING...\n",
      "\n"
     ]
    },
    {
     "name": "stderr",
     "output_type": "stream",
     "text": [
      "100%|██████████| 15/15 [01:52<00:00,  7.50s/it]\n"
     ]
    },
    {
     "name": "stdout",
     "output_type": "stream",
     "text": [
      "\n",
      "train Loss: 0.0077 Acc: 0.9983\n",
      "\n",
      "VALIDATION...\n",
      "\n"
     ]
    },
    {
     "name": "stderr",
     "output_type": "stream",
     "text": [
      "100%|██████████| 2/2 [00:05<00:00,  2.57s/it]\n"
     ]
    },
    {
     "name": "stdout",
     "output_type": "stream",
     "text": [
      "\n",
      "val Loss: 1.6366 Acc: 0.6923\n",
      "------------------------------\n",
      "Epoch 100/999\n",
      "\n",
      "\n",
      "TRAINING...\n",
      "\n"
     ]
    },
    {
     "name": "stderr",
     "output_type": "stream",
     "text": [
      "100%|██████████| 15/15 [01:49<00:00,  7.33s/it]\n"
     ]
    },
    {
     "name": "stdout",
     "output_type": "stream",
     "text": [
      "\n",
      "train Loss: 0.0079 Acc: 0.9967\n",
      "\n",
      "VALIDATION...\n",
      "\n"
     ]
    },
    {
     "name": "stderr",
     "output_type": "stream",
     "text": [
      "100%|██████████| 2/2 [00:04<00:00,  2.47s/it]\n"
     ]
    },
    {
     "name": "stdout",
     "output_type": "stream",
     "text": [
      "\n",
      "val Loss: 1.9921 Acc: 0.6769\n",
      "------------------------------\n",
      "Epoch 101/999\n",
      "\n",
      "\n",
      "TRAINING...\n",
      "\n"
     ]
    },
    {
     "name": "stderr",
     "output_type": "stream",
     "text": [
      "100%|██████████| 15/15 [01:48<00:00,  7.23s/it]\n"
     ]
    },
    {
     "name": "stdout",
     "output_type": "stream",
     "text": [
      "\n",
      "train Loss: 0.0086 Acc: 0.9967\n",
      "\n",
      "VALIDATION...\n",
      "\n"
     ]
    },
    {
     "name": "stderr",
     "output_type": "stream",
     "text": [
      "100%|██████████| 2/2 [00:05<00:00,  2.55s/it]\n"
     ]
    },
    {
     "name": "stdout",
     "output_type": "stream",
     "text": [
      "\n",
      "val Loss: 1.6869 Acc: 0.6769\n",
      "------------------------------\n",
      "Epoch 102/999\n",
      "\n",
      "\n",
      "TRAINING...\n",
      "\n"
     ]
    },
    {
     "name": "stderr",
     "output_type": "stream",
     "text": [
      "100%|██████████| 15/15 [01:46<00:00,  7.08s/it]\n"
     ]
    },
    {
     "name": "stdout",
     "output_type": "stream",
     "text": [
      "\n",
      "train Loss: 0.0065 Acc: 0.9983\n",
      "\n",
      "VALIDATION...\n",
      "\n"
     ]
    },
    {
     "name": "stderr",
     "output_type": "stream",
     "text": [
      "100%|██████████| 2/2 [00:05<00:00,  2.58s/it]\n"
     ]
    },
    {
     "name": "stdout",
     "output_type": "stream",
     "text": [
      "\n",
      "val Loss: 1.8814 Acc: 0.6615\n",
      "------------------------------\n",
      "Epoch 103/999\n",
      "\n",
      "\n",
      "TRAINING...\n",
      "\n"
     ]
    },
    {
     "name": "stderr",
     "output_type": "stream",
     "text": [
      "100%|██████████| 15/15 [01:46<00:00,  7.12s/it]\n"
     ]
    },
    {
     "name": "stdout",
     "output_type": "stream",
     "text": [
      "\n",
      "train Loss: 0.0109 Acc: 0.9967\n",
      "\n",
      "VALIDATION...\n",
      "\n"
     ]
    },
    {
     "name": "stderr",
     "output_type": "stream",
     "text": [
      "100%|██████████| 2/2 [00:05<00:00,  2.53s/it]\n"
     ]
    },
    {
     "name": "stdout",
     "output_type": "stream",
     "text": [
      "\n",
      "val Loss: 1.5343 Acc: 0.6923\n",
      "------------------------------\n",
      "Epoch 104/999\n",
      "\n",
      "\n",
      "TRAINING...\n",
      "\n"
     ]
    },
    {
     "name": "stderr",
     "output_type": "stream",
     "text": [
      "100%|██████████| 15/15 [01:47<00:00,  7.14s/it]\n"
     ]
    },
    {
     "name": "stdout",
     "output_type": "stream",
     "text": [
      "\n",
      "train Loss: 0.0097 Acc: 0.9950\n",
      "\n",
      "VALIDATION...\n",
      "\n"
     ]
    },
    {
     "name": "stderr",
     "output_type": "stream",
     "text": [
      "100%|██████████| 2/2 [00:04<00:00,  2.48s/it]\n"
     ]
    },
    {
     "name": "stdout",
     "output_type": "stream",
     "text": [
      "\n",
      "val Loss: 1.6674 Acc: 0.6615\n",
      "------------------------------\n",
      "Epoch 105/999\n",
      "\n",
      "\n",
      "TRAINING...\n",
      "\n"
     ]
    },
    {
     "name": "stderr",
     "output_type": "stream",
     "text": [
      "100%|██████████| 15/15 [01:45<00:00,  7.00s/it]\n"
     ]
    },
    {
     "name": "stdout",
     "output_type": "stream",
     "text": [
      "\n",
      "train Loss: 0.0134 Acc: 0.9983\n",
      "\n",
      "VALIDATION...\n",
      "\n"
     ]
    },
    {
     "name": "stderr",
     "output_type": "stream",
     "text": [
      "100%|██████████| 2/2 [00:04<00:00,  2.48s/it]\n"
     ]
    },
    {
     "name": "stdout",
     "output_type": "stream",
     "text": [
      "\n",
      "val Loss: 2.0070 Acc: 0.6308\n",
      "------------------------------\n",
      "Epoch 106/999\n",
      "\n",
      "\n",
      "TRAINING...\n",
      "\n"
     ]
    },
    {
     "name": "stderr",
     "output_type": "stream",
     "text": [
      "100%|██████████| 15/15 [01:41<00:00,  6.74s/it]\n"
     ]
    },
    {
     "name": "stdout",
     "output_type": "stream",
     "text": [
      "\n",
      "train Loss: 0.0489 Acc: 0.9883\n",
      "\n",
      "VALIDATION...\n",
      "\n"
     ]
    },
    {
     "name": "stderr",
     "output_type": "stream",
     "text": [
      "100%|██████████| 2/2 [00:05<00:00,  2.54s/it]\n"
     ]
    },
    {
     "name": "stdout",
     "output_type": "stream",
     "text": [
      "\n",
      "val Loss: 3.1232 Acc: 0.5077\n",
      "------------------------------\n",
      "Epoch 107/999\n",
      "\n",
      "\n",
      "TRAINING...\n",
      "\n"
     ]
    },
    {
     "name": "stderr",
     "output_type": "stream",
     "text": [
      "100%|██████████| 15/15 [01:44<00:00,  6.97s/it]\n"
     ]
    },
    {
     "name": "stdout",
     "output_type": "stream",
     "text": [
      "\n",
      "train Loss: 0.0272 Acc: 0.9950\n",
      "\n",
      "VALIDATION...\n",
      "\n"
     ]
    },
    {
     "name": "stderr",
     "output_type": "stream",
     "text": [
      "100%|██████████| 2/2 [00:04<00:00,  2.48s/it]\n"
     ]
    },
    {
     "name": "stdout",
     "output_type": "stream",
     "text": [
      "\n",
      "val Loss: 2.4928 Acc: 0.6154\n",
      "------------------------------\n",
      "Epoch 108/999\n",
      "\n",
      "\n",
      "TRAINING...\n",
      "\n"
     ]
    },
    {
     "name": "stderr",
     "output_type": "stream",
     "text": [
      "100%|██████████| 15/15 [01:54<00:00,  7.65s/it]\n"
     ]
    },
    {
     "name": "stdout",
     "output_type": "stream",
     "text": [
      "\n",
      "train Loss: 0.0305 Acc: 0.9867\n",
      "\n",
      "VALIDATION...\n",
      "\n"
     ]
    },
    {
     "name": "stderr",
     "output_type": "stream",
     "text": [
      "100%|██████████| 2/2 [00:04<00:00,  2.44s/it]\n"
     ]
    },
    {
     "name": "stdout",
     "output_type": "stream",
     "text": [
      "\n",
      "val Loss: 1.9472 Acc: 0.6462\n",
      "------------------------------\n",
      "Epoch 109/999\n",
      "\n",
      "\n",
      "TRAINING...\n",
      "\n"
     ]
    },
    {
     "name": "stderr",
     "output_type": "stream",
     "text": [
      "100%|██████████| 15/15 [01:47<00:00,  7.16s/it]\n"
     ]
    },
    {
     "name": "stdout",
     "output_type": "stream",
     "text": [
      "\n",
      "train Loss: 0.0107 Acc: 0.9967\n",
      "\n",
      "VALIDATION...\n",
      "\n"
     ]
    },
    {
     "name": "stderr",
     "output_type": "stream",
     "text": [
      "100%|██████████| 2/2 [00:04<00:00,  2.50s/it]\n"
     ]
    },
    {
     "name": "stdout",
     "output_type": "stream",
     "text": [
      "\n",
      "val Loss: 1.8109 Acc: 0.6769\n",
      "------------------------------\n",
      "Epoch 110/999\n",
      "\n",
      "\n",
      "TRAINING...\n",
      "\n"
     ]
    },
    {
     "name": "stderr",
     "output_type": "stream",
     "text": [
      "100%|██████████| 15/15 [01:46<00:00,  7.11s/it]\n"
     ]
    },
    {
     "name": "stdout",
     "output_type": "stream",
     "text": [
      "\n",
      "train Loss: 0.0162 Acc: 0.9933\n",
      "\n",
      "VALIDATION...\n",
      "\n"
     ]
    },
    {
     "name": "stderr",
     "output_type": "stream",
     "text": [
      "100%|██████████| 2/2 [00:05<00:00,  2.53s/it]\n"
     ]
    },
    {
     "name": "stdout",
     "output_type": "stream",
     "text": [
      "\n",
      "val Loss: 2.2971 Acc: 0.6615\n",
      "------------------------------\n",
      "Epoch 111/999\n",
      "\n",
      "\n",
      "TRAINING...\n",
      "\n"
     ]
    },
    {
     "name": "stderr",
     "output_type": "stream",
     "text": [
      "100%|██████████| 15/15 [01:43<00:00,  6.87s/it]\n"
     ]
    },
    {
     "name": "stdout",
     "output_type": "stream",
     "text": [
      "\n",
      "train Loss: 0.0224 Acc: 0.9967\n",
      "\n",
      "VALIDATION...\n",
      "\n"
     ]
    },
    {
     "name": "stderr",
     "output_type": "stream",
     "text": [
      "100%|██████████| 2/2 [00:05<00:00,  2.67s/it]\n"
     ]
    },
    {
     "name": "stdout",
     "output_type": "stream",
     "text": [
      "\n",
      "val Loss: 2.0702 Acc: 0.5846\n",
      "------------------------------\n",
      "Epoch 112/999\n",
      "\n",
      "\n",
      "TRAINING...\n",
      "\n"
     ]
    },
    {
     "name": "stderr",
     "output_type": "stream",
     "text": [
      "100%|██████████| 15/15 [01:46<00:00,  7.08s/it]\n"
     ]
    },
    {
     "name": "stdout",
     "output_type": "stream",
     "text": [
      "\n",
      "train Loss: 0.0186 Acc: 0.9967\n",
      "\n",
      "VALIDATION...\n",
      "\n"
     ]
    },
    {
     "name": "stderr",
     "output_type": "stream",
     "text": [
      "100%|██████████| 2/2 [00:05<00:00,  2.65s/it]\n"
     ]
    },
    {
     "name": "stdout",
     "output_type": "stream",
     "text": [
      "\n",
      "val Loss: 2.1638 Acc: 0.6154\n",
      "------------------------------\n",
      "Epoch 113/999\n",
      "\n",
      "\n",
      "TRAINING...\n",
      "\n"
     ]
    },
    {
     "name": "stderr",
     "output_type": "stream",
     "text": [
      "100%|██████████| 15/15 [01:47<00:00,  7.17s/it]\n"
     ]
    },
    {
     "name": "stdout",
     "output_type": "stream",
     "text": [
      "\n",
      "train Loss: 0.0587 Acc: 0.9817\n",
      "\n",
      "VALIDATION...\n",
      "\n"
     ]
    },
    {
     "name": "stderr",
     "output_type": "stream",
     "text": [
      "100%|██████████| 2/2 [00:05<00:00,  2.55s/it]\n"
     ]
    },
    {
     "name": "stdout",
     "output_type": "stream",
     "text": [
      "\n",
      "val Loss: 3.0376 Acc: 0.6000\n",
      "------------------------------\n",
      "Epoch 114/999\n",
      "\n",
      "\n",
      "TRAINING...\n",
      "\n"
     ]
    },
    {
     "name": "stderr",
     "output_type": "stream",
     "text": [
      "100%|██████████| 15/15 [01:49<00:00,  7.33s/it]\n"
     ]
    },
    {
     "name": "stdout",
     "output_type": "stream",
     "text": [
      "\n",
      "train Loss: 0.1435 Acc: 0.9550\n",
      "\n",
      "VALIDATION...\n",
      "\n"
     ]
    },
    {
     "name": "stderr",
     "output_type": "stream",
     "text": [
      "100%|██████████| 2/2 [00:05<00:00,  2.79s/it]\n"
     ]
    },
    {
     "name": "stdout",
     "output_type": "stream",
     "text": [
      "\n",
      "val Loss: 3.8124 Acc: 0.4923\n",
      "------------------------------\n",
      "Epoch 115/999\n",
      "\n",
      "\n",
      "TRAINING...\n",
      "\n"
     ]
    },
    {
     "name": "stderr",
     "output_type": "stream",
     "text": [
      "100%|██████████| 15/15 [01:47<00:00,  7.16s/it]\n"
     ]
    },
    {
     "name": "stdout",
     "output_type": "stream",
     "text": [
      "\n",
      "train Loss: 0.1535 Acc: 0.9500\n",
      "\n",
      "VALIDATION...\n",
      "\n"
     ]
    },
    {
     "name": "stderr",
     "output_type": "stream",
     "text": [
      "100%|██████████| 2/2 [00:04<00:00,  2.43s/it]\n"
     ]
    },
    {
     "name": "stdout",
     "output_type": "stream",
     "text": [
      "\n",
      "val Loss: 2.6998 Acc: 0.5385\n",
      "------------------------------\n",
      "Epoch 116/999\n",
      "\n",
      "\n",
      "TRAINING...\n",
      "\n"
     ]
    },
    {
     "name": "stderr",
     "output_type": "stream",
     "text": [
      "100%|██████████| 15/15 [01:40<00:00,  6.69s/it]\n"
     ]
    },
    {
     "name": "stdout",
     "output_type": "stream",
     "text": [
      "\n",
      "train Loss: 0.2086 Acc: 0.9517\n",
      "\n",
      "VALIDATION...\n",
      "\n"
     ]
    },
    {
     "name": "stderr",
     "output_type": "stream",
     "text": [
      "100%|██████████| 2/2 [00:05<00:00,  2.65s/it]\n"
     ]
    },
    {
     "name": "stdout",
     "output_type": "stream",
     "text": [
      "\n",
      "val Loss: 3.6295 Acc: 0.4308\n",
      "------------------------------\n",
      "Epoch 117/999\n",
      "\n",
      "\n",
      "TRAINING...\n",
      "\n"
     ]
    },
    {
     "name": "stderr",
     "output_type": "stream",
     "text": [
      "100%|██████████| 15/15 [01:41<00:00,  6.76s/it]\n"
     ]
    },
    {
     "name": "stdout",
     "output_type": "stream",
     "text": [
      "\n",
      "train Loss: 0.1976 Acc: 0.9317\n",
      "\n",
      "VALIDATION...\n",
      "\n"
     ]
    },
    {
     "name": "stderr",
     "output_type": "stream",
     "text": [
      "100%|██████████| 2/2 [00:05<00:00,  2.56s/it]\n"
     ]
    },
    {
     "name": "stdout",
     "output_type": "stream",
     "text": [
      "\n",
      "val Loss: 3.4658 Acc: 0.3692\n",
      "------------------------------\n",
      "Epoch 118/999\n",
      "\n",
      "\n",
      "TRAINING...\n",
      "\n"
     ]
    },
    {
     "name": "stderr",
     "output_type": "stream",
     "text": [
      "100%|██████████| 15/15 [01:41<00:00,  6.75s/it]\n"
     ]
    },
    {
     "name": "stdout",
     "output_type": "stream",
     "text": [
      "\n",
      "train Loss: 0.1763 Acc: 0.9417\n",
      "\n",
      "VALIDATION...\n",
      "\n"
     ]
    },
    {
     "name": "stderr",
     "output_type": "stream",
     "text": [
      "100%|██████████| 2/2 [00:04<00:00,  2.14s/it]\n"
     ]
    },
    {
     "name": "stdout",
     "output_type": "stream",
     "text": [
      "\n",
      "val Loss: 3.7639 Acc: 0.3846\n",
      "------------------------------\n",
      "Epoch 119/999\n",
      "\n",
      "\n",
      "TRAINING...\n",
      "\n"
     ]
    },
    {
     "name": "stderr",
     "output_type": "stream",
     "text": [
      "100%|██████████| 15/15 [01:46<00:00,  7.13s/it]\n"
     ]
    },
    {
     "name": "stdout",
     "output_type": "stream",
     "text": [
      "\n",
      "train Loss: 0.2842 Acc: 0.9183\n",
      "\n",
      "VALIDATION...\n",
      "\n"
     ]
    },
    {
     "name": "stderr",
     "output_type": "stream",
     "text": [
      "100%|██████████| 2/2 [00:05<00:00,  2.57s/it]\n"
     ]
    },
    {
     "name": "stdout",
     "output_type": "stream",
     "text": [
      "\n",
      "val Loss: 3.1648 Acc: 0.4462\n",
      "------------------------------\n",
      "Epoch 120/999\n",
      "\n",
      "\n",
      "TRAINING...\n",
      "\n"
     ]
    },
    {
     "name": "stderr",
     "output_type": "stream",
     "text": [
      "100%|██████████| 15/15 [01:48<00:00,  7.25s/it]\n"
     ]
    },
    {
     "name": "stdout",
     "output_type": "stream",
     "text": [
      "\n",
      "train Loss: 0.1542 Acc: 0.9450\n",
      "\n",
      "VALIDATION...\n",
      "\n"
     ]
    },
    {
     "name": "stderr",
     "output_type": "stream",
     "text": [
      "100%|██████████| 2/2 [00:04<00:00,  2.48s/it]\n"
     ]
    },
    {
     "name": "stdout",
     "output_type": "stream",
     "text": [
      "\n",
      "val Loss: 2.3228 Acc: 0.5385\n",
      "------------------------------\n",
      "Epoch 121/999\n",
      "\n",
      "\n",
      "TRAINING...\n",
      "\n"
     ]
    },
    {
     "name": "stderr",
     "output_type": "stream",
     "text": [
      "100%|██████████| 15/15 [01:47<00:00,  7.19s/it]\n"
     ]
    },
    {
     "name": "stdout",
     "output_type": "stream",
     "text": [
      "\n",
      "train Loss: 0.1474 Acc: 0.9517\n",
      "\n",
      "VALIDATION...\n",
      "\n"
     ]
    },
    {
     "name": "stderr",
     "output_type": "stream",
     "text": [
      "100%|██████████| 2/2 [00:05<00:00,  2.59s/it]\n"
     ]
    },
    {
     "name": "stdout",
     "output_type": "stream",
     "text": [
      "\n",
      "val Loss: 5.1587 Acc: 0.3846\n",
      "------------------------------\n",
      "Epoch 122/999\n",
      "\n",
      "\n",
      "TRAINING...\n",
      "\n"
     ]
    },
    {
     "name": "stderr",
     "output_type": "stream",
     "text": [
      "100%|██████████| 15/15 [01:49<00:00,  7.32s/it]\n"
     ]
    },
    {
     "name": "stdout",
     "output_type": "stream",
     "text": [
      "\n",
      "train Loss: 0.1443 Acc: 0.9550\n",
      "\n",
      "VALIDATION...\n",
      "\n"
     ]
    },
    {
     "name": "stderr",
     "output_type": "stream",
     "text": [
      "100%|██████████| 2/2 [00:04<00:00,  2.45s/it]\n"
     ]
    },
    {
     "name": "stdout",
     "output_type": "stream",
     "text": [
      "\n",
      "val Loss: 2.0138 Acc: 0.5692\n",
      "------------------------------\n",
      "Epoch 123/999\n",
      "\n",
      "\n",
      "TRAINING...\n",
      "\n"
     ]
    },
    {
     "name": "stderr",
     "output_type": "stream",
     "text": [
      "100%|██████████| 15/15 [01:51<00:00,  7.41s/it]\n"
     ]
    },
    {
     "name": "stdout",
     "output_type": "stream",
     "text": [
      "\n",
      "train Loss: 0.1078 Acc: 0.9617\n",
      "\n",
      "VALIDATION...\n",
      "\n"
     ]
    },
    {
     "name": "stderr",
     "output_type": "stream",
     "text": [
      "100%|██████████| 2/2 [00:05<00:00,  2.57s/it]\n"
     ]
    },
    {
     "name": "stdout",
     "output_type": "stream",
     "text": [
      "\n",
      "val Loss: 1.8815 Acc: 0.6000\n",
      "------------------------------\n",
      "Epoch 124/999\n",
      "\n",
      "\n",
      "TRAINING...\n",
      "\n"
     ]
    },
    {
     "name": "stderr",
     "output_type": "stream",
     "text": [
      "100%|██████████| 15/15 [02:02<00:00,  8.19s/it]\n"
     ]
    },
    {
     "name": "stdout",
     "output_type": "stream",
     "text": [
      "\n",
      "train Loss: 0.0833 Acc: 0.9783\n",
      "\n",
      "VALIDATION...\n",
      "\n"
     ]
    },
    {
     "name": "stderr",
     "output_type": "stream",
     "text": [
      "100%|██████████| 2/2 [00:05<00:00,  2.83s/it]\n"
     ]
    },
    {
     "name": "stdout",
     "output_type": "stream",
     "text": [
      "\n",
      "val Loss: 1.9185 Acc: 0.6000\n",
      "------------------------------\n",
      "Epoch 125/999\n",
      "\n",
      "\n",
      "TRAINING...\n",
      "\n"
     ]
    },
    {
     "name": "stderr",
     "output_type": "stream",
     "text": [
      "100%|██████████| 15/15 [01:55<00:00,  7.71s/it]\n"
     ]
    },
    {
     "name": "stdout",
     "output_type": "stream",
     "text": [
      "\n",
      "train Loss: 0.0655 Acc: 0.9800\n",
      "\n",
      "VALIDATION...\n",
      "\n"
     ]
    },
    {
     "name": "stderr",
     "output_type": "stream",
     "text": [
      "100%|██████████| 2/2 [00:05<00:00,  2.62s/it]\n"
     ]
    },
    {
     "name": "stdout",
     "output_type": "stream",
     "text": [
      "\n",
      "val Loss: 3.1635 Acc: 0.4462\n",
      "------------------------------\n",
      "Epoch 126/999\n",
      "\n",
      "\n",
      "TRAINING...\n",
      "\n"
     ]
    },
    {
     "name": "stderr",
     "output_type": "stream",
     "text": [
      "100%|██████████| 15/15 [01:47<00:00,  7.20s/it]\n"
     ]
    },
    {
     "name": "stdout",
     "output_type": "stream",
     "text": [
      "\n",
      "train Loss: 0.0570 Acc: 0.9833\n",
      "\n",
      "VALIDATION...\n",
      "\n"
     ]
    },
    {
     "name": "stderr",
     "output_type": "stream",
     "text": [
      "100%|██████████| 2/2 [00:05<00:00,  2.64s/it]\n"
     ]
    },
    {
     "name": "stdout",
     "output_type": "stream",
     "text": [
      "\n",
      "val Loss: 2.1030 Acc: 0.6308\n",
      "------------------------------\n",
      "Epoch 127/999\n",
      "\n",
      "\n",
      "TRAINING...\n",
      "\n"
     ]
    },
    {
     "name": "stderr",
     "output_type": "stream",
     "text": [
      "100%|██████████| 15/15 [01:51<00:00,  7.41s/it]\n"
     ]
    },
    {
     "name": "stdout",
     "output_type": "stream",
     "text": [
      "\n",
      "train Loss: 0.0587 Acc: 0.9833\n",
      "\n",
      "VALIDATION...\n",
      "\n"
     ]
    },
    {
     "name": "stderr",
     "output_type": "stream",
     "text": [
      "100%|██████████| 2/2 [00:05<00:00,  2.94s/it]\n"
     ]
    },
    {
     "name": "stdout",
     "output_type": "stream",
     "text": [
      "\n",
      "val Loss: 2.6448 Acc: 0.5231\n",
      "------------------------------\n",
      "Epoch 128/999\n",
      "\n",
      "\n",
      "TRAINING...\n",
      "\n"
     ]
    },
    {
     "name": "stderr",
     "output_type": "stream",
     "text": [
      "100%|██████████| 15/15 [01:57<00:00,  7.84s/it]\n"
     ]
    },
    {
     "name": "stdout",
     "output_type": "stream",
     "text": [
      "\n",
      "train Loss: 0.0356 Acc: 0.9883\n",
      "\n",
      "VALIDATION...\n",
      "\n"
     ]
    },
    {
     "name": "stderr",
     "output_type": "stream",
     "text": [
      "100%|██████████| 2/2 [00:05<00:00,  2.58s/it]\n"
     ]
    },
    {
     "name": "stdout",
     "output_type": "stream",
     "text": [
      "\n",
      "val Loss: 1.9601 Acc: 0.6000\n",
      "------------------------------\n",
      "Epoch 129/999\n",
      "\n",
      "\n",
      "TRAINING...\n",
      "\n"
     ]
    },
    {
     "name": "stderr",
     "output_type": "stream",
     "text": [
      "100%|██████████| 15/15 [01:45<00:00,  7.04s/it]\n"
     ]
    },
    {
     "name": "stdout",
     "output_type": "stream",
     "text": [
      "\n",
      "train Loss: 0.0343 Acc: 0.9900\n",
      "\n",
      "VALIDATION...\n",
      "\n"
     ]
    },
    {
     "name": "stderr",
     "output_type": "stream",
     "text": [
      "100%|██████████| 2/2 [00:05<00:00,  2.56s/it]\n"
     ]
    },
    {
     "name": "stdout",
     "output_type": "stream",
     "text": [
      "\n",
      "val Loss: 1.4451 Acc: 0.7077\n",
      "------------------------------\n",
      "Epoch 130/999\n",
      "\n",
      "\n",
      "TRAINING...\n",
      "\n"
     ]
    },
    {
     "name": "stderr",
     "output_type": "stream",
     "text": [
      "100%|██████████| 15/15 [01:49<00:00,  7.28s/it]\n"
     ]
    },
    {
     "name": "stdout",
     "output_type": "stream",
     "text": [
      "\n",
      "train Loss: 0.0402 Acc: 0.9833\n",
      "\n",
      "VALIDATION...\n",
      "\n"
     ]
    },
    {
     "name": "stderr",
     "output_type": "stream",
     "text": [
      "100%|██████████| 2/2 [00:05<00:00,  2.50s/it]\n"
     ]
    },
    {
     "name": "stdout",
     "output_type": "stream",
     "text": [
      "\n",
      "val Loss: 1.9845 Acc: 0.6308\n",
      "------------------------------\n",
      "Epoch 131/999\n",
      "\n",
      "\n",
      "TRAINING...\n",
      "\n"
     ]
    },
    {
     "name": "stderr",
     "output_type": "stream",
     "text": [
      "100%|██████████| 15/15 [01:50<00:00,  7.38s/it]\n"
     ]
    },
    {
     "name": "stdout",
     "output_type": "stream",
     "text": [
      "\n",
      "train Loss: 0.0111 Acc: 0.9983\n",
      "\n",
      "VALIDATION...\n",
      "\n"
     ]
    },
    {
     "name": "stderr",
     "output_type": "stream",
     "text": [
      "100%|██████████| 2/2 [00:05<00:00,  2.60s/it]\n"
     ]
    },
    {
     "name": "stdout",
     "output_type": "stream",
     "text": [
      "\n",
      "val Loss: 1.9711 Acc: 0.5846\n",
      "------------------------------\n",
      "Epoch 132/999\n",
      "\n",
      "\n",
      "TRAINING...\n",
      "\n"
     ]
    },
    {
     "name": "stderr",
     "output_type": "stream",
     "text": [
      "100%|██████████| 15/15 [01:48<00:00,  7.24s/it]\n"
     ]
    },
    {
     "name": "stdout",
     "output_type": "stream",
     "text": [
      "\n",
      "train Loss: 0.0112 Acc: 0.9983\n",
      "\n",
      "VALIDATION...\n",
      "\n"
     ]
    },
    {
     "name": "stderr",
     "output_type": "stream",
     "text": [
      "100%|██████████| 2/2 [00:05<00:00,  2.50s/it]\n"
     ]
    },
    {
     "name": "stdout",
     "output_type": "stream",
     "text": [
      "\n",
      "val Loss: 2.2734 Acc: 0.5385\n",
      "------------------------------\n",
      "Epoch 133/999\n",
      "\n",
      "\n",
      "TRAINING...\n",
      "\n"
     ]
    },
    {
     "name": "stderr",
     "output_type": "stream",
     "text": [
      "100%|██████████| 15/15 [01:45<00:00,  7.04s/it]\n"
     ]
    },
    {
     "name": "stdout",
     "output_type": "stream",
     "text": [
      "\n",
      "train Loss: 0.0185 Acc: 0.9933\n",
      "\n",
      "VALIDATION...\n",
      "\n"
     ]
    },
    {
     "name": "stderr",
     "output_type": "stream",
     "text": [
      "100%|██████████| 2/2 [00:05<00:00,  2.59s/it]\n"
     ]
    },
    {
     "name": "stdout",
     "output_type": "stream",
     "text": [
      "\n",
      "val Loss: 1.5546 Acc: 0.6769\n",
      "------------------------------\n",
      "Epoch 134/999\n",
      "\n",
      "\n",
      "TRAINING...\n",
      "\n"
     ]
    },
    {
     "name": "stderr",
     "output_type": "stream",
     "text": [
      "100%|██████████| 15/15 [01:42<00:00,  6.86s/it]\n"
     ]
    },
    {
     "name": "stdout",
     "output_type": "stream",
     "text": [
      "\n",
      "train Loss: 0.0147 Acc: 0.9967\n",
      "\n",
      "VALIDATION...\n",
      "\n"
     ]
    },
    {
     "name": "stderr",
     "output_type": "stream",
     "text": [
      "100%|██████████| 2/2 [00:05<00:00,  2.60s/it]\n"
     ]
    },
    {
     "name": "stdout",
     "output_type": "stream",
     "text": [
      "\n",
      "val Loss: 1.5058 Acc: 0.6615\n",
      "------------------------------\n",
      "Epoch 135/999\n",
      "\n",
      "\n",
      "TRAINING...\n",
      "\n"
     ]
    },
    {
     "name": "stderr",
     "output_type": "stream",
     "text": [
      "100%|██████████| 15/15 [01:56<00:00,  7.75s/it]\n"
     ]
    },
    {
     "name": "stdout",
     "output_type": "stream",
     "text": [
      "\n",
      "train Loss: 0.0047 Acc: 0.9983\n",
      "\n",
      "VALIDATION...\n",
      "\n"
     ]
    },
    {
     "name": "stderr",
     "output_type": "stream",
     "text": [
      "100%|██████████| 2/2 [00:05<00:00,  2.68s/it]\n"
     ]
    },
    {
     "name": "stdout",
     "output_type": "stream",
     "text": [
      "\n",
      "val Loss: 1.3136 Acc: 0.7077\n",
      "------------------------------\n",
      "Epoch 136/999\n",
      "\n",
      "\n",
      "TRAINING...\n",
      "\n"
     ]
    },
    {
     "name": "stderr",
     "output_type": "stream",
     "text": [
      "100%|██████████| 15/15 [02:02<00:00,  8.17s/it]\n"
     ]
    },
    {
     "name": "stdout",
     "output_type": "stream",
     "text": [
      "\n",
      "train Loss: 0.0095 Acc: 0.9950\n",
      "\n",
      "VALIDATION...\n",
      "\n"
     ]
    },
    {
     "name": "stderr",
     "output_type": "stream",
     "text": [
      "100%|██████████| 2/2 [00:05<00:00,  2.77s/it]\n"
     ]
    },
    {
     "name": "stdout",
     "output_type": "stream",
     "text": [
      "\n",
      "val Loss: 1.4064 Acc: 0.6769\n",
      "------------------------------\n",
      "Epoch 137/999\n",
      "\n",
      "\n",
      "TRAINING...\n",
      "\n"
     ]
    },
    {
     "name": "stderr",
     "output_type": "stream",
     "text": [
      "100%|██████████| 15/15 [01:45<00:00,  7.05s/it]\n"
     ]
    },
    {
     "name": "stdout",
     "output_type": "stream",
     "text": [
      "\n",
      "train Loss: 0.0135 Acc: 0.9967\n",
      "\n",
      "VALIDATION...\n",
      "\n"
     ]
    },
    {
     "name": "stderr",
     "output_type": "stream",
     "text": [
      "100%|██████████| 2/2 [00:04<00:00,  2.47s/it]\n"
     ]
    },
    {
     "name": "stdout",
     "output_type": "stream",
     "text": [
      "\n",
      "val Loss: 1.6021 Acc: 0.6923\n",
      "------------------------------\n",
      "Epoch 138/999\n",
      "\n",
      "\n",
      "TRAINING...\n",
      "\n"
     ]
    },
    {
     "name": "stderr",
     "output_type": "stream",
     "text": [
      "100%|██████████| 15/15 [01:48<00:00,  7.26s/it]\n"
     ]
    },
    {
     "name": "stdout",
     "output_type": "stream",
     "text": [
      "\n",
      "train Loss: 0.0040 Acc: 1.0000\n",
      "\n",
      "VALIDATION...\n",
      "\n"
     ]
    },
    {
     "name": "stderr",
     "output_type": "stream",
     "text": [
      "100%|██████████| 2/2 [00:05<00:00,  2.70s/it]\n"
     ]
    },
    {
     "name": "stdout",
     "output_type": "stream",
     "text": [
      "\n",
      "val Loss: 1.5070 Acc: 0.6923\n",
      "------------------------------\n",
      "Epoch 139/999\n",
      "\n",
      "\n",
      "TRAINING...\n",
      "\n"
     ]
    },
    {
     "name": "stderr",
     "output_type": "stream",
     "text": [
      "100%|██████████| 15/15 [01:51<00:00,  7.43s/it]\n"
     ]
    },
    {
     "name": "stdout",
     "output_type": "stream",
     "text": [
      "\n",
      "train Loss: 0.0034 Acc: 1.0000\n",
      "\n",
      "VALIDATION...\n",
      "\n"
     ]
    },
    {
     "name": "stderr",
     "output_type": "stream",
     "text": [
      "100%|██████████| 2/2 [00:04<00:00,  2.50s/it]\n"
     ]
    },
    {
     "name": "stdout",
     "output_type": "stream",
     "text": [
      "\n",
      "val Loss: 1.4454 Acc: 0.6615\n",
      "------------------------------\n",
      "Epoch 140/999\n",
      "\n",
      "\n",
      "TRAINING...\n",
      "\n"
     ]
    },
    {
     "name": "stderr",
     "output_type": "stream",
     "text": [
      "100%|██████████| 15/15 [02:03<00:00,  8.26s/it]\n"
     ]
    },
    {
     "name": "stdout",
     "output_type": "stream",
     "text": [
      "\n",
      "train Loss: 0.0015 Acc: 1.0000\n",
      "\n",
      "VALIDATION...\n",
      "\n"
     ]
    },
    {
     "name": "stderr",
     "output_type": "stream",
     "text": [
      "100%|██████████| 2/2 [00:05<00:00,  2.70s/it]\n"
     ]
    },
    {
     "name": "stdout",
     "output_type": "stream",
     "text": [
      "\n",
      "val Loss: 1.4608 Acc: 0.6923\n",
      "------------------------------\n",
      "Epoch 141/999\n",
      "\n",
      "\n",
      "TRAINING...\n",
      "\n"
     ]
    },
    {
     "name": "stderr",
     "output_type": "stream",
     "text": [
      "100%|██████████| 15/15 [01:49<00:00,  7.30s/it]\n"
     ]
    },
    {
     "name": "stdout",
     "output_type": "stream",
     "text": [
      "\n",
      "train Loss: 0.0031 Acc: 1.0000\n",
      "\n",
      "VALIDATION...\n",
      "\n"
     ]
    },
    {
     "name": "stderr",
     "output_type": "stream",
     "text": [
      "100%|██████████| 2/2 [00:05<00:00,  2.63s/it]\n"
     ]
    },
    {
     "name": "stdout",
     "output_type": "stream",
     "text": [
      "\n",
      "val Loss: 1.5373 Acc: 0.7077\n",
      "------------------------------\n",
      "Epoch 142/999\n",
      "\n",
      "\n",
      "TRAINING...\n",
      "\n"
     ]
    },
    {
     "name": "stderr",
     "output_type": "stream",
     "text": [
      "100%|██████████| 15/15 [01:51<00:00,  7.46s/it]\n"
     ]
    },
    {
     "name": "stdout",
     "output_type": "stream",
     "text": [
      "\n",
      "train Loss: 0.0012 Acc: 1.0000\n",
      "\n",
      "VALIDATION...\n",
      "\n"
     ]
    },
    {
     "name": "stderr",
     "output_type": "stream",
     "text": [
      "100%|██████████| 2/2 [00:05<00:00,  2.66s/it]\n"
     ]
    },
    {
     "name": "stdout",
     "output_type": "stream",
     "text": [
      "\n",
      "val Loss: 1.5099 Acc: 0.7077\n",
      "------------------------------\n",
      "Epoch 143/999\n",
      "\n",
      "\n",
      "TRAINING...\n",
      "\n"
     ]
    },
    {
     "name": "stderr",
     "output_type": "stream",
     "text": [
      "100%|██████████| 15/15 [01:48<00:00,  7.24s/it]\n"
     ]
    },
    {
     "name": "stdout",
     "output_type": "stream",
     "text": [
      "\n",
      "train Loss: 0.0014 Acc: 1.0000\n",
      "\n",
      "VALIDATION...\n",
      "\n"
     ]
    },
    {
     "name": "stderr",
     "output_type": "stream",
     "text": [
      "100%|██████████| 2/2 [00:05<00:00,  2.53s/it]\n"
     ]
    },
    {
     "name": "stdout",
     "output_type": "stream",
     "text": [
      "\n",
      "val Loss: 1.3950 Acc: 0.7077\n",
      "------------------------------\n",
      "Epoch 144/999\n",
      "\n",
      "\n",
      "TRAINING...\n",
      "\n"
     ]
    },
    {
     "name": "stderr",
     "output_type": "stream",
     "text": [
      "100%|██████████| 15/15 [01:45<00:00,  7.05s/it]\n"
     ]
    },
    {
     "name": "stdout",
     "output_type": "stream",
     "text": [
      "\n",
      "train Loss: 0.0010 Acc: 1.0000\n",
      "\n",
      "VALIDATION...\n",
      "\n"
     ]
    },
    {
     "name": "stderr",
     "output_type": "stream",
     "text": [
      "100%|██████████| 2/2 [00:04<00:00,  2.44s/it]\n"
     ]
    },
    {
     "name": "stdout",
     "output_type": "stream",
     "text": [
      "\n",
      "val Loss: 1.3670 Acc: 0.7077\n",
      "------------------------------\n",
      "Epoch 145/999\n",
      "\n",
      "\n",
      "TRAINING...\n",
      "\n"
     ]
    },
    {
     "name": "stderr",
     "output_type": "stream",
     "text": [
      "100%|██████████| 15/15 [01:54<00:00,  7.62s/it]\n"
     ]
    },
    {
     "name": "stdout",
     "output_type": "stream",
     "text": [
      "\n",
      "train Loss: 0.0008 Acc: 1.0000\n",
      "\n",
      "VALIDATION...\n",
      "\n"
     ]
    },
    {
     "name": "stderr",
     "output_type": "stream",
     "text": [
      "100%|██████████| 2/2 [00:05<00:00,  2.58s/it]\n"
     ]
    },
    {
     "name": "stdout",
     "output_type": "stream",
     "text": [
      "\n",
      "val Loss: 1.3885 Acc: 0.7077\n",
      "------------------------------\n",
      "Epoch 146/999\n",
      "\n",
      "\n",
      "TRAINING...\n",
      "\n"
     ]
    },
    {
     "name": "stderr",
     "output_type": "stream",
     "text": [
      "100%|██████████| 15/15 [01:58<00:00,  7.90s/it]\n"
     ]
    },
    {
     "name": "stdout",
     "output_type": "stream",
     "text": [
      "\n",
      "train Loss: 0.0014 Acc: 1.0000\n",
      "\n",
      "VALIDATION...\n",
      "\n"
     ]
    },
    {
     "name": "stderr",
     "output_type": "stream",
     "text": [
      "100%|██████████| 2/2 [00:05<00:00,  2.72s/it]\n"
     ]
    },
    {
     "name": "stdout",
     "output_type": "stream",
     "text": [
      "\n",
      "val Loss: 1.3930 Acc: 0.6769\n",
      "------------------------------\n",
      "Epoch 147/999\n",
      "\n",
      "\n",
      "TRAINING...\n",
      "\n"
     ]
    },
    {
     "name": "stderr",
     "output_type": "stream",
     "text": [
      "100%|██████████| 15/15 [02:01<00:00,  8.10s/it]\n"
     ]
    },
    {
     "name": "stdout",
     "output_type": "stream",
     "text": [
      "\n",
      "train Loss: 0.0005 Acc: 1.0000\n",
      "\n",
      "VALIDATION...\n",
      "\n"
     ]
    },
    {
     "name": "stderr",
     "output_type": "stream",
     "text": [
      "100%|██████████| 2/2 [00:05<00:00,  2.58s/it]\n"
     ]
    },
    {
     "name": "stdout",
     "output_type": "stream",
     "text": [
      "\n",
      "val Loss: 1.4812 Acc: 0.6615\n",
      "------------------------------\n",
      "Epoch 148/999\n",
      "\n",
      "\n",
      "TRAINING...\n",
      "\n"
     ]
    },
    {
     "name": "stderr",
     "output_type": "stream",
     "text": [
      "100%|██████████| 15/15 [01:53<00:00,  7.56s/it]\n"
     ]
    },
    {
     "name": "stdout",
     "output_type": "stream",
     "text": [
      "\n",
      "train Loss: 0.0004 Acc: 1.0000\n",
      "\n",
      "VALIDATION...\n",
      "\n"
     ]
    },
    {
     "name": "stderr",
     "output_type": "stream",
     "text": [
      "100%|██████████| 2/2 [00:05<00:00,  2.64s/it]\n"
     ]
    },
    {
     "name": "stdout",
     "output_type": "stream",
     "text": [
      "\n",
      "val Loss: 1.5320 Acc: 0.6615\n",
      "------------------------------\n",
      "Epoch 149/999\n",
      "\n",
      "\n",
      "TRAINING...\n",
      "\n"
     ]
    },
    {
     "name": "stderr",
     "output_type": "stream",
     "text": [
      "100%|██████████| 15/15 [01:59<00:00,  7.96s/it]\n"
     ]
    },
    {
     "name": "stdout",
     "output_type": "stream",
     "text": [
      "\n",
      "train Loss: 0.0011 Acc: 1.0000\n",
      "\n",
      "VALIDATION...\n",
      "\n"
     ]
    },
    {
     "name": "stderr",
     "output_type": "stream",
     "text": [
      "100%|██████████| 2/2 [00:05<00:00,  2.60s/it]\n"
     ]
    },
    {
     "name": "stdout",
     "output_type": "stream",
     "text": [
      "\n",
      "val Loss: 1.4937 Acc: 0.6769\n",
      "------------------------------\n",
      "Epoch 150/999\n",
      "\n",
      "\n",
      "TRAINING...\n",
      "\n"
     ]
    },
    {
     "name": "stderr",
     "output_type": "stream",
     "text": [
      "100%|██████████| 15/15 [01:54<00:00,  7.66s/it]\n"
     ]
    },
    {
     "name": "stdout",
     "output_type": "stream",
     "text": [
      "\n",
      "train Loss: 0.0069 Acc: 0.9983\n",
      "\n",
      "VALIDATION...\n",
      "\n"
     ]
    },
    {
     "name": "stderr",
     "output_type": "stream",
     "text": [
      "100%|██████████| 2/2 [00:05<00:00,  2.70s/it]\n"
     ]
    },
    {
     "name": "stdout",
     "output_type": "stream",
     "text": [
      "\n",
      "val Loss: 1.4907 Acc: 0.6769\n",
      "------------------------------\n",
      "Epoch 151/999\n",
      "\n",
      "\n",
      "TRAINING...\n",
      "\n"
     ]
    },
    {
     "name": "stderr",
     "output_type": "stream",
     "text": [
      "100%|██████████| 15/15 [01:53<00:00,  7.55s/it]\n"
     ]
    },
    {
     "name": "stdout",
     "output_type": "stream",
     "text": [
      "\n",
      "train Loss: 0.0074 Acc: 0.9967\n",
      "\n",
      "VALIDATION...\n",
      "\n"
     ]
    },
    {
     "name": "stderr",
     "output_type": "stream",
     "text": [
      "100%|██████████| 2/2 [00:05<00:00,  2.81s/it]\n"
     ]
    },
    {
     "name": "stdout",
     "output_type": "stream",
     "text": [
      "\n",
      "val Loss: 1.5062 Acc: 0.6769\n",
      "------------------------------\n",
      "Epoch 152/999\n",
      "\n",
      "\n",
      "TRAINING...\n",
      "\n"
     ]
    },
    {
     "name": "stderr",
     "output_type": "stream",
     "text": [
      "100%|██████████| 15/15 [02:04<00:00,  8.29s/it]\n"
     ]
    },
    {
     "name": "stdout",
     "output_type": "stream",
     "text": [
      "\n",
      "train Loss: 0.0027 Acc: 1.0000\n",
      "\n",
      "VALIDATION...\n",
      "\n"
     ]
    },
    {
     "name": "stderr",
     "output_type": "stream",
     "text": [
      "100%|██████████| 2/2 [00:05<00:00,  2.85s/it]\n"
     ]
    },
    {
     "name": "stdout",
     "output_type": "stream",
     "text": [
      "\n",
      "val Loss: 1.7574 Acc: 0.6462\n",
      "------------------------------\n",
      "Epoch 153/999\n",
      "\n",
      "\n",
      "TRAINING...\n",
      "\n"
     ]
    },
    {
     "name": "stderr",
     "output_type": "stream",
     "text": [
      "100%|██████████| 15/15 [02:01<00:00,  8.11s/it]\n"
     ]
    },
    {
     "name": "stdout",
     "output_type": "stream",
     "text": [
      "\n",
      "train Loss: 0.0135 Acc: 0.9967\n",
      "\n",
      "VALIDATION...\n",
      "\n"
     ]
    },
    {
     "name": "stderr",
     "output_type": "stream",
     "text": [
      "100%|██████████| 2/2 [00:05<00:00,  2.73s/it]\n"
     ]
    },
    {
     "name": "stdout",
     "output_type": "stream",
     "text": [
      "\n",
      "val Loss: 1.5965 Acc: 0.6462\n",
      "------------------------------\n",
      "Epoch 154/999\n",
      "\n",
      "\n",
      "TRAINING...\n",
      "\n"
     ]
    },
    {
     "name": "stderr",
     "output_type": "stream",
     "text": [
      "100%|██████████| 15/15 [02:01<00:00,  8.13s/it]\n"
     ]
    },
    {
     "name": "stdout",
     "output_type": "stream",
     "text": [
      "\n",
      "train Loss: 0.0232 Acc: 0.9933\n",
      "\n",
      "VALIDATION...\n",
      "\n"
     ]
    },
    {
     "name": "stderr",
     "output_type": "stream",
     "text": [
      "100%|██████████| 2/2 [00:05<00:00,  2.82s/it]\n"
     ]
    },
    {
     "name": "stdout",
     "output_type": "stream",
     "text": [
      "\n",
      "val Loss: 1.8771 Acc: 0.6308\n",
      "------------------------------\n",
      "Epoch 155/999\n",
      "\n",
      "\n",
      "TRAINING...\n",
      "\n"
     ]
    },
    {
     "name": "stderr",
     "output_type": "stream",
     "text": [
      "100%|██████████| 15/15 [02:03<00:00,  8.26s/it]\n"
     ]
    },
    {
     "name": "stdout",
     "output_type": "stream",
     "text": [
      "\n",
      "train Loss: 0.0223 Acc: 0.9917\n",
      "\n",
      "VALIDATION...\n",
      "\n"
     ]
    },
    {
     "name": "stderr",
     "output_type": "stream",
     "text": [
      "100%|██████████| 2/2 [00:05<00:00,  2.90s/it]\n"
     ]
    },
    {
     "name": "stdout",
     "output_type": "stream",
     "text": [
      "\n",
      "val Loss: 1.9841 Acc: 0.5846\n",
      "------------------------------\n",
      "Epoch 156/999\n",
      "\n",
      "\n",
      "TRAINING...\n",
      "\n"
     ]
    },
    {
     "name": "stderr",
     "output_type": "stream",
     "text": [
      "100%|██████████| 15/15 [01:51<00:00,  7.43s/it]\n"
     ]
    },
    {
     "name": "stdout",
     "output_type": "stream",
     "text": [
      "\n",
      "train Loss: 0.0365 Acc: 0.9850\n",
      "\n",
      "VALIDATION...\n",
      "\n"
     ]
    },
    {
     "name": "stderr",
     "output_type": "stream",
     "text": [
      "100%|██████████| 2/2 [00:05<00:00,  2.76s/it]\n"
     ]
    },
    {
     "name": "stdout",
     "output_type": "stream",
     "text": [
      "\n",
      "val Loss: 2.1616 Acc: 0.6923\n",
      "------------------------------\n",
      "Epoch 157/999\n",
      "\n",
      "\n",
      "TRAINING...\n",
      "\n"
     ]
    },
    {
     "name": "stderr",
     "output_type": "stream",
     "text": [
      "100%|██████████| 15/15 [01:46<00:00,  7.07s/it]\n"
     ]
    },
    {
     "name": "stdout",
     "output_type": "stream",
     "text": [
      "\n",
      "train Loss: 0.0336 Acc: 0.9883\n",
      "\n",
      "VALIDATION...\n",
      "\n"
     ]
    },
    {
     "name": "stderr",
     "output_type": "stream",
     "text": [
      "100%|██████████| 2/2 [00:05<00:00,  2.63s/it]\n"
     ]
    },
    {
     "name": "stdout",
     "output_type": "stream",
     "text": [
      "\n",
      "val Loss: 1.8953 Acc: 0.6308\n",
      "------------------------------\n",
      "Epoch 158/999\n",
      "\n",
      "\n",
      "TRAINING...\n",
      "\n"
     ]
    },
    {
     "name": "stderr",
     "output_type": "stream",
     "text": [
      "100%|██████████| 15/15 [02:01<00:00,  8.07s/it]\n"
     ]
    },
    {
     "name": "stdout",
     "output_type": "stream",
     "text": [
      "\n",
      "train Loss: 0.0352 Acc: 0.9883\n",
      "\n",
      "VALIDATION...\n",
      "\n"
     ]
    },
    {
     "name": "stderr",
     "output_type": "stream",
     "text": [
      "100%|██████████| 2/2 [00:05<00:00,  2.69s/it]\n"
     ]
    },
    {
     "name": "stdout",
     "output_type": "stream",
     "text": [
      "\n",
      "val Loss: 2.7319 Acc: 0.6000\n",
      "------------------------------\n",
      "Epoch 159/999\n",
      "\n",
      "\n",
      "TRAINING...\n",
      "\n"
     ]
    },
    {
     "name": "stderr",
     "output_type": "stream",
     "text": [
      "100%|██████████| 15/15 [01:54<00:00,  7.65s/it]\n"
     ]
    },
    {
     "name": "stdout",
     "output_type": "stream",
     "text": [
      "\n",
      "train Loss: 0.0531 Acc: 0.9917\n",
      "\n",
      "VALIDATION...\n",
      "\n"
     ]
    },
    {
     "name": "stderr",
     "output_type": "stream",
     "text": [
      "100%|██████████| 2/2 [00:05<00:00,  2.62s/it]\n"
     ]
    },
    {
     "name": "stdout",
     "output_type": "stream",
     "text": [
      "\n",
      "val Loss: 2.7941 Acc: 0.5231\n",
      "------------------------------\n",
      "Epoch 160/999\n",
      "\n",
      "\n",
      "TRAINING...\n",
      "\n"
     ]
    },
    {
     "name": "stderr",
     "output_type": "stream",
     "text": [
      "100%|██████████| 15/15 [01:57<00:00,  7.85s/it]\n"
     ]
    },
    {
     "name": "stdout",
     "output_type": "stream",
     "text": [
      "\n",
      "train Loss: 0.0378 Acc: 0.9900\n",
      "\n",
      "VALIDATION...\n",
      "\n"
     ]
    },
    {
     "name": "stderr",
     "output_type": "stream",
     "text": [
      "100%|██████████| 2/2 [00:05<00:00,  2.59s/it]\n"
     ]
    },
    {
     "name": "stdout",
     "output_type": "stream",
     "text": [
      "\n",
      "val Loss: 2.1347 Acc: 0.5538\n",
      "------------------------------\n",
      "Epoch 161/999\n",
      "\n",
      "\n",
      "TRAINING...\n",
      "\n"
     ]
    },
    {
     "name": "stderr",
     "output_type": "stream",
     "text": [
      "100%|██████████| 15/15 [01:58<00:00,  7.93s/it]\n"
     ]
    },
    {
     "name": "stdout",
     "output_type": "stream",
     "text": [
      "\n",
      "train Loss: 0.0208 Acc: 0.9917\n",
      "\n",
      "VALIDATION...\n",
      "\n"
     ]
    },
    {
     "name": "stderr",
     "output_type": "stream",
     "text": [
      "100%|██████████| 2/2 [00:05<00:00,  2.83s/it]\n"
     ]
    },
    {
     "name": "stdout",
     "output_type": "stream",
     "text": [
      "\n",
      "val Loss: 2.1468 Acc: 0.5231\n",
      "------------------------------\n",
      "Epoch 162/999\n",
      "\n",
      "\n",
      "TRAINING...\n",
      "\n"
     ]
    },
    {
     "name": "stderr",
     "output_type": "stream",
     "text": [
      "  0%|          | 0/15 [00:00<?, ?it/s]"
     ]
    }
   ],
   "source": [
    "import time\n",
    "\n",
    "import torch.optim as optim\n",
    "from tqdm import tqdm\n",
    "\n",
    "noOfLayers = 0\n",
    "for name, child in model_ft.named_children():\n",
    "     noOfLayers += 1            \n",
    "cut = int (.1 * noOfLayers)                \n",
    "ct = 0\n",
    "for name, child in model_ft.named_children():\n",
    "    ct += 1\n",
    "    if ct < cut:\n",
    "        for name2, params in child.named_parameters():\n",
    "            params.requires_grad = False\n",
    "\n",
    "optimizer = optim.Adam(filter(lambda p: p.requires_grad, model_ft.parameters()))\n",
    "\n",
    "criterion = nn.CrossEntropyLoss()\n",
    "print('\\nSTART TRAINING ...', end = ' ')\n",
    "\n",
    "class EarlyStopping:\n",
    "    def __init__(self, patience = 20, stop_epoch = 50, verbose=False):\n",
    "\n",
    "        self.patience = patience\n",
    "        self.stop_epoch = stop_epoch\n",
    "        self.verbose = verbose\n",
    "        self.counter = 0\n",
    "        self.best_score = None\n",
    "        self.early_stop = False\n",
    "        self.val_loss_min = np.Inf\n",
    "\n",
    "    def __call__(self, epoch, val_loss, model, ckpt_name = 'checkpoint.pt'):\n",
    "\n",
    "        score = -val_loss\n",
    "\n",
    "        if self.best_score is None:\n",
    "            self.best_score = score\n",
    "            self.save_checkpoint(val_loss, model, ckpt_name)\n",
    "        elif score < self.best_score:\n",
    "            self.counter += 1\n",
    "            print(f'\\nEarlyStopping counter: {self.counter} out of {self.patience}')\n",
    "            if self.counter >= self.patience and epoch > self.stop_epoch:\n",
    "                self.early_stop = True\n",
    "        else:\n",
    "            self.best_score = score\n",
    "            self.save_checkpoint(val_loss, model, ckpt_name)\n",
    "            self.counter = 0\n",
    "\n",
    "    def save_checkpoint(self, val_loss, model, ckpt_name):\n",
    "        if self.verbose:\n",
    "            print(f'\\nValidation loss decreased ({self.val_loss_min:.6f} --> {val_loss:.6f}).  Saving model ...')\n",
    "        torch.save(model.state_dict(), ckpt_name)\n",
    "        self.val_loss_min = val_loss    \n",
    "        \n",
    "def Train_model_Classic(model, trainLoaders, valLoaders = [], criterion = None, optimizer = None, fold = False):    \n",
    "    since = time.time()    \n",
    "    train_acc_history = []\n",
    "    train_loss_history = []\n",
    "    val_acc_history = []\n",
    "    val_loss_history = []  \n",
    "\n",
    "    for epoch in range(1000):\n",
    "        phase = 'train'\n",
    "        print('Epoch {}/{}\\n'.format(epoch, 999))\n",
    "        print('\\nTRAINING...\\n')        \n",
    "        model.train() \n",
    "        running_loss = 0.0\n",
    "        running_corrects = 0\n",
    "        for inputs, labels in tqdm(trainLoaders):\n",
    "            inputs = inputs.to(device)\n",
    "            labels = labels.to(device)        \n",
    "            optimizer.zero_grad()\n",
    "            with torch.set_grad_enabled(True):\n",
    "                outputs = model(inputs.float())\n",
    "                loss = criterion(outputs, labels)\n",
    "                _, y_hat = torch.max(outputs, 1)\n",
    "                if phase == 'train':\n",
    "                    loss.backward()\n",
    "                    optimizer.step()\n",
    "                running_loss += loss.item() * inputs.size(0)\n",
    "                running_corrects += torch.sum(y_hat == labels.data)\n",
    "        epoch_loss = running_loss / len(trainLoaders.dataset)\n",
    "        epoch_acc = running_corrects.double() / len(trainLoaders.dataset)        \n",
    "        train_acc_history.append(epoch_acc)\n",
    "        train_loss_history.append(epoch_loss)        \n",
    "        print('\\n{} Loss: {:.4f} Acc: {:.4f}'.format(phase, epoch_loss, epoch_acc))\n",
    "        print()        \n",
    "        if valLoaders:\n",
    "            print('VALIDATION...\\n')\n",
    "            phase = 'val'    \n",
    "            model.eval()        \n",
    "            running_loss = 0.0\n",
    "            running_corrects = 0\n",
    "            for inputs, labels in tqdm(valLoaders):\n",
    "                inputs = inputs.to(device)\n",
    "                labels = labels.to(device)        \n",
    "                with torch.set_grad_enabled(phase == 'train'):            \n",
    "                    outputs = model(inputs.float())\n",
    "                    loss = criterion(outputs, labels)\n",
    "                    _, y_hat = torch.max(outputs, 1)\n",
    "                running_loss += loss.item() * inputs.size(0)\n",
    "                running_corrects += torch.sum(y_hat == labels.data)        \n",
    "            val_loss = running_loss / len(valLoaders.dataset)\n",
    "            val_acc = running_corrects.double() / len(valLoaders.dataset)            \n",
    "            val_acc_history.append(val_acc)\n",
    "            val_loss_history.append(val_loss)\n",
    "            print('\\n{} Loss: {:.4f} Acc: {:.4f}'.format(phase, val_loss, val_acc)) \n",
    "            if fold == 'FULL':\n",
    "                ckpt_name = os.path.join('./', \"bestModel\")\n",
    "            else:\n",
    "                ckpt_name = os.path.join('./', \"bestModelFold\" + fold)                         \n",
    "            print('-' * 30)\n",
    "    time_elapsed = time.time() - since\n",
    "    print('Training complete in {:.0f}m {:.0f}s'.format(time_elapsed // 60, time_elapsed % 60))\n",
    "    return model, train_loss_history, train_acc_history, val_acc_history, val_loss_history \n",
    "    \n",
    "    \n",
    "model, train_loss_history, train_acc_history, val_acc_history, val_loss_history = Train_model_Classic(model = model_ft,\n",
    "                                 trainLoaders = dl_gen, valLoaders = dl_gen_val,\n",
    "                                 criterion = criterion, optimizer = optimizer, fold = 'FULL')            \n",
    "print('-' * 30)\n",
    "        \n",
    "torch.save(model_ft.state_dict(), os.path.join('./', 'RESULTS', 'finalModel'))                \n",
    "history = pd.DataFrame(list(zip(train_loss_history, train_acc_history, val_acc_history, val_loss_history)), \n",
    "                  columns =['train_loss', 'train_acc', 'val_loss', 'val_acc'])                \n",
    "history.to_csv(os.path.join('./', 'TRAIN_HISTORY_FULL' + '.csv'), index = False)\n"
   ]
  },
  {
   "cell_type": "code",
   "execution_count": 126,
   "id": "0227d40f-e386-49a9-9131-a65a1c649b17",
   "metadata": {
    "scrolled": true
   },
   "outputs": [
    {
     "data": {
      "text/plain": [
       "tensor([[[[-0.7154, -1.0635,  0.5075,  ..., -1.0634, -0.5565, -1.8844],\n",
       "          [-0.0342,  1.0930, -0.6830,  ...,  1.5331,  1.6809,  2.0575],\n",
       "          [ 0.5863, -0.2837,  1.5497,  ..., -0.3384, -0.7131, -1.1352],\n",
       "          ...,\n",
       "          [ 0.8100, -0.3286,  0.5936,  ..., -0.2516,  0.2204,  0.5451],\n",
       "          [-1.3089,  0.6945, -0.8598,  ...,  0.6143, -0.8896, -1.2961],\n",
       "          [-2.0942, -1.4618,  0.1712,  ..., -0.7776,  0.7717,  0.2027]],\n",
       "\n",
       "         [[ 0.6474, -0.2800, -0.7085,  ...,  0.1740, -0.4837,  1.1110],\n",
       "          [-0.2178, -0.1952,  1.3513,  ...,  1.9316,  0.4556,  0.8016],\n",
       "          [-0.4024, -0.6946, -0.2051,  ..., -0.9411, -1.1527,  0.2110],\n",
       "          ...,\n",
       "          [ 1.0488,  1.0620, -0.1488,  ...,  1.7557,  1.3196,  0.3607],\n",
       "          [-1.2799,  0.7527, -1.2236,  ..., -0.0922, -0.0700, -0.0699],\n",
       "          [-0.1291,  0.2796,  0.2743,  ...,  0.9565, -0.1934,  0.6630]],\n",
       "\n",
       "         [[-0.4038, -0.2089, -0.0436,  ..., -0.1668, -0.8873,  1.2365],\n",
       "          [ 0.3778, -0.9131,  0.3215,  ...,  0.2569,  2.0508, -0.1332],\n",
       "          [ 1.1702,  1.9021,  0.2915,  ...,  1.7832,  0.6855, -0.3821],\n",
       "          ...,\n",
       "          [ 0.4024,  0.5802,  0.7977,  ...,  1.6964, -0.3420,  0.5830],\n",
       "          [-0.9199,  0.3320, -0.0414,  ...,  0.0401, -1.0829,  1.9151],\n",
       "          [ 0.9110, -1.8871, -1.0876,  ...,  0.7224, -0.9727,  1.1862]]],\n",
       "\n",
       "\n",
       "        [[[ 0.3108, -0.5211,  0.8572,  ..., -0.0744, -0.2696, -0.8200],\n",
       "          [ 1.6397,  0.4583, -1.0548,  ..., -1.4265, -1.3170, -0.3290],\n",
       "          [ 0.3791, -2.0659, -0.7270,  ...,  0.0125, -0.3116, -0.6645],\n",
       "          ...,\n",
       "          [-0.4587, -0.6150, -0.8413,  ..., -1.0665,  1.9190,  1.2936],\n",
       "          [ 0.3243,  1.1474,  2.1857,  ...,  2.0559,  2.2430,  1.2038],\n",
       "          [ 0.0931, -0.9820,  0.7393,  ...,  1.1694, -0.1672,  0.7359]],\n",
       "\n",
       "         [[ 0.9908, -1.5838,  0.7666,  ..., -0.0507,  0.3214, -0.2319],\n",
       "          [ 0.0306, -0.8050,  1.3470,  ..., -1.6491, -0.9474,  0.1258],\n",
       "          [-0.2906,  1.3825,  0.9813,  ...,  2.3671, -2.1074,  1.0404],\n",
       "          ...,\n",
       "          [ 0.6220,  0.2051,  0.4388,  ..., -1.0177,  1.0872,  1.6086],\n",
       "          [ 1.6847,  1.1924,  0.0896,  ...,  0.7796, -0.8178, -0.8768],\n",
       "          [ 0.1951,  1.5740, -2.5882,  ..., -0.6075, -0.9133, -0.3820]],\n",
       "\n",
       "         [[-0.7410,  1.6029,  2.1210,  ..., -1.7071,  0.6393,  1.6668],\n",
       "          [ 1.0591,  0.0087, -1.0006,  ...,  1.9338, -0.7921, -0.9681],\n",
       "          [ 0.3956, -0.1584,  1.6176,  ...,  1.1881, -1.1249, -2.7539],\n",
       "          ...,\n",
       "          [-1.3285, -1.9071,  0.1341,  ..., -1.6717,  0.4971, -0.5690],\n",
       "          [-0.5868,  1.8357, -0.1737,  ..., -0.2551, -0.1500,  2.5515],\n",
       "          [-0.7875,  0.5745, -2.5249,  ...,  0.7046,  1.2080, -0.3908]]],\n",
       "\n",
       "\n",
       "        [[[-0.1826, -0.5388,  0.4136,  ...,  0.5690,  1.2307,  0.1363],\n",
       "          [ 1.2394, -0.1323, -0.4114,  ...,  1.2328,  1.3843, -0.7824],\n",
       "          [-0.8841,  0.6939, -1.1709,  ...,  0.7032,  1.3310, -1.6798],\n",
       "          ...,\n",
       "          [-0.4669,  0.4786,  0.9905,  ..., -1.1812, -0.9380, -0.7075],\n",
       "          [ 0.4688, -0.2240,  0.0498,  ...,  0.2892,  0.7470, -1.0713],\n",
       "          [-0.4119, -0.7706, -0.3675,  ...,  0.8277, -0.4063, -0.9374]],\n",
       "\n",
       "         [[ 1.0445, -1.3998, -0.5741,  ...,  1.6476, -0.1924,  0.5095],\n",
       "          [-0.1395, -0.7790,  1.1286,  ..., -0.5561, -0.6242,  0.8933],\n",
       "          [-1.0703, -1.5178, -1.6156,  ...,  2.3388, -0.2441, -0.1672],\n",
       "          ...,\n",
       "          [-0.9265, -0.3018, -0.3987,  ...,  0.0738,  0.9175, -1.1473],\n",
       "          [ 2.6840, -0.9462, -0.3161,  ..., -0.6735, -0.2382,  1.2199],\n",
       "          [-0.8760,  0.3829,  0.2061,  ..., -0.1734, -1.9468,  0.0334]],\n",
       "\n",
       "         [[-1.0423,  0.7032,  0.5767,  ...,  0.5220, -0.9844, -0.5324],\n",
       "          [-0.9954, -0.9343, -1.8206,  ...,  0.3466, -0.0222,  1.5942],\n",
       "          [ 1.1124, -0.5625,  0.3832,  ...,  0.5954, -1.2932,  2.4582],\n",
       "          ...,\n",
       "          [-0.5442,  0.1488, -1.0102,  ..., -1.0098,  0.3249, -0.0393],\n",
       "          [ 0.1742, -1.9602,  0.1971,  ..., -0.1796, -1.4384, -0.0394],\n",
       "          [ 0.2991, -1.0254, -1.3129,  ..., -0.3944, -0.0458,  0.8269]]],\n",
       "\n",
       "\n",
       "        ...,\n",
       "\n",
       "\n",
       "        [[[-1.0848,  1.0333, -0.3487,  ...,  0.3525, -0.4357, -0.3649],\n",
       "          [ 1.1884, -1.4666,  1.1008,  ..., -1.2685,  0.0159,  0.3725],\n",
       "          [-0.0783,  0.7545, -0.3167,  ..., -0.8943, -0.2110,  0.4890],\n",
       "          ...,\n",
       "          [-0.9354,  0.0507,  0.2534,  ...,  0.0078, -0.7903,  0.3893],\n",
       "          [ 1.1729, -0.7043, -0.2288,  ...,  0.1925, -0.9327, -0.4027],\n",
       "          [-0.1106, -0.8534,  0.0566,  ..., -0.8472, -0.2609,  0.2734]],\n",
       "\n",
       "         [[ 0.3131,  0.2030,  0.1838,  ..., -0.8123,  0.8838, -0.2453],\n",
       "          [ 1.1704, -0.0896, -0.1465,  ..., -0.4957, -1.0395, -1.0048],\n",
       "          [-1.0134,  0.9605,  1.0193,  ..., -1.8161,  1.3588, -0.1227],\n",
       "          ...,\n",
       "          [ 1.2414, -0.3188,  1.5787,  ...,  1.6158,  2.6263, -0.6101],\n",
       "          [ 0.5663, -1.3401, -0.6271,  ...,  1.8242,  0.3836,  0.3095],\n",
       "          [ 0.9189,  0.3298,  1.0447,  ...,  0.6874, -0.4329, -1.3803]],\n",
       "\n",
       "         [[-1.5107,  1.9328,  0.2630,  ..., -1.2402, -0.1572,  0.6261],\n",
       "          [-0.8271, -0.2214, -0.2352,  ...,  0.1516,  0.9403, -0.0945],\n",
       "          [ 1.1547,  0.7863,  1.9578,  ...,  1.4228, -0.5966, -0.6261],\n",
       "          ...,\n",
       "          [-0.7033, -0.3225,  0.2476,  ...,  1.9223, -1.2147, -0.3541],\n",
       "          [-1.0274,  0.8261,  0.6587,  ...,  1.5886, -0.2623, -0.3668],\n",
       "          [-1.9126,  0.1299, -0.3804,  ...,  0.8284, -0.0255,  1.9132]]],\n",
       "\n",
       "\n",
       "        [[[ 1.4229,  0.6364,  0.8582,  ..., -2.9495,  1.5636, -0.3250],\n",
       "          [ 0.4714,  0.7517,  0.1454,  ...,  2.0291, -0.0832,  0.6404],\n",
       "          [ 0.1984, -3.2618,  0.0676,  ...,  0.9750, -0.5612,  0.3535],\n",
       "          ...,\n",
       "          [-0.4940,  1.2705, -0.5680,  ...,  0.9138,  0.8039,  0.1111],\n",
       "          [ 0.0365, -0.4602, -2.0952,  ..., -1.2386, -2.3653,  0.0276],\n",
       "          [ 1.6181,  0.5181,  0.7513,  ...,  0.0198,  0.8770,  1.0301]],\n",
       "\n",
       "         [[ 0.0360,  0.2317,  1.8125,  ..., -0.2583,  0.1480, -1.4777],\n",
       "          [-1.0328, -1.6887, -0.3868,  ...,  0.4560,  0.0778,  1.5692],\n",
       "          [ 0.0408,  0.3725, -1.3523,  ...,  0.1447,  0.0077,  1.8241],\n",
       "          ...,\n",
       "          [ 1.0566, -0.6008,  0.2042,  ...,  1.2517, -1.8493,  0.1258],\n",
       "          [-0.7248, -0.0595,  0.3923,  ..., -0.0632,  2.2299, -0.9327],\n",
       "          [-0.1728,  0.2997, -0.2684,  ..., -0.1288, -1.1280, -0.5140]],\n",
       "\n",
       "         [[-1.7106, -0.8651, -0.1571,  ..., -0.4325, -0.2746, -0.1634],\n",
       "          [-0.3707,  0.0528,  0.2005,  ...,  1.6743,  1.3592, -1.5213],\n",
       "          [ 0.8857,  1.3819, -0.7143,  ..., -0.4358, -0.6592,  1.3700],\n",
       "          ...,\n",
       "          [-2.2459,  1.8883,  0.6565,  ...,  1.8105, -1.4414,  1.0299],\n",
       "          [ 0.5768, -0.4227, -0.6318,  ..., -0.2794, -0.3512,  0.4593],\n",
       "          [ 1.8141,  0.0785,  1.0962,  ..., -0.2892, -0.7189, -2.3851]]],\n",
       "\n",
       "\n",
       "        [[[-0.1545, -0.6842, -0.6725,  ...,  0.7988, -0.6238, -0.0439],\n",
       "          [ 0.6887, -1.0939, -0.2165,  ..., -0.0435, -0.3375,  0.1796],\n",
       "          [-0.0332,  0.0837, -0.4246,  ...,  0.5308, -0.3337,  0.0859],\n",
       "          ...,\n",
       "          [ 1.5634,  1.4171, -0.0485,  ...,  0.3783,  1.1080,  0.4045],\n",
       "          [ 0.9384, -0.6047,  0.2863,  ...,  1.6844, -0.2681, -0.0661],\n",
       "          [ 1.0992,  0.8104, -0.2526,  ...,  1.8843,  1.6914, -1.0127]],\n",
       "\n",
       "         [[ 1.2679,  1.7068,  0.8004,  ...,  2.3931, -0.5344, -0.1983],\n",
       "          [ 0.2334,  1.4889, -0.1855,  ...,  2.6647,  0.2312,  0.6185],\n",
       "          [ 1.0239, -0.5343, -0.0566,  ..., -1.5935,  0.6692,  1.2675],\n",
       "          ...,\n",
       "          [-0.5448, -0.6090, -1.2472,  ...,  0.9941, -0.0161,  0.4493],\n",
       "          [ 0.9098,  0.8926, -1.6864,  ..., -0.6973,  1.0449, -0.1598],\n",
       "          [ 0.3168,  0.1465, -0.0087,  ...,  1.5637, -0.2152,  1.0921]],\n",
       "\n",
       "         [[-1.2696,  0.0108,  1.2464,  ...,  0.7473, -1.9419,  0.1040],\n",
       "          [-0.9403, -0.6724, -0.4861,  ...,  1.2264, -0.5739, -0.5156],\n",
       "          [ 1.6585, -0.8566,  2.1361,  ..., -1.3580, -0.4085, -1.1627],\n",
       "          ...,\n",
       "          [-1.3207,  0.4809, -2.3506,  ...,  1.2597, -1.7777, -0.4656],\n",
       "          [ 0.6637,  0.1655, -0.5172,  ..., -0.5837, -0.2623, -0.0820],\n",
       "          [-0.6803,  0.7581,  2.4133,  ...,  0.2238,  1.4562,  1.5875]]]])"
      ]
     },
     "execution_count": 126,
     "metadata": {},
     "output_type": "execute_result"
    }
   ],
   "source": [
    "import torch \n",
    "import torch.nn as nn\n",
    "m = nn.Conv2d(3, 28, 3, stride=1)\n",
    "\n",
    "input = torch.randn(20, 3, 50, 50)\n",
    "input"
   ]
  },
  {
   "cell_type": "code",
   "execution_count": 124,
   "id": "1136ddb1-7e84-4ae6-938a-f27c78c87d83",
   "metadata": {},
   "outputs": [
    {
     "name": "stderr",
     "output_type": "stream",
     "text": [
      "Clipping input data to the valid range for imshow with RGB data ([0..1] for floats or [0..255] for integers).\n"
     ]
    },
    {
     "data": {
      "text/plain": [
       "<matplotlib.image.AxesImage at 0x18228aee150>"
      ]
     },
     "execution_count": 124,
     "metadata": {},
     "output_type": "execute_result"
    },
    {
     "data": {
      "image/png": "[encoded data removed]",
      "text/plain": [
       "<Figure size 640x480 with 1 Axes>"
      ]
     },
     "metadata": {},
     "output_type": "display_data"
    }
   ],
   "source": [
    "plt.ion()\n",
    "plt.imshow(input[0].T)"
   ]
  },
  {
   "cell_type": "code",
   "execution_count": 117,
   "id": "93005047-66ac-4fba-ad21-0829c306ec4d",
   "metadata": {},
   "outputs": [
    {
     "data": {
      "text/plain": [
       "tensor([[[[-1.0843e-01,  1.2851e+00, -4.2413e-01,  ..., -2.2358e-01,\n",
       "            5.4495e-01,  2.6334e-01],\n",
       "          [ 2.6019e-01,  6.2342e-01, -8.1166e-02,  ...,  2.4385e-01,\n",
       "            3.8658e-01,  8.0487e-01],\n",
       "          [-5.4554e-01,  5.3899e-01,  1.8644e-01,  ...,  5.6654e-01,\n",
       "           -3.7506e-01,  4.1420e-01],\n",
       "          ...,\n",
       "          [-8.7533e-02, -4.7319e-01, -8.2185e-01,  ...,  2.5201e+00,\n",
       "            2.8818e-01, -1.1172e+00],\n",
       "          [ 1.7634e+00, -4.1414e-01,  1.5129e-02,  ...,  1.2336e+00,\n",
       "            4.1439e-01, -9.4247e-01],\n",
       "          [-1.2582e-01,  2.3094e-01,  3.5593e-01,  ...,  2.2123e-01,\n",
       "           -1.7505e-01,  2.3430e-01]],\n",
       "\n",
       "         [[-1.8258e-01, -1.2132e+00,  8.9332e-02,  ...,  8.2407e-01,\n",
       "            6.5604e-02, -8.9670e-02],\n",
       "          [ 2.3296e-01, -3.6229e-02, -2.5030e-02,  ..., -1.6152e-01,\n",
       "           -1.6121e-01, -1.3918e+00],\n",
       "          [-5.1522e-01, -1.8424e-01,  1.8469e-01,  ..., -1.1343e-03,\n",
       "            6.8209e-01, -2.5981e-01],\n",
       "          ...,\n",
       "          [ 1.9695e-01, -4.1580e-01,  7.3438e-01,  ..., -7.1727e-01,\n",
       "           -1.3861e-01,  4.0739e-01],\n",
       "          [-3.6295e-01,  4.8441e-01, -2.9650e-01,  ..., -1.5341e-01,\n",
       "           -1.5487e-01, -3.4697e-01],\n",
       "          [ 5.1128e-01, -1.1640e-01, -5.6813e-01,  ...,  1.1231e-01,\n",
       "            3.6585e-02, -7.5640e-01]],\n",
       "\n",
       "         [[ 6.5331e-03,  3.8840e-01,  4.4140e-02,  ..., -3.6324e-01,\n",
       "            1.0284e+00,  3.3767e-01],\n",
       "          [ 4.1395e-01,  7.9495e-01,  4.4234e-03,  ..., -9.0859e-02,\n",
       "            5.5713e-01,  2.4490e-01],\n",
       "          [-1.4950e-01, -6.7267e-02,  1.0664e-01,  ..., -2.8552e-02,\n",
       "           -2.0995e-01, -1.2667e-01],\n",
       "          ...,\n",
       "          [-8.9886e-01,  2.8003e-01,  1.2495e+00,  ..., -7.1061e-01,\n",
       "            3.1637e-03,  1.0236e+00],\n",
       "          [ 1.5303e-01,  4.5016e-01,  1.0444e+00,  ..., -4.0885e-01,\n",
       "           -5.0031e-01,  1.4689e+00],\n",
       "          [-5.1015e-01,  6.0724e-01,  3.5820e-01,  ..., -2.3294e-01,\n",
       "           -3.9314e-01,  1.4858e+00]],\n",
       "\n",
       "         ...,\n",
       "\n",
       "         [[ 4.5472e-01, -2.5279e-01,  5.6957e-01,  ...,  1.0791e+00,\n",
       "            6.3123e-01, -6.6741e-01],\n",
       "          [-6.3238e-01,  6.1291e-01, -3.9144e-02,  ...,  3.2977e-01,\n",
       "           -6.0946e-01, -1.2947e+00],\n",
       "          [-2.1665e-01, -1.2385e-01, -7.9525e-02,  ..., -6.4926e-01,\n",
       "           -3.2093e-01,  2.7105e-01],\n",
       "          ...,\n",
       "          [ 6.9266e-01,  6.0720e-01,  9.1364e-01,  ..., -8.6994e-01,\n",
       "            7.3806e-01,  1.6338e+00],\n",
       "          [ 1.6763e-01,  1.0631e+00,  3.0570e-01,  ..., -1.0565e+00,\n",
       "            1.9280e-02,  2.6383e-01],\n",
       "          [ 1.1924e-01, -3.8724e-01, -3.6389e-01,  ..., -3.5922e-01,\n",
       "           -2.7660e-01,  5.8039e-01]],\n",
       "\n",
       "         [[ 6.3839e-01,  6.1364e-01, -4.9624e-01,  ...,  2.2150e-01,\n",
       "            2.9491e-01,  1.2425e-02],\n",
       "          [-5.1003e-01,  7.3202e-01, -1.2822e-01,  ..., -1.5303e-01,\n",
       "            3.4001e-01, -4.6013e-01],\n",
       "          [-4.8867e-01,  5.9664e-01,  3.8696e-01,  ...,  6.6903e-01,\n",
       "           -5.4001e-01, -1.8526e-01],\n",
       "          ...,\n",
       "          [ 3.4051e-01,  1.7551e-01, -1.2416e+00,  ...,  6.2081e-01,\n",
       "           -2.0721e-01, -7.8617e-01],\n",
       "          [-5.6199e-01, -1.7982e-01, -2.2663e-01,  ..., -8.3831e-01,\n",
       "            8.4449e-01, -5.9172e-01],\n",
       "          [-5.4831e-02,  6.2091e-01, -3.7228e-01,  ..., -6.2722e-01,\n",
       "           -2.0344e-01, -2.2388e-01]],\n",
       "\n",
       "         [[-7.5170e-01,  9.5298e-02,  2.9582e-01,  ...,  2.5808e-01,\n",
       "           -3.7485e-01, -1.0043e-01],\n",
       "          [ 6.1175e-01,  2.5041e-02,  3.7317e-01,  ..., -1.1242e-01,\n",
       "           -8.6804e-01,  4.0358e-01],\n",
       "          [ 6.7627e-01, -9.9920e-01,  1.7200e-01,  ...,  5.5745e-01,\n",
       "            5.2504e-01,  1.4926e-01],\n",
       "          ...,\n",
       "          [ 3.1457e-01, -1.2540e-01,  8.6947e-02,  ..., -3.1508e-01,\n",
       "            6.4144e-01, -2.8598e-01],\n",
       "          [ 7.1617e-01,  7.6854e-01,  7.5970e-02,  ...,  6.9494e-02,\n",
       "           -1.1942e+00,  9.9476e-03],\n",
       "          [ 2.3700e-01, -5.3909e-01,  5.4772e-01,  ...,  3.0957e-01,\n",
       "            3.2055e-01,  7.7380e-02]]],\n",
       "\n",
       "\n",
       "        [[[-4.1530e-01,  3.3065e-01,  4.6260e-01,  ...,  5.9777e-01,\n",
       "            4.1650e-01,  7.2452e-01],\n",
       "          [ 8.2420e-02,  9.2009e-02,  6.8567e-01,  ...,  2.0512e-01,\n",
       "           -1.8866e-01,  6.4684e-01],\n",
       "          [ 3.4876e-01,  5.1347e-01, -5.2506e-01,  ...,  4.5531e-01,\n",
       "            3.4851e-01,  8.2345e-02],\n",
       "          ...,\n",
       "          [-3.7994e-01,  6.8201e-01,  2.2537e-02,  ..., -4.4670e-02,\n",
       "            5.3958e-01, -4.9840e-01],\n",
       "          [-2.8976e-01, -3.1474e-01,  6.2161e-02,  ...,  4.6971e-01,\n",
       "            1.0459e-01, -5.9496e-01],\n",
       "          [-9.6174e-01,  9.4193e-01,  8.7937e-01,  ..., -1.7623e-01,\n",
       "           -3.8130e-01,  1.7684e-01]],\n",
       "\n",
       "         [[-7.3072e-02, -3.1398e-01,  5.9876e-01,  ..., -6.0742e-01,\n",
       "           -3.3600e-01, -1.1306e+00],\n",
       "          [ 6.1009e-01,  4.2616e-01,  5.5143e-01,  ..., -1.6418e-03,\n",
       "           -2.0166e-01, -8.7648e-02],\n",
       "          [-1.1441e-01,  3.2009e-01,  3.7560e-01,  ..., -8.3518e-01,\n",
       "           -8.0710e-01, -7.6108e-01],\n",
       "          ...,\n",
       "          [ 3.2219e-01, -2.7408e-01, -1.1467e+00,  ...,  3.7594e-02,\n",
       "           -5.1282e-01,  6.5332e-01],\n",
       "          [ 1.6910e-01, -2.9889e-01, -4.5938e-01,  ...,  9.7921e-02,\n",
       "            2.9772e-01,  3.4682e-01],\n",
       "          [ 2.1810e-02, -2.0671e-01, -5.4420e-02,  ..., -9.8990e-03,\n",
       "            6.0688e-01,  1.0642e-02]],\n",
       "\n",
       "         [[ 4.6817e-01,  2.1850e-01, -2.9098e-01,  ...,  2.3440e-01,\n",
       "            2.9259e-01,  8.6897e-02],\n",
       "          [ 4.9054e-01,  2.9885e-01, -2.2262e-01,  ...,  2.2573e-01,\n",
       "            5.2510e-01,  3.8961e-01],\n",
       "          [ 1.6200e-01, -5.3444e-02, -3.7192e-01,  ..., -6.8173e-01,\n",
       "            1.5238e-01, -1.3306e-01],\n",
       "          ...,\n",
       "          [-3.3487e-01,  2.3684e-01,  1.3274e+00,  ..., -8.9082e-01,\n",
       "           -9.0087e-02,  7.0020e-01],\n",
       "          [ 1.1607e+00, -5.1403e-01,  7.9212e-01,  ...,  3.8036e-02,\n",
       "           -4.2987e-02,  4.8936e-01],\n",
       "          [ 4.9234e-01,  9.7601e-01, -1.5959e-01,  ...,  6.4171e-01,\n",
       "           -6.4502e-01,  1.1080e+00]],\n",
       "\n",
       "         ...,\n",
       "\n",
       "         [[ 5.0709e-01,  1.1382e-01,  7.1021e-01,  ..., -6.1855e-01,\n",
       "            6.9787e-02,  3.0883e-02],\n",
       "          [ 1.0844e+00,  9.3065e-01, -9.7737e-01,  ...,  9.9160e-03,\n",
       "            7.2891e-01,  3.0915e-01],\n",
       "          [ 8.8643e-01, -1.6928e-01, -1.7166e+00,  ...,  3.8608e-01,\n",
       "            1.2124e-01,  1.8887e-01],\n",
       "          ...,\n",
       "          [-4.8120e-01, -7.6754e-01, -1.2199e-01,  ...,  2.0978e-01,\n",
       "            4.7100e-01,  8.1102e-01],\n",
       "          [ 3.3592e-01, -5.9375e-01,  3.8735e-01,  ...,  1.6676e+00,\n",
       "            1.6054e-01,  2.1664e-01],\n",
       "          [ 5.9500e-01,  3.9749e-01,  1.9920e-01,  ...,  2.2808e-01,\n",
       "           -2.6381e-02,  7.0609e-01]],\n",
       "\n",
       "         [[ 3.7927e-02, -4.4035e-01,  1.2644e+00,  ...,  3.0497e-02,\n",
       "           -2.7413e-01, -4.8933e-01],\n",
       "          [-4.2208e-01, -1.5548e-01, -1.7179e-01,  ...,  2.5846e-01,\n",
       "            4.1995e-01,  7.7808e-01],\n",
       "          [-3.5933e-01,  3.1785e-01, -1.1770e+00,  ...,  1.6271e-01,\n",
       "            2.8178e-01, -1.2703e-01],\n",
       "          ...,\n",
       "          [-4.9336e-01,  3.4830e-02, -9.7907e-01,  ..., -1.1999e-01,\n",
       "            8.0686e-02,  6.0553e-01],\n",
       "          [-3.7760e-01, -5.3196e-01,  5.7088e-01,  ...,  2.7904e-02,\n",
       "           -7.7608e-01, -2.1919e-01],\n",
       "          [-6.2476e-01,  1.9683e-01,  5.0530e-01,  ..., -1.9996e-01,\n",
       "            4.4588e-01,  4.8684e-01]],\n",
       "\n",
       "         [[-1.3458e-01,  1.1542e+00, -5.0183e-01,  ...,  3.6789e-02,\n",
       "           -1.5098e-01,  1.9309e-02],\n",
       "          [ 2.9168e-01,  5.1660e-01, -3.8373e-01,  ...,  5.3884e-01,\n",
       "            3.0746e-01,  5.1467e-01],\n",
       "          [-3.6413e-01, -8.3016e-01,  3.2432e-01,  ..., -6.9855e-01,\n",
       "           -6.1767e-01, -4.3169e-01],\n",
       "          ...,\n",
       "          [ 6.0164e-01, -1.1152e-02,  1.1798e+00,  ...,  5.3446e-01,\n",
       "            6.2761e-01,  6.5056e-01],\n",
       "          [-5.7215e-02,  1.1982e+00, -3.4195e-01,  ..., -5.7439e-01,\n",
       "            3.4847e-01,  1.6028e-02],\n",
       "          [ 1.0622e-01,  8.9444e-01, -4.1110e-01,  ...,  1.8869e-01,\n",
       "            1.1830e+00,  6.2736e-04]]],\n",
       "\n",
       "\n",
       "        [[[ 7.8568e-01,  3.9769e-01, -2.8226e-01,  ...,  6.1512e-01,\n",
       "            1.3087e-01,  4.6009e-01],\n",
       "          [ 3.7661e-01,  7.2937e-01,  3.3494e-01,  ...,  5.8310e-01,\n",
       "            1.0088e-01,  2.6442e-01],\n",
       "          [ 2.6297e-01,  9.6136e-01,  5.8390e-01,  ...,  5.7099e-01,\n",
       "            6.5998e-01, -7.8709e-01],\n",
       "          ...,\n",
       "          [ 3.0983e-01, -4.6214e-01, -3.5782e-01,  ...,  4.5244e-01,\n",
       "            4.8543e-01, -5.5133e-02],\n",
       "          [ 1.0652e+00,  7.0000e-02,  6.7002e-01,  ..., -7.2504e-01,\n",
       "            1.2829e+00,  8.9278e-01],\n",
       "          [ 1.9001e-01,  6.4378e-01, -4.9968e-01,  ...,  7.4596e-02,\n",
       "            1.9812e-01, -3.1732e-01]],\n",
       "\n",
       "         [[-7.4160e-01, -3.8481e-01, -1.0686e+00,  ...,  3.5889e-01,\n",
       "           -7.0558e-01,  6.9056e-01],\n",
       "          [-2.5092e-02,  8.0007e-02,  1.3738e-01,  ..., -5.3006e-03,\n",
       "           -5.1961e-01, -1.0114e-01],\n",
       "          [ 7.1562e-03, -6.3571e-01, -3.3338e-01,  ...,  8.2459e-01,\n",
       "           -1.1863e-02,  1.3203e+00],\n",
       "          ...,\n",
       "          [ 2.3694e-01, -1.5498e-01,  5.0810e-01,  ...,  5.1626e-01,\n",
       "            7.3098e-02, -1.9410e-01],\n",
       "          [-7.3313e-01, -4.7879e-01, -6.4437e-01,  ..., -8.5048e-01,\n",
       "           -7.5442e-01, -8.8801e-01],\n",
       "          [ 2.7369e-01, -2.7260e-01, -6.6225e-02,  ...,  5.6251e-01,\n",
       "            5.8259e-01,  1.7788e-01]],\n",
       "\n",
       "         [[ 8.3852e-01, -6.0085e-01,  2.5722e-01,  ..., -6.7450e-01,\n",
       "            3.8630e-01,  3.5363e-01],\n",
       "          [-7.1934e-02,  1.0515e-01,  8.9783e-01,  ..., -1.2921e-01,\n",
       "           -2.8568e-01, -1.3592e-01],\n",
       "          [-4.2724e-01, -2.4191e-02,  3.1238e-01,  ..., -8.0638e-01,\n",
       "           -2.2991e-01, -3.9086e-01],\n",
       "          ...,\n",
       "          [-8.9699e-02,  6.0746e-01,  4.1641e-01,  ...,  5.3552e-01,\n",
       "            4.5377e-01, -2.0675e-01],\n",
       "          [-1.7580e-01, -1.4946e-01,  6.2200e-01,  ..., -1.8166e-01,\n",
       "           -2.4417e-01,  1.9206e-01],\n",
       "          [-2.5570e-01,  1.0812e-01, -3.4766e-01,  ...,  4.3672e-01,\n",
       "           -5.1370e-01, -1.4706e-02]],\n",
       "\n",
       "         ...,\n",
       "\n",
       "         [[-2.6737e-01, -1.0934e+00, -9.2960e-01,  ..., -1.3287e-01,\n",
       "            5.6501e-01,  3.1559e-01],\n",
       "          [-3.4989e-01, -4.7907e-01,  6.6035e-01,  ...,  4.9482e-01,\n",
       "           -8.1601e-02,  3.8103e-02],\n",
       "          [ 7.6517e-01, -9.1230e-02, -3.2353e-01,  ...,  8.3565e-01,\n",
       "            9.7678e-01,  1.0474e+00],\n",
       "          ...,\n",
       "          [ 8.1089e-01,  5.1642e-02,  8.4717e-01,  ...,  6.4644e-02,\n",
       "           -7.7914e-01, -5.6652e-01],\n",
       "          [-1.1239e+00, -2.5843e-01,  5.6666e-01,  ...,  3.4150e-01,\n",
       "           -3.8107e-01, -1.2094e+00],\n",
       "          [-2.1104e-01,  8.1699e-01,  2.3620e-01,  ...,  3.3120e-01,\n",
       "            1.4734e-01, -2.8184e-01]],\n",
       "\n",
       "         [[-5.6665e-02, -9.4086e-01,  2.8701e-01,  ...,  9.0819e-01,\n",
       "           -1.3263e-01,  4.0030e-01],\n",
       "          [ 7.0299e-01,  7.3055e-01,  8.6046e-01,  ...,  5.6683e-01,\n",
       "           -4.1427e-01,  4.7428e-01],\n",
       "          [ 8.5099e-02,  7.9255e-01, -4.8565e-02,  ...,  1.0452e+00,\n",
       "           -1.3554e-01, -3.5569e-01],\n",
       "          ...,\n",
       "          [ 7.5592e-01, -1.2023e-01, -8.6658e-01,  ..., -2.7907e-01,\n",
       "           -3.0779e-01, -1.8107e-01],\n",
       "          [ 4.5164e-02, -2.0343e-01, -3.4179e-01,  ...,  3.9856e-01,\n",
       "            7.8423e-01, -2.1619e-01],\n",
       "          [ 1.5717e-02,  2.7902e-01, -6.0380e-01,  ..., -3.4138e-01,\n",
       "           -1.6983e-01,  7.5246e-01]],\n",
       "\n",
       "         [[-6.6341e-01, -9.5956e-02,  4.0126e-02,  ...,  1.0195e+00,\n",
       "            5.6712e-02,  8.8576e-02],\n",
       "          [ 3.1029e-01,  2.0698e-01,  1.1523e-01,  ...,  4.5751e-01,\n",
       "            8.9728e-01, -3.8589e-01],\n",
       "          [-4.1962e-01, -5.4932e-01, -3.8067e-01,  ...,  2.2959e-01,\n",
       "            2.1095e-01,  2.4041e-01],\n",
       "          ...,\n",
       "          [ 1.9564e-03,  6.4716e-01,  6.8178e-01,  ...,  1.1577e-01,\n",
       "            4.3138e-01, -2.5390e-01],\n",
       "          [-1.7740e-01,  6.1775e-01, -5.3509e-01,  ...,  1.5240e-01,\n",
       "           -1.0564e+00, -1.5110e-01],\n",
       "          [ 5.0940e-01, -3.8448e-01,  3.5857e-01,  ...,  9.2572e-01,\n",
       "            4.1622e-01,  1.4424e-02]]],\n",
       "\n",
       "\n",
       "        ...,\n",
       "\n",
       "\n",
       "        [[[ 5.6705e-01,  7.4300e-02,  3.3194e-01,  ..., -3.8850e-01,\n",
       "            1.3460e-01,  5.9108e-01],\n",
       "          [-7.4842e-02, -1.3350e-01, -1.7578e-01,  ...,  7.9472e-01,\n",
       "           -1.1918e-01,  2.1915e-01],\n",
       "          [-1.9184e-01, -1.2676e-01,  4.0206e-01,  ..., -1.4211e-02,\n",
       "            4.8358e-01, -3.6022e-01],\n",
       "          ...,\n",
       "          [ 8.8748e-01, -1.2982e-01,  4.8920e-01,  ...,  4.2529e-01,\n",
       "           -8.0048e-01, -3.3147e-01],\n",
       "          [-2.4026e-01,  1.1746e+00, -8.2794e-01,  ...,  1.1393e+00,\n",
       "           -1.2459e+00,  9.4183e-01],\n",
       "          [-9.5917e-01,  8.0074e-01,  5.6514e-01,  ...,  6.9814e-02,\n",
       "            1.2124e+00,  3.3804e-01]],\n",
       "\n",
       "         [[-1.1257e-01, -2.4586e-02, -5.1193e-01,  ..., -3.6908e-01,\n",
       "           -7.0167e-01,  7.5481e-03],\n",
       "          [-1.3274e-01, -9.0542e-01,  9.4380e-02,  ..., -1.2913e+00,\n",
       "            4.1601e-01,  9.1065e-01],\n",
       "          [ 3.9245e-01,  3.1811e-01,  3.4662e-01,  ...,  1.0536e-01,\n",
       "           -7.1355e-01,  5.2885e-01],\n",
       "          ...,\n",
       "          [ 3.7445e-01,  5.0873e-01, -5.4904e-01,  ..., -8.2323e-01,\n",
       "            2.4733e-01, -1.8061e-01],\n",
       "          [ 5.5067e-01, -8.1245e-01,  3.9665e-01,  ..., -1.1607e+00,\n",
       "           -3.3567e-02, -6.7879e-01],\n",
       "          [ 4.8190e-01, -6.0805e-01, -1.4366e+00,  ...,  8.9522e-01,\n",
       "           -6.4488e-01, -2.4177e-01]],\n",
       "\n",
       "         [[-9.2415e-01,  2.2731e-01,  2.9588e-01,  ...,  5.8766e-01,\n",
       "           -2.5353e-02,  1.8574e-01],\n",
       "          [-6.0260e-02, -4.1513e-01,  3.9230e-01,  ...,  8.9014e-01,\n",
       "            6.6459e-01,  1.5531e-01],\n",
       "          [-3.6258e-02,  8.3639e-01,  1.7868e-01,  ...,  9.8324e-01,\n",
       "           -2.7316e-03, -4.4334e-01],\n",
       "          ...,\n",
       "          [ 6.8344e-01,  4.9080e-01, -1.6259e-01,  ..., -1.1045e+00,\n",
       "            7.2946e-01,  6.1607e-01],\n",
       "          [ 1.8197e-02,  4.4843e-01, -2.0229e-01,  ..., -9.4593e-02,\n",
       "            5.9426e-01, -5.0348e-01],\n",
       "          [ 3.5303e-01, -2.3597e-01,  3.8768e-01,  ...,  1.7065e-01,\n",
       "            4.8345e-01,  1.6857e-01]],\n",
       "\n",
       "         ...,\n",
       "\n",
       "         [[-3.6052e-01,  3.3598e-01, -1.4849e-03,  ...,  2.7675e-01,\n",
       "            7.1127e-01, -1.4873e-01],\n",
       "          [ 3.2170e-01,  4.9809e-01,  6.0650e-01,  ...,  3.9262e-01,\n",
       "            7.5174e-01, -6.5704e-01],\n",
       "          [ 1.9651e+00,  5.0930e-01,  1.0357e+00,  ..., -7.0304e-01,\n",
       "            7.0075e-02, -2.4019e-01],\n",
       "          ...,\n",
       "          [ 1.8841e-01, -1.7852e-01, -3.9329e-01,  ..., -8.9575e-02,\n",
       "            5.9694e-01,  1.6331e-01],\n",
       "          [-1.3781e-01, -9.2003e-01,  3.3455e-02,  ..., -1.7767e-01,\n",
       "            8.6388e-01, -2.7599e-01],\n",
       "          [ 1.0260e+00, -1.0304e-02, -2.1210e-01,  ...,  6.8875e-01,\n",
       "           -7.5642e-01,  3.2328e-01]],\n",
       "\n",
       "         [[-2.8244e-01, -6.2468e-01, -2.6395e-01,  ..., -8.5663e-01,\n",
       "           -2.9998e-01,  4.9828e-01],\n",
       "          [-1.8474e-01,  1.6011e-01,  1.0451e-01,  ...,  1.1396e+00,\n",
       "           -9.8149e-02,  2.9965e-01],\n",
       "          [ 1.6506e-01,  3.1092e-01,  6.1819e-02,  ..., -7.7985e-01,\n",
       "            2.1538e-01, -2.9549e-01],\n",
       "          ...,\n",
       "          [ 2.7614e-01, -7.6720e-01, -8.4075e-01,  ...,  1.2029e-01,\n",
       "           -1.1091e+00, -5.4061e-01],\n",
       "          [ 3.5625e-01, -3.3465e-01, -2.9844e-01,  ..., -1.0164e-02,\n",
       "           -7.7379e-01, -6.1257e-01],\n",
       "          [-5.4591e-01,  6.8990e-01,  6.1821e-01,  ...,  4.5712e-01,\n",
       "           -8.6777e-01,  2.0942e-02]],\n",
       "\n",
       "         [[ 4.6079e-01, -3.4119e-01,  3.5424e-01,  ...,  1.2174e-01,\n",
       "           -2.5352e-02, -3.9126e-01],\n",
       "          [ 3.0699e-01, -4.9257e-01, -1.9031e-01,  ...,  1.0965e-01,\n",
       "            1.1285e+00,  7.8811e-01],\n",
       "          [-6.7299e-01,  1.1977e+00, -1.4658e-01,  ...,  7.5793e-01,\n",
       "           -2.2206e-02, -7.8063e-01],\n",
       "          ...,\n",
       "          [ 5.2700e-01,  5.9053e-01,  4.6684e-01,  ..., -4.9883e-01,\n",
       "           -1.0938e-01,  2.1630e-01],\n",
       "          [ 1.5968e-01,  1.1051e-01,  3.5879e-01,  ...,  3.2008e-01,\n",
       "            2.6119e-01,  4.5231e-01],\n",
       "          [ 2.8893e-01,  5.6404e-01,  2.8785e-01,  ...,  5.3858e-02,\n",
       "           -1.3477e-01,  2.5344e-01]]],\n",
       "\n",
       "\n",
       "        [[[-1.3334e-01, -1.2228e-01,  6.0947e-02,  ..., -5.7510e-01,\n",
       "            7.7432e-01, -9.7450e-01],\n",
       "          [-2.5005e-01,  1.3058e+00, -5.5148e-01,  ...,  6.3507e-01,\n",
       "           -2.7957e-02, -6.5197e-01],\n",
       "          [ 5.1109e-01,  4.6363e-02,  3.0309e-01,  ...,  3.0800e-01,\n",
       "            1.3441e+00, -2.0381e-03],\n",
       "          ...,\n",
       "          [ 3.0037e-01, -2.0115e-01, -6.3192e-01,  ..., -2.4166e-01,\n",
       "            1.0066e-01,  3.1447e-01],\n",
       "          [-7.0528e-02, -3.2140e-01,  1.0499e+00,  ...,  4.4041e-01,\n",
       "           -7.2397e-01,  9.9406e-01],\n",
       "          [ 4.6951e-01, -4.5546e-01,  1.8040e-01,  ..., -4.3914e-01,\n",
       "            7.7340e-01, -7.7116e-01]],\n",
       "\n",
       "         [[ 1.8490e-02, -2.2939e-01,  1.8248e-01,  ...,  5.8414e-01,\n",
       "           -1.8491e-01,  3.9767e-01],\n",
       "          [-1.3843e-01, -3.6279e-01,  1.0443e-01,  ..., -8.6661e-01,\n",
       "            2.6018e-01, -3.6809e-01],\n",
       "          [-3.4233e-02, -7.2846e-01,  3.9391e-01,  ...,  1.7014e-01,\n",
       "            2.0861e-02, -3.0023e-01],\n",
       "          ...,\n",
       "          [-5.3367e-01,  3.3118e-01,  1.6845e-01,  ..., -3.1305e-01,\n",
       "            2.7082e-01, -1.7112e-01],\n",
       "          [-5.2642e-01, -4.7963e-01, -4.6213e-01,  ..., -2.2031e-01,\n",
       "            5.5198e-01, -4.9121e-01],\n",
       "          [-2.0520e-01, -6.5805e-02,  7.7786e-01,  ...,  5.0953e-01,\n",
       "            7.0772e-02,  3.0740e-01]],\n",
       "\n",
       "         [[-9.8044e-03, -2.1375e-02,  1.7301e-01,  ...,  3.6055e-01,\n",
       "           -2.7826e-01,  1.1611e+00],\n",
       "          [ 3.3222e-01, -3.5339e-01,  1.4268e-01,  ...,  3.4324e-01,\n",
       "           -5.4509e-01,  3.9933e-01],\n",
       "          [-6.2309e-01, -5.9048e-01,  5.8800e-01,  ...,  5.7207e-01,\n",
       "           -5.2332e-01, -2.5970e-02],\n",
       "          ...,\n",
       "          [-3.9484e-01, -9.1428e-02,  1.9069e-02,  ..., -3.5622e-01,\n",
       "            3.3583e-01,  3.2710e-01],\n",
       "          [ 1.0155e-01,  1.9847e-01,  6.4966e-01,  ...,  9.4875e-02,\n",
       "           -2.3987e-01,  2.3138e-01],\n",
       "          [ 3.7715e-01,  1.4736e+00,  4.7511e-01,  ..., -7.1195e-03,\n",
       "            4.1721e-01, -5.5465e-01]],\n",
       "\n",
       "         ...,\n",
       "\n",
       "         [[-1.4919e-01,  4.7647e-01, -2.1687e-02,  ...,  7.9509e-01,\n",
       "           -7.6207e-01, -4.0948e-02],\n",
       "          [ 4.4593e-01, -1.2901e-01,  1.8345e+00,  ..., -3.3649e-01,\n",
       "            4.0169e-01,  1.0693e+00],\n",
       "          [-2.8289e-01,  5.1293e-01,  1.5589e-01,  ...,  9.6398e-02,\n",
       "            2.8669e-02,  5.9566e-01],\n",
       "          ...,\n",
       "          [-5.3550e-01,  1.5694e+00,  9.0572e-01,  ...,  9.0638e-01,\n",
       "           -6.9809e-01, -2.0745e-02],\n",
       "          [ 9.5355e-01,  1.0322e+00,  8.2289e-01,  ...,  8.6072e-01,\n",
       "            1.0710e+00, -1.2202e+00],\n",
       "          [ 1.9296e-02,  1.1247e+00,  4.8419e-01,  ...,  7.2099e-01,\n",
       "            8.5364e-01,  4.4622e-01]],\n",
       "\n",
       "         [[-6.8101e-01,  5.7137e-01, -9.7285e-01,  ...,  4.9860e-02,\n",
       "            6.9943e-02, -6.2276e-01],\n",
       "          [-3.3175e-01,  2.1186e-02,  4.6852e-01,  ..., -1.8887e-01,\n",
       "           -4.1140e-03,  2.3353e-01],\n",
       "          [-6.3233e-01, -2.6603e-01, -4.5507e-01,  ..., -1.1187e+00,\n",
       "           -1.5665e-03, -4.3285e-01],\n",
       "          ...,\n",
       "          [-5.6949e-01,  1.2885e-01, -1.9287e-01,  ...,  3.1078e-02,\n",
       "           -3.7720e-01,  3.5013e-04],\n",
       "          [ 1.8546e-01, -4.2525e-01, -1.0629e-01,  ...,  4.9081e-01,\n",
       "           -2.2956e-01, -5.3311e-01],\n",
       "          [ 2.4550e-01, -1.6908e-01,  3.0874e-01,  ..., -1.0577e-01,\n",
       "            3.5293e-02, -3.8455e-01]],\n",
       "\n",
       "         [[ 1.2433e+00,  6.1980e-01,  8.7669e-01,  ..., -5.5977e-01,\n",
       "           -3.8018e-01,  1.6265e+00],\n",
       "          [ 3.1900e-01, -7.4226e-01, -4.3561e-02,  ..., -1.5007e-01,\n",
       "            3.8391e-01, -5.8476e-01],\n",
       "          [ 2.5186e-02, -4.7367e-01, -9.4540e-01,  ...,  8.0584e-01,\n",
       "           -7.4805e-01, -6.4879e-02],\n",
       "          ...,\n",
       "          [ 7.5557e-01,  3.4531e-01,  7.9279e-01,  ...,  4.0030e-02,\n",
       "           -3.5966e-01, -8.1930e-02],\n",
       "          [ 4.6237e-01,  9.4625e-02, -1.0040e-01,  ...,  2.9025e-01,\n",
       "            4.9532e-01,  1.4478e-01],\n",
       "          [ 7.4759e-02,  1.5870e+00, -2.5033e-01,  ...,  2.9199e-01,\n",
       "           -6.2150e-01,  8.1166e-01]]],\n",
       "\n",
       "\n",
       "        [[[-6.3833e-02,  9.8390e-01, -7.4429e-03,  ...,  4.1529e-01,\n",
       "            9.4736e-01, -1.1110e-01],\n",
       "          [-2.6002e-01,  4.8802e-01, -2.1618e-01,  ...,  7.1735e-01,\n",
       "            2.1194e-01,  4.6686e-01],\n",
       "          [ 1.7533e-01, -8.3774e-01,  8.4395e-01,  ...,  1.1522e+00,\n",
       "           -8.8802e-01,  8.9868e-01],\n",
       "          ...,\n",
       "          [-1.3115e-01,  1.4116e-01,  1.2471e+00,  ...,  9.1671e-01,\n",
       "           -2.0885e-01, -9.4593e-01],\n",
       "          [-1.0507e-01, -5.1621e-01,  8.0921e-01,  ...,  4.6947e-01,\n",
       "            6.7793e-01, -8.5779e-01],\n",
       "          [ 6.4155e-01, -1.3772e+00,  7.6413e-01,  ..., -9.6813e-02,\n",
       "            8.6383e-01, -1.1965e-01]],\n",
       "\n",
       "         [[ 5.3698e-01,  1.0046e+00, -3.1094e-01,  ...,  9.0841e-01,\n",
       "           -4.2775e-01, -1.3018e-01],\n",
       "          [ 2.8052e-01, -3.9211e-01, -3.4891e-01,  ...,  3.4215e-02,\n",
       "            3.0263e-02, -4.5239e-01],\n",
       "          [-5.1696e-01,  5.0072e-01, -5.2605e-01,  ..., -3.5887e-01,\n",
       "            3.4766e-01, -5.2096e-01],\n",
       "          ...,\n",
       "          [-4.3718e-01,  5.1348e-01, -5.9461e-01,  ..., -5.6917e-02,\n",
       "           -9.4097e-02,  2.0231e-02],\n",
       "          [-5.3970e-01, -3.1667e-02, -3.6459e-01,  ..., -3.6390e-01,\n",
       "            3.5575e-02,  3.8590e-01],\n",
       "          [ 2.8122e-02,  5.3108e-01, -6.6645e-01,  ..., -6.5913e-01,\n",
       "           -1.6595e-01, -2.6295e-02]],\n",
       "\n",
       "         [[ 3.6470e-01, -6.2409e-01, -2.4567e-01,  ..., -1.1407e-01,\n",
       "            1.4341e-02,  6.3697e-02],\n",
       "          [-1.7085e-01, -6.2254e-01,  2.2985e-01,  ..., -8.7079e-02,\n",
       "           -1.9599e-01,  4.5326e-01],\n",
       "          [ 1.3067e-01,  2.1522e-01, -2.0557e-03,  ..., -5.0683e-01,\n",
       "            4.0144e-01,  1.7490e-01],\n",
       "          ...,\n",
       "          [ 3.9739e-01,  5.3497e-01, -1.8928e-02,  ..., -1.7374e-01,\n",
       "           -7.7422e-01,  3.4203e-01],\n",
       "          [ 4.1721e-02,  8.2456e-01,  4.3664e-01,  ...,  4.3683e-01,\n",
       "           -6.6023e-01,  2.0276e-01],\n",
       "          [-6.2703e-02,  3.8546e-01,  5.2773e-01,  ...,  3.1303e-01,\n",
       "           -3.7782e-01,  4.6413e-01]],\n",
       "\n",
       "         ...,\n",
       "\n",
       "         [[-2.0963e-01, -2.8502e-01,  9.8050e-03,  ...,  3.0933e-01,\n",
       "            5.7080e-01,  6.6166e-02],\n",
       "          [ 3.8204e-01, -6.5442e-01,  1.7333e-01,  ..., -9.1186e-02,\n",
       "           -1.2982e-01,  2.0652e-01],\n",
       "          [ 8.5344e-02,  4.9856e-01, -4.8590e-01,  ..., -3.5801e-01,\n",
       "            2.1942e-01,  8.6912e-02],\n",
       "          ...,\n",
       "          [ 8.0561e-01,  4.6945e-01, -1.4783e+00,  ...,  8.0130e-01,\n",
       "            4.6064e-01,  1.0959e+00],\n",
       "          [-2.0742e-01, -4.5373e-01,  6.9773e-02,  ..., -2.0015e-01,\n",
       "            7.9156e-01,  2.0844e+00],\n",
       "          [-6.5693e-02,  1.1772e-01, -1.9910e-01,  ..., -9.7762e-01,\n",
       "            9.0738e-01,  1.7177e+00]],\n",
       "\n",
       "         [[ 2.9502e-01, -1.3593e-01, -1.3629e-01,  ...,  5.4180e-01,\n",
       "            4.3576e-01, -3.7687e-01],\n",
       "          [-1.2581e+00, -5.3859e-01, -2.2245e-01,  ..., -1.7827e-02,\n",
       "           -2.2409e-01,  5.9263e-01],\n",
       "          [-1.0673e+00, -6.3721e-02, -4.3381e-01,  ...,  3.8355e-02,\n",
       "           -1.5717e-01,  2.9988e-01],\n",
       "          ...,\n",
       "          [ 2.4700e-01,  2.3146e-01, -1.0581e+00,  ...,  2.2827e-01,\n",
       "           -1.0937e-01, -6.1835e-01],\n",
       "          [ 3.5104e-02, -4.0933e-01,  6.6928e-01,  ...,  1.9021e-01,\n",
       "            2.1332e-01, -7.4886e-01],\n",
       "          [-1.7858e-01, -1.5577e+00,  3.3940e-01,  ..., -1.0501e+00,\n",
       "           -7.2899e-02,  1.2440e-01]],\n",
       "\n",
       "         [[ 1.9503e-01,  7.6528e-01,  2.8243e-01,  ..., -2.8821e-04,\n",
       "           -1.8512e-01,  5.1792e-01],\n",
       "          [-4.9435e-01, -3.1219e-01, -1.8696e-04,  ..., -7.5052e-01,\n",
       "            2.2383e-01, -2.8819e-02],\n",
       "          [ 3.1243e-01,  9.1988e-01,  2.7461e-01,  ..., -7.3531e-03,\n",
       "            2.3651e-01,  1.1340e-01],\n",
       "          ...,\n",
       "          [ 3.7204e-01, -1.3851e+00,  1.2902e+00,  ..., -1.0211e+00,\n",
       "            1.5873e-01,  5.7959e-01],\n",
       "          [ 5.6331e-03,  5.7375e-01,  8.1222e-01,  ..., -2.5941e-01,\n",
       "            9.2874e-01,  1.4459e-01],\n",
       "          [ 4.4976e-01,  8.9264e-01, -1.5340e-01,  ...,  7.9539e-01,\n",
       "           -4.5220e-01, -4.6394e-01]]]], grad_fn=<ConvolutionBackward0>)"
      ]
     },
     "execution_count": 117,
     "metadata": {},
     "output_type": "execute_result"
    }
   ],
   "source": [
    "output = m(input)\n",
    "output"
   ]
  },
  {
   "cell_type": "code",
   "execution_count": 118,
   "id": "83f2b7ac-2f7f-4b05-a7a1-af75f7b88e18",
   "metadata": {},
   "outputs": [
    {
     "data": {
      "text/plain": [
       "torch.Size([20, 28, 48, 48])"
      ]
     },
     "execution_count": 118,
     "metadata": {},
     "output_type": "execute_result"
    }
   ],
   "source": [
    "output.shape"
   ]
  },
  {
   "cell_type": "code",
   "execution_count": null,
   "id": "3cdc8e69-881a-4867-a797-3ca4881f85e7",
   "metadata": {},
   "outputs": [],
   "source": []
  }
 ],
 "metadata": {
  "kernelspec": {
   "display_name": "Python 3 (ipykernel)",
   "language": "python",
   "name": "python3"
  },
  "language_info": {
   "codemirror_mode": {
    "name": "ipython",
    "version": 3
   },
   "file_extension": ".py",
   "mimetype": "text/x-python",
   "name": "python",
   "nbconvert_exporter": "python",
   "pygments_lexer": "ipython3",
   "version": "3.12.2"
  }
 },
 "nbformat": 4,
 "nbformat_minor": 5
}
